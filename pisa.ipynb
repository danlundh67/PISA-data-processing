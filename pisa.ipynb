{
 "cells": [
  {
   "cell_type": "markdown",
   "metadata": {},
   "source": [
    "# Presenting PISA results\n",
    "## 0. Warming up \n",
    "### a) Reading the data \n",
    "- From Excel file riket2023_åk9_np.xlsx\"\n",
    "- for different sheets representing the sujects"
   ]
  },
  {
   "cell_type": "code",
   "execution_count": 2,
   "metadata": {},
   "outputs": [],
   "source": [
    "import pandas as pd\n",
    "import matplotlib.pyplot as plt\n",
    "def read_data(mysheetname):\n",
    "    df_tmp=pd.read_excel(\"./Data/riket2023_åk9_np.xlsx\", sheet_name=mysheetname, skiprows=8)\n",
    "    df_tmp.columns=['Plats', 'Huvudman','Totalt (A-F)','Flickor (A-F)','Pojkar (A-F)','Totalt (A-E)','Flickor (A-E)','Pojkar (A-E)','Totalt (poäng)','Flickor (poäng)','Pojkar (poäng)']\n",
    "    \n",
    "    # list the numeric columns to be cleaned\n",
    "    numeric_columns = ['Totalt (A-F)', 'Flickor (A-F)', 'Pojkar (A-F)', 'Totalt (A-E)', 'Flickor (A-E)', 'Pojkar (A-E)', 'Totalt (poäng)', 'Flickor (poäng)', 'Pojkar (poäng)']\n",
    "    # Cleaning the data, i.e. removing (replacing) the '~' with ''ArithmeticError \n",
    "    df_tmp[numeric_columns] = df_tmp[numeric_columns].replace('[^0-9.]', '', regex=True)\n",
    "    #df_tmp[numeric_columns] = df_tmp[numeric_columns].astype(float)\n",
    "   \n",
    "    return df_tmp\n",
    "\n",
    "\n",
    "df_engelska=read_data(\"Engelska\")\n",
    "df_matematik=read_data(\"Matematik\")\n",
    "df_svenska=read_data(\"Svenska\")\n",
    "df_sv_andra_sp=read_data(\"Svenska som andraspråk\")\n",
    "# removing the empty row from svenska som andra språk\n",
    "#i = df_sv_andra_sp[df_sv_andra_sp.Huvudman=='Skolverket'].index()\n",
    "df_sv_andra_sp=df_sv_andra_sp.drop(3)\n",
    "\n",
    "\n",
    "# for som reason type casting could not be done in the function read_data, it gives a value error str to float\n",
    "numeric_columns = ['Totalt (A-F)', 'Flickor (A-F)', 'Pojkar (A-F)', 'Totalt (A-E)', 'Flickor (A-E)', 'Pojkar (A-E)', 'Totalt (poäng)', 'Flickor (poäng)', 'Pojkar (poäng)']\n",
    "df_engelska[numeric_columns] = df_engelska[numeric_columns].astype(float)\n",
    "df_matematik[numeric_columns] = df_matematik[numeric_columns].astype(float)\n",
    "df_svenska[numeric_columns] = df_svenska[numeric_columns].astype(float)\n",
    "df_sv_andra_sp[numeric_columns] = df_sv_andra_sp[numeric_columns].astype(float)\n",
    "\n"
   ]
  },
  {
   "cell_type": "markdown",
   "metadata": {},
   "source": [
    "### b) How man has failed mathematics: total, girls and boys "
   ]
  },
  {
   "cell_type": "code",
   "execution_count": 3,
   "metadata": {},
   "outputs": [
    {
     "data": {
      "text/html": [
       "<div>\n",
       "<style scoped>\n",
       "    .dataframe tbody tr th:only-of-type {\n",
       "        vertical-align: middle;\n",
       "    }\n",
       "\n",
       "    .dataframe tbody tr th {\n",
       "        vertical-align: top;\n",
       "    }\n",
       "\n",
       "    .dataframe thead th {\n",
       "        text-align: right;\n",
       "    }\n",
       "</style>\n",
       "<table border=\"1\" class=\"dataframe\">\n",
       "  <thead>\n",
       "    <tr style=\"text-align: right;\">\n",
       "      <th></th>\n",
       "      <th>Total</th>\n",
       "      <th>Girls</th>\n",
       "      <th>Pojkar</th>\n",
       "      <th>Huvudman</th>\n",
       "    </tr>\n",
       "  </thead>\n",
       "  <tbody>\n",
       "    <tr>\n",
       "      <th>0</th>\n",
       "      <td>11637</td>\n",
       "      <td>5824</td>\n",
       "      <td>5797</td>\n",
       "      <td>Samtliga</td>\n",
       "    </tr>\n",
       "    <tr>\n",
       "      <th>1</th>\n",
       "      <td>10015</td>\n",
       "      <td>4967</td>\n",
       "      <td>5034</td>\n",
       "      <td>Kommunal</td>\n",
       "    </tr>\n",
       "    <tr>\n",
       "      <th>2</th>\n",
       "      <td>1601</td>\n",
       "      <td>868</td>\n",
       "      <td>742</td>\n",
       "      <td>Enskild</td>\n",
       "    </tr>\n",
       "    <tr>\n",
       "      <th>3</th>\n",
       "      <td>0</td>\n",
       "      <td>0</td>\n",
       "      <td>0</td>\n",
       "      <td>Skolverket</td>\n",
       "    </tr>\n",
       "  </tbody>\n",
       "</table>\n",
       "</div>"
      ],
      "text/plain": [
       "   Total  Girls  Pojkar    Huvudman\n",
       "0  11637   5824    5797    Samtliga\n",
       "1  10015   4967    5034    Kommunal\n",
       "2   1601    868     742     Enskild\n",
       "3      0      0       0  Skolverket"
      ]
     },
     "execution_count": 3,
     "metadata": {},
     "output_type": "execute_result"
    }
   ],
   "source": [
    "# functions for calculating the number of failed students: total, girls and boys for the \n",
    "# different classes (in \"Huvudman\") \n",
    "def func_failed_tot(row):\n",
    "    z = row['Totalt (A-F)']*(1-row['Totalt (A-E)']/100)\n",
    "    return z\n",
    "\n",
    "def func_failed_girls(row):\n",
    "    z = row['Flickor (A-F)']*(1-row['Flickor (A-E)']/100)\n",
    "    return z\n",
    "\n",
    "def func_failed_boys(row):\n",
    "    z = row['Pojkar (A-F)']*(1-row['Pojkar (A-E)']/100)\n",
    "    return z\n",
    "\n",
    "df_failed=pd.DataFrame()\n",
    "\n",
    "df_failed['Total']=df_matematik.apply(func_failed_tot, axis=1).astype(int)\n",
    "\n",
    "df_failed['Girls']=df_matematik.apply(func_failed_girls, axis=1).astype(int)\n",
    "\n",
    "df_failed['Pojkar']=df_matematik.apply(func_failed_boys, axis=1).astype(int)\n",
    "\n",
    "df_failed[['Huvudman']] =df_matematik[['Huvudman']]\n",
    "df_failed\n",
    "\n",
    "# content of df_failed contains the number of failed students in mathematics for \n",
    "# the different classes of\"Huvudman\"\n"
   ]
  },
  {
   "cell_type": "markdown",
   "metadata": {},
   "source": [
    "### c) Bar chart for the total score in the different subjects\n",
    "- initially we add these to a joint dataframe that is used for creating the barchart\n"
   ]
  },
  {
   "cell_type": "code",
   "execution_count": 4,
   "metadata": {},
   "outputs": [],
   "source": [
    "\n",
    "def get_scores(df_subject, subject):\n",
    "    df_tmp=pd.DataFrame()\n",
    "    df_tmp[['Score','Huvudman']]=df_subject[['Totalt (poäng)','Huvudman']]\n",
    "    df_tmp.insert(1,'Subject', subject)\n",
    "    return df_tmp\n",
    "df_eng=get_scores(df_engelska,'English')\n",
    "df_math=get_scores(df_matematik,'Math')\n",
    "df_swed=get_scores(df_svenska,'Swedish')\n",
    "df_sv2sp=get_scores(df_sv_andra_sp,\"Swedish 2nd lang\")\n",
    "\n",
    "df_all_scores= pd.concat([df_eng, df_math, df_swed, df_sv2sp])\n",
    "\n"
   ]
  },
  {
   "cell_type": "markdown",
   "metadata": {},
   "source": [
    "Fixing a grouped barchart"
   ]
  },
  {
   "cell_type": "markdown",
   "metadata": {},
   "source": []
  },
  {
   "cell_type": "code",
   "execution_count": 5,
   "metadata": {},
   "outputs": [
    {
     "data": {
      "image/png": "[encoded data removed]",
      "text/plain": [
       "<Figure size 1000x600 with 1 Axes>"
      ]
     },
     "metadata": {},
     "output_type": "display_data"
    }
   ],
   "source": [
    "\n",
    "df_pivot = df_all_scores.pivot(index='Subject', columns='Huvudman', values='Score')\n",
    "ax = df_pivot.plot(kind='bar', stacked=False, figsize=(10, 6))\n",
    "\n",
    "# Adding labels and title\n",
    "plt.xlabel('')\n",
    "plt.ylabel('Score')\n",
    "plt.title('Scores in subjects by principal')\n",
    "ax.spines['top'].set_visible(False)\n",
    "ax.spines['right'].set_visible(False)\n",
    "ax.legend(title='Principal')\n",
    "plt.show()"
   ]
  },
  {
   "cell_type": "markdown",
   "metadata": {},
   "source": [
    "### d/e) Barcharts in subplot for the different subjects"
   ]
  },
  {
   "cell_type": "code",
   "execution_count": 53,
   "metadata": {},
   "outputs": [
    {
     "data": {
      "text/html": [
       "<div>\n",
       "<style scoped>\n",
       "    .dataframe tbody tr th:only-of-type {\n",
       "        vertical-align: middle;\n",
       "    }\n",
       "\n",
       "    .dataframe tbody tr th {\n",
       "        vertical-align: top;\n",
       "    }\n",
       "\n",
       "    .dataframe thead th {\n",
       "        text-align: right;\n",
       "    }\n",
       "</style>\n",
       "<table border=\"1\" class=\"dataframe\">\n",
       "  <thead>\n",
       "    <tr style=\"text-align: right;\">\n",
       "      <th>Huvudman</th>\n",
       "      <th>Enskild</th>\n",
       "      <th>Kommunal</th>\n",
       "      <th>Samtliga</th>\n",
       "      <th>Skolverket</th>\n",
       "    </tr>\n",
       "    <tr>\n",
       "      <th>Subject</th>\n",
       "      <th></th>\n",
       "      <th></th>\n",
       "      <th></th>\n",
       "      <th></th>\n",
       "    </tr>\n",
       "  </thead>\n",
       "  <tbody>\n",
       "    <tr>\n",
       "      <th>Swedish</th>\n",
       "      <td>14.4</td>\n",
       "      <td>13.3</td>\n",
       "      <td>13.6</td>\n",
       "      <td>15.0</td>\n",
       "    </tr>\n",
       "  </tbody>\n",
       "</table>\n",
       "</div>"
      ],
      "text/plain": [
       "Huvudman  Enskild  Kommunal  Samtliga  Skolverket\n",
       "Subject                                          \n",
       "Swedish      14.4      13.3      13.6        15.0"
      ]
     },
     "execution_count": 53,
     "metadata": {},
     "output_type": "execute_result"
    }
   ],
   "source": [
    "df_pivot_swed"
   ]
  },
  {
   "cell_type": "code",
   "execution_count": 77,
   "metadata": {},
   "outputs": [
    {
     "data": {
      "text/plain": [
       "[Text(0, 0, ''), Text(1, 0, ''), Text(2, 0, '')]"
      ]
     },
     "execution_count": 77,
     "metadata": {},
     "output_type": "execute_result"
    },
    {
     "data": {
      "image/png": "[encoded data removed]",
      "text/plain": [
       "<Figure size 640x480 with 4 Axes>"
      ]
     },
     "metadata": {},
     "output_type": "display_data"
    }
   ],
   "source": [
    "fig, axes = plt.subplots(nrows=2, ncols=2, sharey='all', squeeze=True)\n",
    "#df_pivot_swed = df_swed.pivot(index='Subject', columns='Huvudman', values='Score')\n",
    "x1=df_swed.plot(ax=axes[0,0],kind='bar', stacked=False, legend=False, title='Swedish')\n",
    "#x1.label_outer(remove_inner_ticks=True)\n",
    "x1.spines[\"top\"].set_visible(False)\n",
    "x1.spines[\"right\"].set_visible(False)\n",
    "x1.set_xticklabels([])\n",
    "\n",
    "#df_swed.plot(ax=axes[0,0], kind='bar', title='Swedish',x='Huvudman', y='Score', xlabel='')\n",
    "\n",
    "#df_pivot_math = df_math.pivot(index='Subject', columns='Huvudman', values='Score')\n",
    "x2=df_math.plot(ax=axes[0,1],kind='bar', stacked=False, legend=False, title='Math')\n",
    "#x2.label_outer(remove_inner_ticks=True)\n",
    "x2.spines[\"top\"].set_visible(False)\n",
    "x2.spines[\"right\"].set_visible(False)\n",
    "x2.set_xticklabels([])\n",
    "\n",
    "# df_pivot_eng = df_eng.pivot(index='Subject', columns='Huvudman', values='Score')\n",
    "x3=df_eng.plot(ax=axes[1,0],kind='bar', stacked=False, legend=['Enskild', 'Kommunal', 'Samtliga','Skolverket'] ,title='English')\n",
    "x3.label_outer(remove_inner_ticks=True)\n",
    "x3.legend( bbox_to_anchor=(3.0, 3.0),fontsize='small')\n",
    "x3.spines[\"top\"].set_visible(False)\n",
    "x3.spines[\"right\"].set_visible(False)\n",
    "x3.set_xticklabels([])\n",
    "\n",
    "# #df_math.plot(ax=axes[0,1], kind='bar', title='Math', x='Huvudman', y='Score', )\n",
    "# #df_eng.plot(ax=axes[1,0], kind='bar', title='English', x='Huvudman', y='Score')\n",
    "\n",
    "# df_pivot_sv2sp = df_sv2sp.pivot(index='Subject', columns='Huvudman', values='Score')\n",
    "x4=df_sv2sp.plot(ax=axes[1,1],kind='bar', stacked=False, legend=False, title='Swe 2nd language')\n",
    "# #x4.label_outer(remove_inner_ticks=True)\n",
    "x4.spines[\"top\"].set_visible(False)\n",
    "x4.spines[\"right\"].set_visible(False)\n",
    "x4.set_xticklabels([])\n",
    "# #df_sv2sp.plot(ax=axes[1,1], kind='bar', title='Swedish 2nd language', x='Huvudman', y='Score')\n",
    "\n"
   ]
  },
  {
   "cell_type": "markdown",
   "metadata": {},
   "source": []
  },
  {
   "cell_type": "code",
   "execution_count": 165,
   "metadata": {},
   "outputs": [
    {
     "data": {
      "text/plain": [
       "['Samtliga', 'Kommunal', 'Enskild', 'Skolverket']"
      ]
     },
     "execution_count": 165,
     "metadata": {},
     "output_type": "execute_result"
    }
   ],
   "source": [
    "leg=list(df_swed['Huvudman'])\n",
    "leg"
   ]
  },
  {
   "cell_type": "markdown",
   "metadata": {},
   "source": []
  }
 ],
 "metadata": {
  "kernelspec": {
   "display_name": "venv",
   "language": "python",
   "name": "python3"
  },
  "language_info": {
   "codemirror_mode": {
    "name": "ipython",
    "version": 3
   },
   "file_extension": ".py",
   "mimetype": "text/x-python",
   "name": "python",
   "nbconvert_exporter": "python",
   "pygments_lexer": "ipython3",
   "version": "3.11.7"
  }
 },
 "nbformat": 4,
 "nbformat_minor": 2
}
