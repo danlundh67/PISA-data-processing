{
 "cells": [
  {
   "cell_type": "markdown",
   "metadata": {},
   "source": [
    "# Presenting PISA results\n",
    "## 0. Warming up \n",
    "### Reading the data \n",
    "- From Excel file riket2023_åk9_np.xlsx\"\n",
    "- for different sheets representing the sujects"
   ]
  },
  {
   "cell_type": "code",
   "execution_count": 101,
   "metadata": {},
   "outputs": [],
   "source": [
    "import pandas as pd\n",
    "import matplotlib.pyplot as plt\n",
    "def read_data(mysheetname):\n",
    "    df_tmp=pd.read_excel(\"./Data/riket2023_åk9_np.xlsx\", sheet_name=mysheetname, skiprows=8)\n",
    "    df_tmp.columns=['Plats', 'Huvudman','Totalt (A-F)','Flickor (A-F)','Pojkar (A-F)','Totalt (A-E)','Flickor (A-E)','Pojkar (A-E)','Totalt (poäng)','Flickor (poäng)','Pojkar (poäng)']\n",
    "    \n",
    "    # list the numeric columns to be cleaned\n",
    "    numeric_columns = ['Totalt (A-F)', 'Flickor (A-F)', 'Pojkar (A-F)', 'Totalt (A-E)', 'Flickor (A-E)', 'Pojkar (A-E)', 'Totalt (poäng)', 'Flickor (poäng)', 'Pojkar (poäng)']\n",
    "    # Cleaning the data, i.e. removing (replacing) the '~' with ''ArithmeticError \n",
    "    df_tmp[numeric_columns] = df_tmp[numeric_columns].replace('[^0-9.]', '', regex=True)\n",
    "    #df_tmp[numeric_columns] = df_tmp[numeric_columns].astype(float)\n",
    "   \n",
    "    return df_tmp\n",
    "\n",
    "\n",
    "df_engelska=read_data(\"Engelska\")\n",
    "df_matematik=read_data(\"Matematik\")\n",
    "df_svenska=read_data(\"Svenska\")\n",
    "df_sv_andra_sp=read_data(\"Svenska som andraspråk\")\n",
    "# removing the empty row from svenska som andra språk\n",
    "#i = df_sv_andra_sp[df_sv_andra_sp.Huvudman=='Skolverket'].index()\n",
    "df_sv_andra_sp=df_sv_andra_sp.drop(3)\n",
    "\n",
    "\n",
    "# for som reason type casting could not be done in the function read_data, it gives a value error str to float\n",
    "numeric_columns = ['Totalt (A-F)', 'Flickor (A-F)', 'Pojkar (A-F)', 'Totalt (A-E)', 'Flickor (A-E)', 'Pojkar (A-E)', 'Totalt (poäng)', 'Flickor (poäng)', 'Pojkar (poäng)']\n",
    "df_engelska[numeric_columns] = df_engelska[numeric_columns].astype(float)\n",
    "df_matematik[numeric_columns] = df_matematik[numeric_columns].astype(float)\n",
    "df_svenska[numeric_columns] = df_svenska[numeric_columns].astype(float)\n",
    "df_sv_andra_sp[numeric_columns] = df_sv_andra_sp[numeric_columns].astype(float)\n",
    "\n"
   ]
  },
  {
   "cell_type": "markdown",
   "metadata": {},
   "source": [
    "### How man has failed mathematics"
   ]
  },
  {
   "cell_type": "code",
   "execution_count": 113,
   "metadata": {},
   "outputs": [
    {
     "data": {
      "text/html": [
       "<div>\n",
       "<style scoped>\n",
       "    .dataframe tbody tr th:only-of-type {\n",
       "        vertical-align: middle;\n",
       "    }\n",
       "\n",
       "    .dataframe tbody tr th {\n",
       "        vertical-align: top;\n",
       "    }\n",
       "\n",
       "    .dataframe thead th {\n",
       "        text-align: right;\n",
       "    }\n",
       "</style>\n",
       "<table border=\"1\" class=\"dataframe\">\n",
       "  <thead>\n",
       "    <tr style=\"text-align: right;\">\n",
       "      <th></th>\n",
       "      <th>Total</th>\n",
       "      <th>Girls</th>\n",
       "      <th>Pojkar</th>\n",
       "      <th>Huvudman</th>\n",
       "    </tr>\n",
       "  </thead>\n",
       "  <tbody>\n",
       "    <tr>\n",
       "      <th>0</th>\n",
       "      <td>11637</td>\n",
       "      <td>5824</td>\n",
       "      <td>5797</td>\n",
       "      <td>Samtliga</td>\n",
       "    </tr>\n",
       "    <tr>\n",
       "      <th>1</th>\n",
       "      <td>10015</td>\n",
       "      <td>4967</td>\n",
       "      <td>5034</td>\n",
       "      <td>Kommunal</td>\n",
       "    </tr>\n",
       "    <tr>\n",
       "      <th>2</th>\n",
       "      <td>1601</td>\n",
       "      <td>868</td>\n",
       "      <td>742</td>\n",
       "      <td>Enskild</td>\n",
       "    </tr>\n",
       "    <tr>\n",
       "      <th>3</th>\n",
       "      <td>0</td>\n",
       "      <td>0</td>\n",
       "      <td>0</td>\n",
       "      <td>Skolverket</td>\n",
       "    </tr>\n",
       "  </tbody>\n",
       "</table>\n",
       "</div>"
      ],
      "text/plain": [
       "   Total  Girls  Pojkar    Huvudman\n",
       "0  11637   5824    5797    Samtliga\n",
       "1  10015   4967    5034    Kommunal\n",
       "2   1601    868     742     Enskild\n",
       "3      0      0       0  Skolverket"
      ]
     },
     "execution_count": 113,
     "metadata": {},
     "output_type": "execute_result"
    }
   ],
   "source": [
    "# functions for calculating the number of failed students: total, girls and boys for the \n",
    "# different classes (in \"Huvudman\") \n",
    "def func_failed_tot(row):\n",
    "    z = row['Totalt (A-F)']*(1-row['Totalt (A-E)']/100)\n",
    "    return z\n",
    "\n",
    "def func_failed_girls(row):\n",
    "    z = row['Flickor (A-F)']*(1-row['Flickor (A-E)']/100)\n",
    "    return z\n",
    "\n",
    "def func_failed_boys(row):\n",
    "    z = row['Pojkar (A-F)']*(1-row['Pojkar (A-E)']/100)\n",
    "    return z\n",
    "\n",
    "df_failed=pd.DataFrame()\n",
    "\n",
    "df_failed['Total']=df_matematik.apply(func_failed_tot, axis=1).astype(int)\n",
    "\n",
    "df_failed['Girls']=df_matematik.apply(func_failed_girls, axis=1).astype(int)\n",
    "\n",
    "df_failed['Pojkar']=df_matematik.apply(func_failed_boys, axis=1).astype(int)\n",
    "\n",
    "df_failed[['Huvudman']] =df_matematik[['Huvudman']]\n",
    "df_failed\n",
    "\n",
    "# content of df_failed contains the number of failed students in mathematics for \n",
    "# the different classes of\"Huvudman\"\n"
   ]
  },
  {
   "cell_type": "markdown",
   "metadata": {},
   "source": [
    "### Bar chart for the score in the different subjects\n",
    "- initially we add these to a joint datafram that is used for creating the bar chart"
   ]
  },
  {
   "cell_type": "code",
   "execution_count": 123,
   "metadata": {},
   "outputs": [
    {
     "data": {
      "text/html": [
       "<div>\n",
       "<style scoped>\n",
       "    .dataframe tbody tr th:only-of-type {\n",
       "        vertical-align: middle;\n",
       "    }\n",
       "\n",
       "    .dataframe tbody tr th {\n",
       "        vertical-align: top;\n",
       "    }\n",
       "\n",
       "    .dataframe thead th {\n",
       "        text-align: right;\n",
       "    }\n",
       "</style>\n",
       "<table border=\"1\" class=\"dataframe\">\n",
       "  <thead>\n",
       "    <tr style=\"text-align: right;\">\n",
       "      <th></th>\n",
       "      <th>Score</th>\n",
       "      <th>Subject</th>\n",
       "    </tr>\n",
       "  </thead>\n",
       "  <tbody>\n",
       "    <tr>\n",
       "      <th>0</th>\n",
       "      <td>11.9</td>\n",
       "      <td>Math</td>\n",
       "    </tr>\n",
       "    <tr>\n",
       "      <th>1</th>\n",
       "      <td>11.6</td>\n",
       "      <td>Math</td>\n",
       "    </tr>\n",
       "    <tr>\n",
       "      <th>2</th>\n",
       "      <td>13.0</td>\n",
       "      <td>Math</td>\n",
       "    </tr>\n",
       "    <tr>\n",
       "      <th>3</th>\n",
       "      <td>14.1</td>\n",
       "      <td>Math</td>\n",
       "    </tr>\n",
       "  </tbody>\n",
       "</table>\n",
       "</div>"
      ],
      "text/plain": [
       "   Score Subject\n",
       "0   11.9    Math\n",
       "1   11.6    Math\n",
       "2   13.0    Math\n",
       "3   14.1    Math"
      ]
     },
     "execution_count": 123,
     "metadata": {},
     "output_type": "execute_result"
    }
   ],
   "source": [
    "df_tmp=pd.DataFrame()\n",
    "\n",
    "df_tmp[['Score']]=df_matematik[['Totalt (poäng)']]\n",
    "df_tmp.insert(1,'Subject','Math')\n",
    "df_tmp"
   ]
  },
  {
   "cell_type": "code",
   "execution_count": null,
   "metadata": {},
   "outputs": [],
   "source": []
  }
 ],
 "metadata": {
  "kernelspec": {
   "display_name": "venv",
   "language": "python",
   "name": "python3"
  },
  "language_info": {
   "codemirror_mode": {
    "name": "ipython",
    "version": 3
   },
   "file_extension": ".py",
   "mimetype": "text/x-python",
   "name": "python",
   "nbconvert_exporter": "python",
   "pygments_lexer": "ipython3",
   "version": "3.11.7"
  }
 },
 "nbformat": 4,
 "nbformat_minor": 2
}
