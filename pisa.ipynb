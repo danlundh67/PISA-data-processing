{
 "cells": [
  {
   "cell_type": "markdown",
   "metadata": {},
   "source": [
    "# Presenting PISA results\n",
    "## 0. Warming up \n",
    "### a) Reading the data \n",
    "- From Excel file riket2023_åk9_np.xlsx\"\n",
    "- for different sheets representing the sujects"
   ]
  },
  {
   "cell_type": "code",
   "execution_count": 2,
   "metadata": {},
   "outputs": [],
   "source": [
    "import pandas as pd\n",
    "import matplotlib.pyplot as plt\n",
    "def read_data(mysheetname):\n",
    "    df_tmp=pd.read_excel(\"./Data/riket2023_åk9_np.xlsx\", sheet_name=mysheetname, skiprows=8)\n",
    "    df_tmp.columns=['Plats', 'Huvudman','Totalt (A-F)','Flickor (A-F)','Pojkar (A-F)','Totalt (A-E)','Flickor (A-E)','Pojkar (A-E)','Totalt (poäng)','Flickor (poäng)','Pojkar (poäng)']\n",
    "    \n",
    "    # list the numeric columns to be cleaned\n",
    "    numeric_columns = ['Totalt (A-F)', 'Flickor (A-F)', 'Pojkar (A-F)', 'Totalt (A-E)', 'Flickor (A-E)', 'Pojkar (A-E)', 'Totalt (poäng)', 'Flickor (poäng)', 'Pojkar (poäng)']\n",
    "    # Cleaning the data, i.e. removing (replacing) the '~' with ''ArithmeticError \n",
    "    df_tmp[numeric_columns] = df_tmp[numeric_columns].replace('[^0-9.]', '', regex=True)\n",
    "    #df_tmp[numeric_columns] = df_tmp[numeric_columns].astype(float)\n",
    "   \n",
    "    return df_tmp\n",
    "\n",
    "\n",
    "df_engelska=read_data(\"Engelska\")\n",
    "df_matematik=read_data(\"Matematik\")\n",
    "df_svenska=read_data(\"Svenska\")\n",
    "df_sv_andra_sp=read_data(\"Svenska som andraspråk\")\n",
    "# removing the empty row from svenska som andra språk\n",
    "#i = df_sv_andra_sp[df_sv_andra_sp.Huvudman=='Skolverket'].index()\n",
    "df_sv_andra_sp=df_sv_andra_sp.drop(3)\n",
    "\n",
    "\n",
    "# for som reason type casting could not be done in the function read_data, it gives a value error str to float\n",
    "numeric_columns = ['Totalt (A-F)', 'Flickor (A-F)', 'Pojkar (A-F)', 'Totalt (A-E)', 'Flickor (A-E)', 'Pojkar (A-E)', 'Totalt (poäng)', 'Flickor (poäng)', 'Pojkar (poäng)']\n",
    "df_engelska[numeric_columns] = df_engelska[numeric_columns].astype(float)\n",
    "df_matematik[numeric_columns] = df_matematik[numeric_columns].astype(float)\n",
    "df_svenska[numeric_columns] = df_svenska[numeric_columns].astype(float)\n",
    "df_sv_andra_sp[numeric_columns] = df_sv_andra_sp[numeric_columns].astype(float)\n",
    "\n",
    "# Defining colors for charts/plots\n",
    "GRAY1 = \"#6b7280\"\n"
   ]
  },
  {
   "cell_type": "markdown",
   "metadata": {},
   "source": [
    "### b) How man has failed mathematics: total, girls and boys "
   ]
  },
  {
   "cell_type": "code",
   "execution_count": 3,
   "metadata": {},
   "outputs": [
    {
     "data": {
      "text/html": [
       "<div>\n",
       "<style scoped>\n",
       "    .dataframe tbody tr th:only-of-type {\n",
       "        vertical-align: middle;\n",
       "    }\n",
       "\n",
       "    .dataframe tbody tr th {\n",
       "        vertical-align: top;\n",
       "    }\n",
       "\n",
       "    .dataframe thead th {\n",
       "        text-align: right;\n",
       "    }\n",
       "</style>\n",
       "<table border=\"1\" class=\"dataframe\">\n",
       "  <thead>\n",
       "    <tr style=\"text-align: right;\">\n",
       "      <th></th>\n",
       "      <th>Total</th>\n",
       "      <th>Girls</th>\n",
       "      <th>Pojkar</th>\n",
       "      <th>Huvudman</th>\n",
       "    </tr>\n",
       "  </thead>\n",
       "  <tbody>\n",
       "    <tr>\n",
       "      <th>0</th>\n",
       "      <td>11637</td>\n",
       "      <td>5824</td>\n",
       "      <td>5797</td>\n",
       "      <td>Samtliga</td>\n",
       "    </tr>\n",
       "    <tr>\n",
       "      <th>1</th>\n",
       "      <td>10015</td>\n",
       "      <td>4967</td>\n",
       "      <td>5034</td>\n",
       "      <td>Kommunal</td>\n",
       "    </tr>\n",
       "    <tr>\n",
       "      <th>2</th>\n",
       "      <td>1601</td>\n",
       "      <td>868</td>\n",
       "      <td>742</td>\n",
       "      <td>Enskild</td>\n",
       "    </tr>\n",
       "    <tr>\n",
       "      <th>3</th>\n",
       "      <td>0</td>\n",
       "      <td>0</td>\n",
       "      <td>0</td>\n",
       "      <td>Skolverket</td>\n",
       "    </tr>\n",
       "  </tbody>\n",
       "</table>\n",
       "</div>"
      ],
      "text/plain": [
       "   Total  Girls  Pojkar    Huvudman\n",
       "0  11637   5824    5797    Samtliga\n",
       "1  10015   4967    5034    Kommunal\n",
       "2   1601    868     742     Enskild\n",
       "3      0      0       0  Skolverket"
      ]
     },
     "execution_count": 3,
     "metadata": {},
     "output_type": "execute_result"
    }
   ],
   "source": [
    "# functions for calculating the number of failed students: total, girls and boys for the \n",
    "# different classes (in \"Huvudman\") \n",
    "def func_failed_tot(row):\n",
    "    z = row['Totalt (A-F)']*(1-row['Totalt (A-E)']/100)\n",
    "    return z\n",
    "\n",
    "def func_failed_girls(row):\n",
    "    z = row['Flickor (A-F)']*(1-row['Flickor (A-E)']/100)\n",
    "    return z\n",
    "\n",
    "def func_failed_boys(row):\n",
    "    z = row['Pojkar (A-F)']*(1-row['Pojkar (A-E)']/100)\n",
    "    return z\n",
    "\n",
    "df_failed=pd.DataFrame()\n",
    "\n",
    "df_failed['Total']=df_matematik.apply(func_failed_tot, axis=1).astype(int)\n",
    "\n",
    "df_failed['Girls']=df_matematik.apply(func_failed_girls, axis=1).astype(int)\n",
    "\n",
    "df_failed['Pojkar']=df_matematik.apply(func_failed_boys, axis=1).astype(int)\n",
    "\n",
    "df_failed[['Huvudman']] =df_matematik[['Huvudman']]\n",
    "df_failed\n",
    "\n",
    "# content of df_failed contains the number of failed students in mathematics for \n",
    "# the different classes of\"Huvudman\"\n"
   ]
  },
  {
   "cell_type": "markdown",
   "metadata": {},
   "source": [
    "### c) Bar chart for the total score in the different subjects\n",
    "- initially we add these to a joint dataframe that is used for creating the barchart\n"
   ]
  },
  {
   "cell_type": "code",
   "execution_count": 4,
   "metadata": {},
   "outputs": [],
   "source": [
    "\n",
    "def get_scores(df_subject, subject):\n",
    "    df_tmp=pd.DataFrame()\n",
    "    df_tmp[['Score','Huvudman']]=df_subject[['Totalt (poäng)','Huvudman']]\n",
    "    df_tmp.insert(1,'Subject', subject)\n",
    "    return df_tmp\n",
    "df_eng=get_scores(df_engelska,'English')\n",
    "df_math=get_scores(df_matematik,'Math')\n",
    "df_swed=get_scores(df_svenska,'Swedish')\n",
    "df_sv2sp=get_scores(df_sv_andra_sp,\"Swedish 2nd lang\")\n",
    "\n",
    "df_all_scores= pd.concat([df_eng, df_math, df_swed, df_sv2sp])\n"
   ]
  },
  {
   "cell_type": "markdown",
   "metadata": {},
   "source": [
    "Fixing a grouped barchart"
   ]
  },
  {
   "cell_type": "markdown",
   "metadata": {},
   "source": []
  },
  {
   "cell_type": "code",
   "execution_count": 5,
   "metadata": {},
   "outputs": [
    {
     "data": {
      "image/png": "[encoded data removed]",
      "text/plain": [
       "<Figure size 1000x600 with 1 Axes>"
      ]
     },
     "metadata": {},
     "output_type": "display_data"
    }
   ],
   "source": [
    "\n",
    "df_pivot = df_all_scores.pivot(index='Subject', columns='Huvudman', values='Score')\n",
    "ax = df_pivot.plot(kind='bar', stacked=False, figsize=(10, 6))\n",
    "\n",
    "# Adding labels and title\n",
    "plt.xlabel('')\n",
    "plt.ylabel('Score')\n",
    "plt.title('Scores in subjects by principal')\n",
    "ax.spines['top'].set_visible(False)\n",
    "ax.spines['right'].set_visible(False)\n",
    "ax.legend(title='Principal')\n",
    "plt.show()"
   ]
  },
  {
   "cell_type": "markdown",
   "metadata": {},
   "source": [
    "### d/e) Barcharts in subplot for the different subjects"
   ]
  },
  {
   "cell_type": "code",
   "execution_count": 6,
   "metadata": {},
   "outputs": [
    {
     "data": {
      "text/html": [
       "<div>\n",
       "<style scoped>\n",
       "    .dataframe tbody tr th:only-of-type {\n",
       "        vertical-align: middle;\n",
       "    }\n",
       "\n",
       "    .dataframe tbody tr th {\n",
       "        vertical-align: top;\n",
       "    }\n",
       "\n",
       "    .dataframe thead th {\n",
       "        text-align: right;\n",
       "    }\n",
       "</style>\n",
       "<table border=\"1\" class=\"dataframe\">\n",
       "  <thead>\n",
       "    <tr style=\"text-align: right;\">\n",
       "      <th></th>\n",
       "      <th>Huvudman</th>\n",
       "      <th>Score</th>\n",
       "    </tr>\n",
       "  </thead>\n",
       "  <tbody>\n",
       "    <tr>\n",
       "      <th>0</th>\n",
       "      <td>Samtliga</td>\n",
       "      <td>15.7</td>\n",
       "    </tr>\n",
       "    <tr>\n",
       "      <th>1</th>\n",
       "      <td>Kommunal</td>\n",
       "      <td>15.4</td>\n",
       "    </tr>\n",
       "    <tr>\n",
       "      <th>2</th>\n",
       "      <td>Enskild</td>\n",
       "      <td>16.9</td>\n",
       "    </tr>\n",
       "    <tr>\n",
       "      <th>3</th>\n",
       "      <td>Skolverket</td>\n",
       "      <td>18.5</td>\n",
       "    </tr>\n",
       "  </tbody>\n",
       "</table>\n",
       "</div>"
      ],
      "text/plain": [
       "     Huvudman  Score\n",
       "0    Samtliga   15.7\n",
       "1    Kommunal   15.4\n",
       "2     Enskild   16.9\n",
       "3  Skolverket   18.5"
      ]
     },
     "execution_count": 6,
     "metadata": {},
     "output_type": "execute_result"
    }
   ],
   "source": [
    "df_eng[['Huvudman','Score']]"
   ]
  },
  {
   "cell_type": "code",
   "execution_count": 7,
   "metadata": {},
   "outputs": [
    {
     "data": {
      "text/plain": [
       "Text(0.5, 1.0, 'Svenska som 2:a språk')"
      ]
     },
     "execution_count": 7,
     "metadata": {},
     "output_type": "execute_result"
    },
    {
     "data": {
      "image/png": "[encoded data removed]",
      "text/plain": [
       "<Figure size 640x480 with 4 Axes>"
      ]
     },
     "metadata": {},
     "output_type": "display_data"
    }
   ],
   "source": [
    "from matplotlib.lines import Line2D\n",
    "\n",
    "# Creating the plot consisting of 4 subplots (2x2)\n",
    "fig, axes = plt.subplots(nrows=2, ncols=2, sharey='all', squeeze=True)\n",
    "\n",
    "# First subplot. In this we state colors to be used for each category and express the legend,\n",
    "# using defined elements for each category\n",
    "axes[0,0].bar(df_swed['Huvudman'], df_swed['Score'], color=['blue', 'orange', 'green', 'red'], alpha=0.7, label=df_swed['Huvudman'])\n",
    "legend_elements = [Line2D([0], [0], color='blue', lw=10, label='Samtliga'),\n",
    "                   Line2D([0], [0], color='orange', lw=10, label='Kommunal'),\n",
    "                   Line2D([0], [0], color='green', lw=10, label='Enskild'),\n",
    "                   Line2D([0], [0], color='red', lw=10, label='Skolverket')]\n",
    "\n",
    "# Add legend with defined elements set title an Y-axis (for subplot [0,0] and [1,0])\n",
    "axes[0,0].legend(handles=legend_elements)\n",
    "axes[0,0].set_title('Swedish')\n",
    "\n",
    "axes[0,0].set_ylabel('Score')\n",
    "axes[1,0].set_ylabel('Score')\n",
    "\n",
    "# make the legend horizontal instead of vertical and move the legendbox to upper area, remove x-labels\n",
    "axes[0,0].legend(loc='upper center', bbox_to_anchor=(1, 1.5), ncol=len(ax.patches)//2, fontsize='small')\n",
    "axes[0,0].set_xticklabels([])\n",
    "\n",
    "# repeat for the subplot of math, english and swedish as a 2nd language, i.e. create plot \n",
    "# (without legend), remove x-axis labels and set the titles.\n",
    "axes[0,1].bar(df_math['Huvudman'], df_math['Score'], color=['blue', 'orange', 'green', 'red'], alpha=0.7)\n",
    "axes[0,1].set_xticklabels([])\n",
    "axes[0,1].set_title('Math')\n",
    "\n",
    "axes[1,0].bar(df_eng['Huvudman'], df_eng['Score'], color=['blue', 'orange', 'green', 'red'], alpha=0.7)\n",
    "axes[1,0].set_xticklabels([])\n",
    "axes[1,0].set_title('English')\n",
    "\n",
    "\n",
    "axes[1,1].bar(df_sv2sp['Huvudman'], df_sv2sp['Score'], color=['blue', 'orange', 'green', 'red'], alpha=0.7)\n",
    "axes[1,1].set_xticklabels([])\n",
    "axes[1,1].set_title('Svenska som 2:a språk')\n",
    "\n"
   ]
  },
  {
   "cell_type": "markdown",
   "metadata": {},
   "source": []
  },
  {
   "cell_type": "markdown",
   "metadata": {},
   "source": [
    "## 1. Warming up grades and exams\n",
    "- Using the file betyg_o_prov_riksnivå.xlsx.\n",
    "- using Plotly for graphs and panda for other stuff"
   ]
  },
  {
   "cell_type": "markdown",
   "metadata": {},
   "source": [
    "### reading the datafile"
   ]
  },
  {
   "cell_type": "code",
   "execution_count": 8,
   "metadata": {},
   "outputs": [],
   "source": [
    "def read_data2(mysheetname,startrow, header):\n",
    "    df_tmp=pd.read_excel(\"./Data/betyg_o_prov_riksnivå.xlsx\", sheet_name=mysheetname, skiprows=startrow)\n",
    "    df_tmp.columns=header\n",
    "    # Cleaning \"därav\" rows\n",
    "    df_tmp.drop(df_tmp[df_tmp['Läsår\\nHuvudman\\nBakgrund']=='därav'].index, inplace=True)\n",
    "    # Cleaning Nan values rows with empty \"Läsår/huvudman/Bakgrund\" \n",
    "    df_tmp.drop(df_tmp[df_tmp['Läsår\\nHuvudman\\nBakgrund'].isnull()].index, inplace=True)\n",
    "    \n",
    "    return df_tmp\n",
    "# creating dataframe headers\n",
    "tabell1Bheader=['Läsår\\nHuvudman\\nBakgrund', 'Totalt (merit 16 ämnen)','Flickor (merit 16 ämnen)','Pojkar (merit 16 ämnen)','Totalt (merit 17 ämnen)','Flickor (merit 17 ämnen)','Pojkar (merit 17 ämnen)','Totalt (procent ej godkänt)','Flickor (procent ej godkänt)','Pojkar (procent ej godkänt)']\n",
    "tabell1Aheader=['Läsår\\nHuvudman\\nBakgrund', 'Totalt (åk9)','Flickor (åk9)','Pojkar (åk9)','Totalt (slutbetyg)','Flickor (slutbetyg)','Pojkar (slutbetyg)','Totalt (godkända)','Flickor (godkända)','Pojkar (godkända)']\n",
    "df_tabell1A=read_data2('Tabell 1A',6, tabell1Aheader)\n",
    "# Cleaning the row of NaN not captured in function\n",
    "df_tabell1A.drop(df_tabell1A[df_tabell1A['Totalt (åk9)'].isnull()].index, inplace=True)\n",
    "\n",
    "\n",
    "\n",
    "df_tabell1B=read_data2('Tabell 1B',7, tabell1Bheader)\n",
    "# Cleaning row of NaN not capured in function\n",
    "df_tabell1B.drop(df_tabell1B[df_tabell1B['Totalt (merit 16 ämnen)'].isnull()].index, inplace=True)\n",
    "\n",
    "\n"
   ]
  },
  {
   "cell_type": "markdown",
   "metadata": {},
   "source": []
  },
  {
   "cell_type": "markdown",
   "metadata": {},
   "source": [
    "####  a) Create a linechart with proportion of students that failed in more than one subject between 18-23, include total, girls and boys\n",
    "\n",
    "Alternative I: Based on the fraction (from Table 1A) \n",
    "$$(1 - \\frac{N_{\\text{students with pass in one or more subjects}}}{N_{\\text{number of students}}})$$"
   ]
  },
  {
   "cell_type": "code",
   "execution_count": 9,
   "metadata": {},
   "outputs": [
    {
     "data": {
      "application/vnd.plotly.v1+json": {
       "config": {
        "plotlyServerURL": "https://plot.ly"
       },
       "data": [
        {
         "hovertemplate": "variable=Totalt (underkända)<br>Läsår=%{x}<br>Percentage=%{y:.2f}<extra></extra>",
         "legendgroup": "Totalt (underkända)",
         "line": {
          "color": "#636efa",
          "dash": "solid"
         },
         "marker": {
          "symbol": "circle"
         },
         "mode": "lines",
         "name": "Totalt (underkända)",
         "orientation": "v",
         "showlegend": true,
         "type": "scatter",
         "x": [
          "2018/19",
          "2019/20",
          "2020/21",
          "2021/22",
          "2022/23"
         ],
         "xaxis": "x",
         "y": [
          1.8344554736496654,
          1.9952531232883874,
          1.9104667451593782,
          2.14893175689691,
          2.1694172317478055
         ],
         "yaxis": "y"
        },
        {
         "hovertemplate": "variable=Flickor (underkända)<br>Läsår=%{x}<br>Percentage=%{y:.2f}<extra></extra>",
         "legendgroup": "Flickor (underkända)",
         "line": {
          "color": "#EF553B",
          "dash": "solid"
         },
         "marker": {
          "symbol": "circle"
         },
         "mode": "lines",
         "name": "Flickor (underkända)",
         "orientation": "v",
         "showlegend": true,
         "type": "scatter",
         "x": [
          "2018/19",
          "2019/20",
          "2020/21",
          "2021/22",
          "2022/23"
         ],
         "xaxis": "x",
         "y": [
          1.664623996195147,
          1.7226513382432196,
          1.7526227629374946,
          2.052535334028338,
          2.1374252663313165
         ],
         "yaxis": "y"
        },
        {
         "hovertemplate": "variable=Pojkar (underkända)<br>Läsår=%{x}<br>Percentage=%{y:.2f}<extra></extra>",
         "legendgroup": "Pojkar (underkända)",
         "line": {
          "color": "#00cc96",
          "dash": "solid"
         },
         "marker": {
          "symbol": "circle"
         },
         "mode": "lines",
         "name": "Pojkar (underkända)",
         "orientation": "v",
         "showlegend": true,
         "type": "scatter",
         "x": [
          "2018/19",
          "2019/20",
          "2020/21",
          "2021/22",
          "2022/23"
         ],
         "xaxis": "x",
         "y": [
          1.994351060898314,
          2.250939295402088,
          2.0605593186238336,
          2.2398890537315364,
          2.1997240317042643
         ],
         "yaxis": "y"
        }
       ],
       "layout": {
        "hovermode": "x",
        "legend": {
         "title": {
          "text": "variable"
         },
         "tracegroupgap": 0
        },
        "template": {
         "data": {
          "bar": [
           {
            "error_x": {
             "color": "#2a3f5f"
            },
            "error_y": {
             "color": "#2a3f5f"
            },
            "marker": {
             "line": {
              "color": "#E5ECF6",
              "width": 0.5
             },
             "pattern": {
              "fillmode": "overlay",
              "size": 10,
              "solidity": 0.2
             }
            },
            "type": "bar"
           }
          ],
          "barpolar": [
           {
            "marker": {
             "line": {
              "color": "#E5ECF6",
              "width": 0.5
             },
             "pattern": {
              "fillmode": "overlay",
              "size": 10,
              "solidity": 0.2
             }
            },
            "type": "barpolar"
           }
          ],
          "carpet": [
           {
            "aaxis": {
             "endlinecolor": "#2a3f5f",
             "gridcolor": "white",
             "linecolor": "white",
             "minorgridcolor": "white",
             "startlinecolor": "#2a3f5f"
            },
            "baxis": {
             "endlinecolor": "#2a3f5f",
             "gridcolor": "white",
             "linecolor": "white",
             "minorgridcolor": "white",
             "startlinecolor": "#2a3f5f"
            },
            "type": "carpet"
           }
          ],
          "choropleth": [
           {
            "colorbar": {
             "outlinewidth": 0,
             "ticks": ""
            },
            "type": "choropleth"
           }
          ],
          "contour": [
           {
            "colorbar": {
             "outlinewidth": 0,
             "ticks": ""
            },
            "colorscale": [
             [
              0,
              "#0d0887"
             ],
             [
              0.1111111111111111,
              "#46039f"
             ],
             [
              0.2222222222222222,
              "#7201a8"
             ],
             [
              0.3333333333333333,
              "#9c179e"
             ],
             [
              0.4444444444444444,
              "#bd3786"
             ],
             [
              0.5555555555555556,
              "#d8576b"
             ],
             [
              0.6666666666666666,
              "#ed7953"
             ],
             [
              0.7777777777777778,
              "#fb9f3a"
             ],
             [
              0.8888888888888888,
              "#fdca26"
             ],
             [
              1,
              "#f0f921"
             ]
            ],
            "type": "contour"
           }
          ],
          "contourcarpet": [
           {
            "colorbar": {
             "outlinewidth": 0,
             "ticks": ""
            },
            "type": "contourcarpet"
           }
          ],
          "heatmap": [
           {
            "colorbar": {
             "outlinewidth": 0,
             "ticks": ""
            },
            "colorscale": [
             [
              0,
              "#0d0887"
             ],
             [
              0.1111111111111111,
              "#46039f"
             ],
             [
              0.2222222222222222,
              "#7201a8"
             ],
             [
              0.3333333333333333,
              "#9c179e"
             ],
             [
              0.4444444444444444,
              "#bd3786"
             ],
             [
              0.5555555555555556,
              "#d8576b"
             ],
             [
              0.6666666666666666,
              "#ed7953"
             ],
             [
              0.7777777777777778,
              "#fb9f3a"
             ],
             [
              0.8888888888888888,
              "#fdca26"
             ],
             [
              1,
              "#f0f921"
             ]
            ],
            "type": "heatmap"
           }
          ],
          "heatmapgl": [
           {
            "colorbar": {
             "outlinewidth": 0,
             "ticks": ""
            },
            "colorscale": [
             [
              0,
              "#0d0887"
             ],
             [
              0.1111111111111111,
              "#46039f"
             ],
             [
              0.2222222222222222,
              "#7201a8"
             ],
             [
              0.3333333333333333,
              "#9c179e"
             ],
             [
              0.4444444444444444,
              "#bd3786"
             ],
             [
              0.5555555555555556,
              "#d8576b"
             ],
             [
              0.6666666666666666,
              "#ed7953"
             ],
             [
              0.7777777777777778,
              "#fb9f3a"
             ],
             [
              0.8888888888888888,
              "#fdca26"
             ],
             [
              1,
              "#f0f921"
             ]
            ],
            "type": "heatmapgl"
           }
          ],
          "histogram": [
           {
            "marker": {
             "pattern": {
              "fillmode": "overlay",
              "size": 10,
              "solidity": 0.2
             }
            },
            "type": "histogram"
           }
          ],
          "histogram2d": [
           {
            "colorbar": {
             "outlinewidth": 0,
             "ticks": ""
            },
            "colorscale": [
             [
              0,
              "#0d0887"
             ],
             [
              0.1111111111111111,
              "#46039f"
             ],
             [
              0.2222222222222222,
              "#7201a8"
             ],
             [
              0.3333333333333333,
              "#9c179e"
             ],
             [
              0.4444444444444444,
              "#bd3786"
             ],
             [
              0.5555555555555556,
              "#d8576b"
             ],
             [
              0.6666666666666666,
              "#ed7953"
             ],
             [
              0.7777777777777778,
              "#fb9f3a"
             ],
             [
              0.8888888888888888,
              "#fdca26"
             ],
             [
              1,
              "#f0f921"
             ]
            ],
            "type": "histogram2d"
           }
          ],
          "histogram2dcontour": [
           {
            "colorbar": {
             "outlinewidth": 0,
             "ticks": ""
            },
            "colorscale": [
             [
              0,
              "#0d0887"
             ],
             [
              0.1111111111111111,
              "#46039f"
             ],
             [
              0.2222222222222222,
              "#7201a8"
             ],
             [
              0.3333333333333333,
              "#9c179e"
             ],
             [
              0.4444444444444444,
              "#bd3786"
             ],
             [
              0.5555555555555556,
              "#d8576b"
             ],
             [
              0.6666666666666666,
              "#ed7953"
             ],
             [
              0.7777777777777778,
              "#fb9f3a"
             ],
             [
              0.8888888888888888,
              "#fdca26"
             ],
             [
              1,
              "#f0f921"
             ]
            ],
            "type": "histogram2dcontour"
           }
          ],
          "mesh3d": [
           {
            "colorbar": {
             "outlinewidth": 0,
             "ticks": ""
            },
            "type": "mesh3d"
           }
          ],
          "parcoords": [
           {
            "line": {
             "colorbar": {
              "outlinewidth": 0,
              "ticks": ""
             }
            },
            "type": "parcoords"
           }
          ],
          "pie": [
           {
            "automargin": true,
            "type": "pie"
           }
          ],
          "scatter": [
           {
            "fillpattern": {
             "fillmode": "overlay",
             "size": 10,
             "solidity": 0.2
            },
            "type": "scatter"
           }
          ],
          "scatter3d": [
           {
            "line": {
             "colorbar": {
              "outlinewidth": 0,
              "ticks": ""
             }
            },
            "marker": {
             "colorbar": {
              "outlinewidth": 0,
              "ticks": ""
             }
            },
            "type": "scatter3d"
           }
          ],
          "scattercarpet": [
           {
            "marker": {
             "colorbar": {
              "outlinewidth": 0,
              "ticks": ""
             }
            },
            "type": "scattercarpet"
           }
          ],
          "scattergeo": [
           {
            "marker": {
             "colorbar": {
              "outlinewidth": 0,
              "ticks": ""
             }
            },
            "type": "scattergeo"
           }
          ],
          "scattergl": [
           {
            "marker": {
             "colorbar": {
              "outlinewidth": 0,
              "ticks": ""
             }
            },
            "type": "scattergl"
           }
          ],
          "scattermapbox": [
           {
            "marker": {
             "colorbar": {
              "outlinewidth": 0,
              "ticks": ""
             }
            },
            "type": "scattermapbox"
           }
          ],
          "scatterpolar": [
           {
            "marker": {
             "colorbar": {
              "outlinewidth": 0,
              "ticks": ""
             }
            },
            "type": "scatterpolar"
           }
          ],
          "scatterpolargl": [
           {
            "marker": {
             "colorbar": {
              "outlinewidth": 0,
              "ticks": ""
             }
            },
            "type": "scatterpolargl"
           }
          ],
          "scatterternary": [
           {
            "marker": {
             "colorbar": {
              "outlinewidth": 0,
              "ticks": ""
             }
            },
            "type": "scatterternary"
           }
          ],
          "surface": [
           {
            "colorbar": {
             "outlinewidth": 0,
             "ticks": ""
            },
            "colorscale": [
             [
              0,
              "#0d0887"
             ],
             [
              0.1111111111111111,
              "#46039f"
             ],
             [
              0.2222222222222222,
              "#7201a8"
             ],
             [
              0.3333333333333333,
              "#9c179e"
             ],
             [
              0.4444444444444444,
              "#bd3786"
             ],
             [
              0.5555555555555556,
              "#d8576b"
             ],
             [
              0.6666666666666666,
              "#ed7953"
             ],
             [
              0.7777777777777778,
              "#fb9f3a"
             ],
             [
              0.8888888888888888,
              "#fdca26"
             ],
             [
              1,
              "#f0f921"
             ]
            ],
            "type": "surface"
           }
          ],
          "table": [
           {
            "cells": {
             "fill": {
              "color": "#EBF0F8"
             },
             "line": {
              "color": "white"
             }
            },
            "header": {
             "fill": {
              "color": "#C8D4E3"
             },
             "line": {
              "color": "white"
             }
            },
            "type": "table"
           }
          ]
         },
         "layout": {
          "annotationdefaults": {
           "arrowcolor": "#2a3f5f",
           "arrowhead": 0,
           "arrowwidth": 1
          },
          "autotypenumbers": "strict",
          "coloraxis": {
           "colorbar": {
            "outlinewidth": 0,
            "ticks": ""
           }
          },
          "colorscale": {
           "diverging": [
            [
             0,
             "#8e0152"
            ],
            [
             0.1,
             "#c51b7d"
            ],
            [
             0.2,
             "#de77ae"
            ],
            [
             0.3,
             "#f1b6da"
            ],
            [
             0.4,
             "#fde0ef"
            ],
            [
             0.5,
             "#f7f7f7"
            ],
            [
             0.6,
             "#e6f5d0"
            ],
            [
             0.7,
             "#b8e186"
            ],
            [
             0.8,
             "#7fbc41"
            ],
            [
             0.9,
             "#4d9221"
            ],
            [
             1,
             "#276419"
            ]
           ],
           "sequential": [
            [
             0,
             "#0d0887"
            ],
            [
             0.1111111111111111,
             "#46039f"
            ],
            [
             0.2222222222222222,
             "#7201a8"
            ],
            [
             0.3333333333333333,
             "#9c179e"
            ],
            [
             0.4444444444444444,
             "#bd3786"
            ],
            [
             0.5555555555555556,
             "#d8576b"
            ],
            [
             0.6666666666666666,
             "#ed7953"
            ],
            [
             0.7777777777777778,
             "#fb9f3a"
            ],
            [
             0.8888888888888888,
             "#fdca26"
            ],
            [
             1,
             "#f0f921"
            ]
           ],
           "sequentialminus": [
            [
             0,
             "#0d0887"
            ],
            [
             0.1111111111111111,
             "#46039f"
            ],
            [
             0.2222222222222222,
             "#7201a8"
            ],
            [
             0.3333333333333333,
             "#9c179e"
            ],
            [
             0.4444444444444444,
             "#bd3786"
            ],
            [
             0.5555555555555556,
             "#d8576b"
            ],
            [
             0.6666666666666666,
             "#ed7953"
            ],
            [
             0.7777777777777778,
             "#fb9f3a"
            ],
            [
             0.8888888888888888,
             "#fdca26"
            ],
            [
             1,
             "#f0f921"
            ]
           ]
          },
          "colorway": [
           "#636efa",
           "#EF553B",
           "#00cc96",
           "#ab63fa",
           "#FFA15A",
           "#19d3f3",
           "#FF6692",
           "#B6E880",
           "#FF97FF",
           "#FECB52"
          ],
          "font": {
           "color": "#2a3f5f"
          },
          "geo": {
           "bgcolor": "white",
           "lakecolor": "white",
           "landcolor": "#E5ECF6",
           "showlakes": true,
           "showland": true,
           "subunitcolor": "white"
          },
          "hoverlabel": {
           "align": "left"
          },
          "hovermode": "closest",
          "mapbox": {
           "style": "light"
          },
          "paper_bgcolor": "white",
          "plot_bgcolor": "#E5ECF6",
          "polar": {
           "angularaxis": {
            "gridcolor": "white",
            "linecolor": "white",
            "ticks": ""
           },
           "bgcolor": "#E5ECF6",
           "radialaxis": {
            "gridcolor": "white",
            "linecolor": "white",
            "ticks": ""
           }
          },
          "scene": {
           "xaxis": {
            "backgroundcolor": "#E5ECF6",
            "gridcolor": "white",
            "gridwidth": 2,
            "linecolor": "white",
            "showbackground": true,
            "ticks": "",
            "zerolinecolor": "white"
           },
           "yaxis": {
            "backgroundcolor": "#E5ECF6",
            "gridcolor": "white",
            "gridwidth": 2,
            "linecolor": "white",
            "showbackground": true,
            "ticks": "",
            "zerolinecolor": "white"
           },
           "zaxis": {
            "backgroundcolor": "#E5ECF6",
            "gridcolor": "white",
            "gridwidth": 2,
            "linecolor": "white",
            "showbackground": true,
            "ticks": "",
            "zerolinecolor": "white"
           }
          },
          "shapedefaults": {
           "line": {
            "color": "#2a3f5f"
           }
          },
          "ternary": {
           "aaxis": {
            "gridcolor": "white",
            "linecolor": "white",
            "ticks": ""
           },
           "baxis": {
            "gridcolor": "white",
            "linecolor": "white",
            "ticks": ""
           },
           "bgcolor": "#E5ECF6",
           "caxis": {
            "gridcolor": "white",
            "linecolor": "white",
            "ticks": ""
           }
          },
          "title": {
           "x": 0.05
          },
          "xaxis": {
           "automargin": true,
           "gridcolor": "white",
           "linecolor": "white",
           "ticks": "",
           "title": {
            "standoff": 15
           },
           "zerolinecolor": "white",
           "zerolinewidth": 2
          },
          "yaxis": {
           "automargin": true,
           "gridcolor": "white",
           "linecolor": "white",
           "ticks": "",
           "title": {
            "standoff": 15
           },
           "zerolinecolor": "white",
           "zerolinewidth": 2
          }
         }
        },
        "title": {
         "text": "Percentage of students that failed in more than one subject between 2018-2023"
        },
        "xaxis": {
         "anchor": "y",
         "domain": [
          0,
          1
         ],
         "showspikes": true,
         "spikecolor": "green",
         "spikedash": "solid",
         "spikemode": "across",
         "spikesnap": "cursor",
         "title": {
          "text": "Läsår"
         }
        },
        "yaxis": {
         "anchor": "x",
         "domain": [
          0,
          1
         ],
         "title": {
          "text": "Percentage"
         }
        }
       }
      }
     },
     "metadata": {},
     "output_type": "display_data"
    }
   ],
   "source": [
    "# Plotly lib\n",
    "import plotly_express as px \n",
    "\n",
    "def func_failed_fracT(row):\n",
    "    z = (1.0-(row['Totalt (godkända)']/row['Totalt (åk9)']))*100\n",
    "    return z\n",
    "\n",
    "def func_failed_fracG(row):\n",
    "    z = (1.0-(row['Flickor (godkända)']/row['Flickor (åk9)']))*100\n",
    "    return z\n",
    "\n",
    "def func_failed_fracB(row):\n",
    "    z = (1.0-(row['Pojkar (godkända)']/row['Pojkar (åk9)']))*100\n",
    "    return z\n",
    "\n",
    "\n",
    "# Create a new dataframe and use a mask to obtain the years\n",
    "df_data=pd.DataFrame()\n",
    "df_data = df_tabell1A[df_tabell1A['Läsår\\nHuvudman\\nBakgrund'].isin(['2018/19', '2019/20', '2020/21', '2021/22', '2022/23'])].copy()\n",
    "\n",
    "# Rename column such that it looks more fancy in figure, add columns with percentages of failed \n",
    "# for the different categories\n",
    "df_data.rename(columns={'Läsår\\nHuvudman\\nBakgrund':'Årtal'}, inplace = True)\n",
    "df_data.insert(10,\"Totalt (underkända)\", df_data.apply(func_failed_fracT, axis=1), True)\n",
    "df_data.insert(11,'Flickor (underkända)', df_data.apply(func_failed_fracG, axis=1), True)\n",
    "df_data.insert(12,'Pojkar (underkända)', df_data.apply(func_failed_fracB, axis=1), True)\n",
    "#\n",
    "fig = px.line(df_data, x='Årtal', y=['Totalt (underkända)', 'Flickor (underkända)', 'Pojkar (underkända)' ], \n",
    "               title=\"Percentage of students that failed in more than one subject between 2018-2023\",\n",
    "              labels={'Årtal': 'Läsår', 'value':'Percentage', 'Totalt (underkända)':'Totalt %','Flickor (underkända)':'Flickor %','Pojkar (underkända)':'Pojkar %'},\n",
    "              hover_data={'Årtal': True, 'value': ':.2f'})\n",
    "            \n",
    "\n",
    "fig.update_layout(hovermode=\"x\")\n",
    "fig.update_xaxes(\n",
    "    showspikes=True,\n",
    "    spikedash=\"solid\",\n",
    "    spikecolor=\"green\",\n",
    "    spikemode=\"across\",\n",
    "    spikesnap=\"cursor\"\n",
    ")\n",
    "\n",
    "\n",
    "fig.show()\n",
    "\n"
   ]
  },
  {
   "cell_type": "markdown",
   "metadata": {},
   "source": [
    "Alternative II: Using the percentage of students missing pass in one or more subjects (from table1B)"
   ]
  },
  {
   "cell_type": "code",
   "execution_count": 10,
   "metadata": {},
   "outputs": [
    {
     "data": {
      "application/vnd.plotly.v1+json": {
       "config": {
        "plotlyServerURL": "https://plot.ly"
       },
       "data": [
        {
         "hovertemplate": "variable=Totalt (procent ej godkänt)<br>Läsår=%{x}<br>Percentage=%{y:.2f}<extra></extra>",
         "legendgroup": "Totalt (procent ej godkänt)",
         "line": {
          "color": "#636efa",
          "dash": "solid"
         },
         "marker": {
          "symbol": "circle"
         },
         "mode": "lines",
         "name": "Totalt (procent ej godkänt)",
         "orientation": "v",
         "showlegend": true,
         "type": "scatter",
         "x": [
          "2018/19",
          "2019/20",
          "2020/21",
          "2021/22",
          "2022/23"
         ],
         "xaxis": "x",
         "y": [
          24.5,
          23.9,
          23.9,
          25.9,
          26.8
         ],
         "yaxis": "y"
        },
        {
         "hovertemplate": "variable=Flickor (procent ej godkänt)<br>Läsår=%{x}<br>Percentage=%{y:.2f}<extra></extra>",
         "legendgroup": "Flickor (procent ej godkänt)",
         "line": {
          "color": "#EF553B",
          "dash": "solid"
         },
         "marker": {
          "symbol": "circle"
         },
         "mode": "lines",
         "name": "Flickor (procent ej godkänt)",
         "orientation": "v",
         "showlegend": true,
         "type": "scatter",
         "x": [
          "2018/19",
          "2019/20",
          "2020/21",
          "2021/22",
          "2022/23"
         ],
         "xaxis": "x",
         "y": [
          21.7,
          21.4,
          21.9,
          24.2,
          25.5
         ],
         "yaxis": "y"
        },
        {
         "hovertemplate": "variable=Pojkar (procent ej godkänt)<br>Läsår=%{x}<br>Percentage=%{y:.2f}<extra></extra>",
         "legendgroup": "Pojkar (procent ej godkänt)",
         "line": {
          "color": "#00cc96",
          "dash": "solid"
         },
         "marker": {
          "symbol": "circle"
         },
         "mode": "lines",
         "name": "Pojkar (procent ej godkänt)",
         "orientation": "v",
         "showlegend": true,
         "type": "scatter",
         "x": [
          "2018/19",
          "2019/20",
          "2020/21",
          "2021/22",
          "2022/23"
         ],
         "xaxis": "x",
         "y": [
          27.2,
          26.3,
          25.9,
          27.5,
          28
         ],
         "yaxis": "y"
        }
       ],
       "layout": {
        "hovermode": "x",
        "legend": {
         "title": {
          "text": "variable"
         },
         "tracegroupgap": 0
        },
        "template": {
         "data": {
          "bar": [
           {
            "error_x": {
             "color": "#2a3f5f"
            },
            "error_y": {
             "color": "#2a3f5f"
            },
            "marker": {
             "line": {
              "color": "#E5ECF6",
              "width": 0.5
             },
             "pattern": {
              "fillmode": "overlay",
              "size": 10,
              "solidity": 0.2
             }
            },
            "type": "bar"
           }
          ],
          "barpolar": [
           {
            "marker": {
             "line": {
              "color": "#E5ECF6",
              "width": 0.5
             },
             "pattern": {
              "fillmode": "overlay",
              "size": 10,
              "solidity": 0.2
             }
            },
            "type": "barpolar"
           }
          ],
          "carpet": [
           {
            "aaxis": {
             "endlinecolor": "#2a3f5f",
             "gridcolor": "white",
             "linecolor": "white",
             "minorgridcolor": "white",
             "startlinecolor": "#2a3f5f"
            },
            "baxis": {
             "endlinecolor": "#2a3f5f",
             "gridcolor": "white",
             "linecolor": "white",
             "minorgridcolor": "white",
             "startlinecolor": "#2a3f5f"
            },
            "type": "carpet"
           }
          ],
          "choropleth": [
           {
            "colorbar": {
             "outlinewidth": 0,
             "ticks": ""
            },
            "type": "choropleth"
           }
          ],
          "contour": [
           {
            "colorbar": {
             "outlinewidth": 0,
             "ticks": ""
            },
            "colorscale": [
             [
              0,
              "#0d0887"
             ],
             [
              0.1111111111111111,
              "#46039f"
             ],
             [
              0.2222222222222222,
              "#7201a8"
             ],
             [
              0.3333333333333333,
              "#9c179e"
             ],
             [
              0.4444444444444444,
              "#bd3786"
             ],
             [
              0.5555555555555556,
              "#d8576b"
             ],
             [
              0.6666666666666666,
              "#ed7953"
             ],
             [
              0.7777777777777778,
              "#fb9f3a"
             ],
             [
              0.8888888888888888,
              "#fdca26"
             ],
             [
              1,
              "#f0f921"
             ]
            ],
            "type": "contour"
           }
          ],
          "contourcarpet": [
           {
            "colorbar": {
             "outlinewidth": 0,
             "ticks": ""
            },
            "type": "contourcarpet"
           }
          ],
          "heatmap": [
           {
            "colorbar": {
             "outlinewidth": 0,
             "ticks": ""
            },
            "colorscale": [
             [
              0,
              "#0d0887"
             ],
             [
              0.1111111111111111,
              "#46039f"
             ],
             [
              0.2222222222222222,
              "#7201a8"
             ],
             [
              0.3333333333333333,
              "#9c179e"
             ],
             [
              0.4444444444444444,
              "#bd3786"
             ],
             [
              0.5555555555555556,
              "#d8576b"
             ],
             [
              0.6666666666666666,
              "#ed7953"
             ],
             [
              0.7777777777777778,
              "#fb9f3a"
             ],
             [
              0.8888888888888888,
              "#fdca26"
             ],
             [
              1,
              "#f0f921"
             ]
            ],
            "type": "heatmap"
           }
          ],
          "heatmapgl": [
           {
            "colorbar": {
             "outlinewidth": 0,
             "ticks": ""
            },
            "colorscale": [
             [
              0,
              "#0d0887"
             ],
             [
              0.1111111111111111,
              "#46039f"
             ],
             [
              0.2222222222222222,
              "#7201a8"
             ],
             [
              0.3333333333333333,
              "#9c179e"
             ],
             [
              0.4444444444444444,
              "#bd3786"
             ],
             [
              0.5555555555555556,
              "#d8576b"
             ],
             [
              0.6666666666666666,
              "#ed7953"
             ],
             [
              0.7777777777777778,
              "#fb9f3a"
             ],
             [
              0.8888888888888888,
              "#fdca26"
             ],
             [
              1,
              "#f0f921"
             ]
            ],
            "type": "heatmapgl"
           }
          ],
          "histogram": [
           {
            "marker": {
             "pattern": {
              "fillmode": "overlay",
              "size": 10,
              "solidity": 0.2
             }
            },
            "type": "histogram"
           }
          ],
          "histogram2d": [
           {
            "colorbar": {
             "outlinewidth": 0,
             "ticks": ""
            },
            "colorscale": [
             [
              0,
              "#0d0887"
             ],
             [
              0.1111111111111111,
              "#46039f"
             ],
             [
              0.2222222222222222,
              "#7201a8"
             ],
             [
              0.3333333333333333,
              "#9c179e"
             ],
             [
              0.4444444444444444,
              "#bd3786"
             ],
             [
              0.5555555555555556,
              "#d8576b"
             ],
             [
              0.6666666666666666,
              "#ed7953"
             ],
             [
              0.7777777777777778,
              "#fb9f3a"
             ],
             [
              0.8888888888888888,
              "#fdca26"
             ],
             [
              1,
              "#f0f921"
             ]
            ],
            "type": "histogram2d"
           }
          ],
          "histogram2dcontour": [
           {
            "colorbar": {
             "outlinewidth": 0,
             "ticks": ""
            },
            "colorscale": [
             [
              0,
              "#0d0887"
             ],
             [
              0.1111111111111111,
              "#46039f"
             ],
             [
              0.2222222222222222,
              "#7201a8"
             ],
             [
              0.3333333333333333,
              "#9c179e"
             ],
             [
              0.4444444444444444,
              "#bd3786"
             ],
             [
              0.5555555555555556,
              "#d8576b"
             ],
             [
              0.6666666666666666,
              "#ed7953"
             ],
             [
              0.7777777777777778,
              "#fb9f3a"
             ],
             [
              0.8888888888888888,
              "#fdca26"
             ],
             [
              1,
              "#f0f921"
             ]
            ],
            "type": "histogram2dcontour"
           }
          ],
          "mesh3d": [
           {
            "colorbar": {
             "outlinewidth": 0,
             "ticks": ""
            },
            "type": "mesh3d"
           }
          ],
          "parcoords": [
           {
            "line": {
             "colorbar": {
              "outlinewidth": 0,
              "ticks": ""
             }
            },
            "type": "parcoords"
           }
          ],
          "pie": [
           {
            "automargin": true,
            "type": "pie"
           }
          ],
          "scatter": [
           {
            "fillpattern": {
             "fillmode": "overlay",
             "size": 10,
             "solidity": 0.2
            },
            "type": "scatter"
           }
          ],
          "scatter3d": [
           {
            "line": {
             "colorbar": {
              "outlinewidth": 0,
              "ticks": ""
             }
            },
            "marker": {
             "colorbar": {
              "outlinewidth": 0,
              "ticks": ""
             }
            },
            "type": "scatter3d"
           }
          ],
          "scattercarpet": [
           {
            "marker": {
             "colorbar": {
              "outlinewidth": 0,
              "ticks": ""
             }
            },
            "type": "scattercarpet"
           }
          ],
          "scattergeo": [
           {
            "marker": {
             "colorbar": {
              "outlinewidth": 0,
              "ticks": ""
             }
            },
            "type": "scattergeo"
           }
          ],
          "scattergl": [
           {
            "marker": {
             "colorbar": {
              "outlinewidth": 0,
              "ticks": ""
             }
            },
            "type": "scattergl"
           }
          ],
          "scattermapbox": [
           {
            "marker": {
             "colorbar": {
              "outlinewidth": 0,
              "ticks": ""
             }
            },
            "type": "scattermapbox"
           }
          ],
          "scatterpolar": [
           {
            "marker": {
             "colorbar": {
              "outlinewidth": 0,
              "ticks": ""
             }
            },
            "type": "scatterpolar"
           }
          ],
          "scatterpolargl": [
           {
            "marker": {
             "colorbar": {
              "outlinewidth": 0,
              "ticks": ""
             }
            },
            "type": "scatterpolargl"
           }
          ],
          "scatterternary": [
           {
            "marker": {
             "colorbar": {
              "outlinewidth": 0,
              "ticks": ""
             }
            },
            "type": "scatterternary"
           }
          ],
          "surface": [
           {
            "colorbar": {
             "outlinewidth": 0,
             "ticks": ""
            },
            "colorscale": [
             [
              0,
              "#0d0887"
             ],
             [
              0.1111111111111111,
              "#46039f"
             ],
             [
              0.2222222222222222,
              "#7201a8"
             ],
             [
              0.3333333333333333,
              "#9c179e"
             ],
             [
              0.4444444444444444,
              "#bd3786"
             ],
             [
              0.5555555555555556,
              "#d8576b"
             ],
             [
              0.6666666666666666,
              "#ed7953"
             ],
             [
              0.7777777777777778,
              "#fb9f3a"
             ],
             [
              0.8888888888888888,
              "#fdca26"
             ],
             [
              1,
              "#f0f921"
             ]
            ],
            "type": "surface"
           }
          ],
          "table": [
           {
            "cells": {
             "fill": {
              "color": "#EBF0F8"
             },
             "line": {
              "color": "white"
             }
            },
            "header": {
             "fill": {
              "color": "#C8D4E3"
             },
             "line": {
              "color": "white"
             }
            },
            "type": "table"
           }
          ]
         },
         "layout": {
          "annotationdefaults": {
           "arrowcolor": "#2a3f5f",
           "arrowhead": 0,
           "arrowwidth": 1
          },
          "autotypenumbers": "strict",
          "coloraxis": {
           "colorbar": {
            "outlinewidth": 0,
            "ticks": ""
           }
          },
          "colorscale": {
           "diverging": [
            [
             0,
             "#8e0152"
            ],
            [
             0.1,
             "#c51b7d"
            ],
            [
             0.2,
             "#de77ae"
            ],
            [
             0.3,
             "#f1b6da"
            ],
            [
             0.4,
             "#fde0ef"
            ],
            [
             0.5,
             "#f7f7f7"
            ],
            [
             0.6,
             "#e6f5d0"
            ],
            [
             0.7,
             "#b8e186"
            ],
            [
             0.8,
             "#7fbc41"
            ],
            [
             0.9,
             "#4d9221"
            ],
            [
             1,
             "#276419"
            ]
           ],
           "sequential": [
            [
             0,
             "#0d0887"
            ],
            [
             0.1111111111111111,
             "#46039f"
            ],
            [
             0.2222222222222222,
             "#7201a8"
            ],
            [
             0.3333333333333333,
             "#9c179e"
            ],
            [
             0.4444444444444444,
             "#bd3786"
            ],
            [
             0.5555555555555556,
             "#d8576b"
            ],
            [
             0.6666666666666666,
             "#ed7953"
            ],
            [
             0.7777777777777778,
             "#fb9f3a"
            ],
            [
             0.8888888888888888,
             "#fdca26"
            ],
            [
             1,
             "#f0f921"
            ]
           ],
           "sequentialminus": [
            [
             0,
             "#0d0887"
            ],
            [
             0.1111111111111111,
             "#46039f"
            ],
            [
             0.2222222222222222,
             "#7201a8"
            ],
            [
             0.3333333333333333,
             "#9c179e"
            ],
            [
             0.4444444444444444,
             "#bd3786"
            ],
            [
             0.5555555555555556,
             "#d8576b"
            ],
            [
             0.6666666666666666,
             "#ed7953"
            ],
            [
             0.7777777777777778,
             "#fb9f3a"
            ],
            [
             0.8888888888888888,
             "#fdca26"
            ],
            [
             1,
             "#f0f921"
            ]
           ]
          },
          "colorway": [
           "#636efa",
           "#EF553B",
           "#00cc96",
           "#ab63fa",
           "#FFA15A",
           "#19d3f3",
           "#FF6692",
           "#B6E880",
           "#FF97FF",
           "#FECB52"
          ],
          "font": {
           "color": "#2a3f5f"
          },
          "geo": {
           "bgcolor": "white",
           "lakecolor": "white",
           "landcolor": "#E5ECF6",
           "showlakes": true,
           "showland": true,
           "subunitcolor": "white"
          },
          "hoverlabel": {
           "align": "left"
          },
          "hovermode": "closest",
          "mapbox": {
           "style": "light"
          },
          "paper_bgcolor": "white",
          "plot_bgcolor": "#E5ECF6",
          "polar": {
           "angularaxis": {
            "gridcolor": "white",
            "linecolor": "white",
            "ticks": ""
           },
           "bgcolor": "#E5ECF6",
           "radialaxis": {
            "gridcolor": "white",
            "linecolor": "white",
            "ticks": ""
           }
          },
          "scene": {
           "xaxis": {
            "backgroundcolor": "#E5ECF6",
            "gridcolor": "white",
            "gridwidth": 2,
            "linecolor": "white",
            "showbackground": true,
            "ticks": "",
            "zerolinecolor": "white"
           },
           "yaxis": {
            "backgroundcolor": "#E5ECF6",
            "gridcolor": "white",
            "gridwidth": 2,
            "linecolor": "white",
            "showbackground": true,
            "ticks": "",
            "zerolinecolor": "white"
           },
           "zaxis": {
            "backgroundcolor": "#E5ECF6",
            "gridcolor": "white",
            "gridwidth": 2,
            "linecolor": "white",
            "showbackground": true,
            "ticks": "",
            "zerolinecolor": "white"
           }
          },
          "shapedefaults": {
           "line": {
            "color": "#2a3f5f"
           }
          },
          "ternary": {
           "aaxis": {
            "gridcolor": "white",
            "linecolor": "white",
            "ticks": ""
           },
           "baxis": {
            "gridcolor": "white",
            "linecolor": "white",
            "ticks": ""
           },
           "bgcolor": "#E5ECF6",
           "caxis": {
            "gridcolor": "white",
            "linecolor": "white",
            "ticks": ""
           }
          },
          "title": {
           "x": 0.05
          },
          "xaxis": {
           "automargin": true,
           "gridcolor": "white",
           "linecolor": "white",
           "ticks": "",
           "title": {
            "standoff": 15
           },
           "zerolinecolor": "white",
           "zerolinewidth": 2
          },
          "yaxis": {
           "automargin": true,
           "gridcolor": "white",
           "linecolor": "white",
           "ticks": "",
           "title": {
            "standoff": 15
           },
           "zerolinecolor": "white",
           "zerolinewidth": 2
          }
         }
        },
        "title": {
         "text": "Percentage of students that failed in more than one subject between 2018-2023"
        },
        "xaxis": {
         "anchor": "y",
         "domain": [
          0,
          1
         ],
         "showspikes": true,
         "spikecolor": "green",
         "spikedash": "solid",
         "spikemode": "across",
         "spikesnap": "cursor",
         "title": {
          "text": "Läsår"
         }
        },
        "yaxis": {
         "anchor": "x",
         "domain": [
          0,
          1
         ],
         "title": {
          "text": "Percentage"
         }
        }
       }
      }
     },
     "metadata": {},
     "output_type": "display_data"
    }
   ],
   "source": [
    "f_data1b=pd.DataFrame()\n",
    "df_data1b = df_tabell1B[df_tabell1B['Läsår\\nHuvudman\\nBakgrund'].isin(['2018/19', '2019/20', '2020/21', '2021/22', '2022/23'])].copy()\n",
    "df_data1b.rename(columns={'Läsår\\nHuvudman\\nBakgrund':'Årtal'}, inplace = True)\n",
    "\n",
    "fig = px.line(df_data1b, x='Årtal', y=['Totalt (procent ej godkänt)', 'Flickor (procent ej godkänt)', 'Pojkar (procent ej godkänt)' ], \n",
    "               title=\"Percentage of students that failed in more than one subject between 2018-2023\",\n",
    "              labels={'Årtal': 'Läsår', 'value':'Percentage'},\n",
    "              hover_data={'Årtal': True, 'value': ':.2f'})\n",
    "            \n",
    "\n",
    "fig.update_layout(hovermode=\"x\")\n",
    "fig.update_xaxes(\n",
    "    showspikes=True,\n",
    "    spikedash=\"solid\",\n",
    "    spikecolor=\"green\",\n",
    "    spikemode=\"across\",\n",
    "    spikesnap=\"cursor\"\n",
    ")\n",
    "\n",
    "\n",
    "fig.show()\n"
   ]
  },
  {
   "cell_type": "markdown",
   "metadata": {},
   "source": [
    "#### b) Linechart for merits value for 16 subjects (total, girls, boys) 2018-2023\n",
    "\n"
   ]
  },
  {
   "cell_type": "code",
   "execution_count": 11,
   "metadata": {},
   "outputs": [
    {
     "data": {
      "application/vnd.plotly.v1+json": {
       "config": {
        "plotlyServerURL": "https://plot.ly"
       },
       "data": [
        {
         "hovertemplate": "variable=Totalt (merit 16 ämnen)<br>Läsår=%{x}<br>Merits=%{y:.2f}<extra></extra>",
         "legendgroup": "Totalt (merit 16 ämnen)",
         "line": {
          "color": "#636efa",
          "dash": "solid"
         },
         "marker": {
          "symbol": "circle"
         },
         "mode": "lines",
         "name": "Totalt (merit 16 ämnen)",
         "orientation": "v",
         "showlegend": true,
         "type": "scatter",
         "x": [
          "2018/19",
          "2019/20",
          "2020/21",
          "2021/22",
          "2022/23"
         ],
         "xaxis": "x",
         "y": [
          221.7,
          222.9,
          223.9,
          221.2,
          220.6
         ],
         "yaxis": "y"
        },
        {
         "hovertemplate": "variable=Flickor (merit 16 ämnen)<br>Läsår=%{x}<br>Merits=%{y:.2f}<extra></extra>",
         "legendgroup": "Flickor (merit 16 ämnen)",
         "line": {
          "color": "#EF553B",
          "dash": "solid"
         },
         "marker": {
          "symbol": "circle"
         },
         "mode": "lines",
         "name": "Flickor (merit 16 ämnen)",
         "orientation": "v",
         "showlegend": true,
         "type": "scatter",
         "x": [
          "2018/19",
          "2019/20",
          "2020/21",
          "2021/22",
          "2022/23"
         ],
         "xaxis": "x",
         "y": [
          234.3,
          235.7,
          235.4,
          231.6,
          229.7
         ],
         "yaxis": "y"
        },
        {
         "hovertemplate": "variable=Pojkar (merit 16 ämnen)<br>Läsår=%{x}<br>Merits=%{y:.2f}<extra></extra>",
         "legendgroup": "Pojkar (merit 16 ämnen)",
         "line": {
          "color": "#00cc96",
          "dash": "solid"
         },
         "marker": {
          "symbol": "circle"
         },
         "mode": "lines",
         "name": "Pojkar (merit 16 ämnen)",
         "orientation": "v",
         "showlegend": true,
         "type": "scatter",
         "x": [
          "2018/19",
          "2019/20",
          "2020/21",
          "2021/22",
          "2022/23"
         ],
         "xaxis": "x",
         "y": [
          209.8,
          210.9,
          212.9,
          211.4,
          211.9
         ],
         "yaxis": "y"
        }
       ],
       "layout": {
        "font": {
         "color": "#6b7280",
         "family": "Courier New"
        },
        "hovermode": "x",
        "legend": {
         "title": {
          "font": {
           "color": "black"
          },
          "text": "variable"
         },
         "tracegroupgap": 0
        },
        "template": {
         "data": {
          "bar": [
           {
            "error_x": {
             "color": "#2a3f5f"
            },
            "error_y": {
             "color": "#2a3f5f"
            },
            "marker": {
             "line": {
              "color": "#E5ECF6",
              "width": 0.5
             },
             "pattern": {
              "fillmode": "overlay",
              "size": 10,
              "solidity": 0.2
             }
            },
            "type": "bar"
           }
          ],
          "barpolar": [
           {
            "marker": {
             "line": {
              "color": "#E5ECF6",
              "width": 0.5
             },
             "pattern": {
              "fillmode": "overlay",
              "size": 10,
              "solidity": 0.2
             }
            },
            "type": "barpolar"
           }
          ],
          "carpet": [
           {
            "aaxis": {
             "endlinecolor": "#2a3f5f",
             "gridcolor": "white",
             "linecolor": "white",
             "minorgridcolor": "white",
             "startlinecolor": "#2a3f5f"
            },
            "baxis": {
             "endlinecolor": "#2a3f5f",
             "gridcolor": "white",
             "linecolor": "white",
             "minorgridcolor": "white",
             "startlinecolor": "#2a3f5f"
            },
            "type": "carpet"
           }
          ],
          "choropleth": [
           {
            "colorbar": {
             "outlinewidth": 0,
             "ticks": ""
            },
            "type": "choropleth"
           }
          ],
          "contour": [
           {
            "colorbar": {
             "outlinewidth": 0,
             "ticks": ""
            },
            "colorscale": [
             [
              0,
              "#0d0887"
             ],
             [
              0.1111111111111111,
              "#46039f"
             ],
             [
              0.2222222222222222,
              "#7201a8"
             ],
             [
              0.3333333333333333,
              "#9c179e"
             ],
             [
              0.4444444444444444,
              "#bd3786"
             ],
             [
              0.5555555555555556,
              "#d8576b"
             ],
             [
              0.6666666666666666,
              "#ed7953"
             ],
             [
              0.7777777777777778,
              "#fb9f3a"
             ],
             [
              0.8888888888888888,
              "#fdca26"
             ],
             [
              1,
              "#f0f921"
             ]
            ],
            "type": "contour"
           }
          ],
          "contourcarpet": [
           {
            "colorbar": {
             "outlinewidth": 0,
             "ticks": ""
            },
            "type": "contourcarpet"
           }
          ],
          "heatmap": [
           {
            "colorbar": {
             "outlinewidth": 0,
             "ticks": ""
            },
            "colorscale": [
             [
              0,
              "#0d0887"
             ],
             [
              0.1111111111111111,
              "#46039f"
             ],
             [
              0.2222222222222222,
              "#7201a8"
             ],
             [
              0.3333333333333333,
              "#9c179e"
             ],
             [
              0.4444444444444444,
              "#bd3786"
             ],
             [
              0.5555555555555556,
              "#d8576b"
             ],
             [
              0.6666666666666666,
              "#ed7953"
             ],
             [
              0.7777777777777778,
              "#fb9f3a"
             ],
             [
              0.8888888888888888,
              "#fdca26"
             ],
             [
              1,
              "#f0f921"
             ]
            ],
            "type": "heatmap"
           }
          ],
          "heatmapgl": [
           {
            "colorbar": {
             "outlinewidth": 0,
             "ticks": ""
            },
            "colorscale": [
             [
              0,
              "#0d0887"
             ],
             [
              0.1111111111111111,
              "#46039f"
             ],
             [
              0.2222222222222222,
              "#7201a8"
             ],
             [
              0.3333333333333333,
              "#9c179e"
             ],
             [
              0.4444444444444444,
              "#bd3786"
             ],
             [
              0.5555555555555556,
              "#d8576b"
             ],
             [
              0.6666666666666666,
              "#ed7953"
             ],
             [
              0.7777777777777778,
              "#fb9f3a"
             ],
             [
              0.8888888888888888,
              "#fdca26"
             ],
             [
              1,
              "#f0f921"
             ]
            ],
            "type": "heatmapgl"
           }
          ],
          "histogram": [
           {
            "marker": {
             "pattern": {
              "fillmode": "overlay",
              "size": 10,
              "solidity": 0.2
             }
            },
            "type": "histogram"
           }
          ],
          "histogram2d": [
           {
            "colorbar": {
             "outlinewidth": 0,
             "ticks": ""
            },
            "colorscale": [
             [
              0,
              "#0d0887"
             ],
             [
              0.1111111111111111,
              "#46039f"
             ],
             [
              0.2222222222222222,
              "#7201a8"
             ],
             [
              0.3333333333333333,
              "#9c179e"
             ],
             [
              0.4444444444444444,
              "#bd3786"
             ],
             [
              0.5555555555555556,
              "#d8576b"
             ],
             [
              0.6666666666666666,
              "#ed7953"
             ],
             [
              0.7777777777777778,
              "#fb9f3a"
             ],
             [
              0.8888888888888888,
              "#fdca26"
             ],
             [
              1,
              "#f0f921"
             ]
            ],
            "type": "histogram2d"
           }
          ],
          "histogram2dcontour": [
           {
            "colorbar": {
             "outlinewidth": 0,
             "ticks": ""
            },
            "colorscale": [
             [
              0,
              "#0d0887"
             ],
             [
              0.1111111111111111,
              "#46039f"
             ],
             [
              0.2222222222222222,
              "#7201a8"
             ],
             [
              0.3333333333333333,
              "#9c179e"
             ],
             [
              0.4444444444444444,
              "#bd3786"
             ],
             [
              0.5555555555555556,
              "#d8576b"
             ],
             [
              0.6666666666666666,
              "#ed7953"
             ],
             [
              0.7777777777777778,
              "#fb9f3a"
             ],
             [
              0.8888888888888888,
              "#fdca26"
             ],
             [
              1,
              "#f0f921"
             ]
            ],
            "type": "histogram2dcontour"
           }
          ],
          "mesh3d": [
           {
            "colorbar": {
             "outlinewidth": 0,
             "ticks": ""
            },
            "type": "mesh3d"
           }
          ],
          "parcoords": [
           {
            "line": {
             "colorbar": {
              "outlinewidth": 0,
              "ticks": ""
             }
            },
            "type": "parcoords"
           }
          ],
          "pie": [
           {
            "automargin": true,
            "type": "pie"
           }
          ],
          "scatter": [
           {
            "fillpattern": {
             "fillmode": "overlay",
             "size": 10,
             "solidity": 0.2
            },
            "type": "scatter"
           }
          ],
          "scatter3d": [
           {
            "line": {
             "colorbar": {
              "outlinewidth": 0,
              "ticks": ""
             }
            },
            "marker": {
             "colorbar": {
              "outlinewidth": 0,
              "ticks": ""
             }
            },
            "type": "scatter3d"
           }
          ],
          "scattercarpet": [
           {
            "marker": {
             "colorbar": {
              "outlinewidth": 0,
              "ticks": ""
             }
            },
            "type": "scattercarpet"
           }
          ],
          "scattergeo": [
           {
            "marker": {
             "colorbar": {
              "outlinewidth": 0,
              "ticks": ""
             }
            },
            "type": "scattergeo"
           }
          ],
          "scattergl": [
           {
            "marker": {
             "colorbar": {
              "outlinewidth": 0,
              "ticks": ""
             }
            },
            "type": "scattergl"
           }
          ],
          "scattermapbox": [
           {
            "marker": {
             "colorbar": {
              "outlinewidth": 0,
              "ticks": ""
             }
            },
            "type": "scattermapbox"
           }
          ],
          "scatterpolar": [
           {
            "marker": {
             "colorbar": {
              "outlinewidth": 0,
              "ticks": ""
             }
            },
            "type": "scatterpolar"
           }
          ],
          "scatterpolargl": [
           {
            "marker": {
             "colorbar": {
              "outlinewidth": 0,
              "ticks": ""
             }
            },
            "type": "scatterpolargl"
           }
          ],
          "scatterternary": [
           {
            "marker": {
             "colorbar": {
              "outlinewidth": 0,
              "ticks": ""
             }
            },
            "type": "scatterternary"
           }
          ],
          "surface": [
           {
            "colorbar": {
             "outlinewidth": 0,
             "ticks": ""
            },
            "colorscale": [
             [
              0,
              "#0d0887"
             ],
             [
              0.1111111111111111,
              "#46039f"
             ],
             [
              0.2222222222222222,
              "#7201a8"
             ],
             [
              0.3333333333333333,
              "#9c179e"
             ],
             [
              0.4444444444444444,
              "#bd3786"
             ],
             [
              0.5555555555555556,
              "#d8576b"
             ],
             [
              0.6666666666666666,
              "#ed7953"
             ],
             [
              0.7777777777777778,
              "#fb9f3a"
             ],
             [
              0.8888888888888888,
              "#fdca26"
             ],
             [
              1,
              "#f0f921"
             ]
            ],
            "type": "surface"
           }
          ],
          "table": [
           {
            "cells": {
             "fill": {
              "color": "#EBF0F8"
             },
             "line": {
              "color": "white"
             }
            },
            "header": {
             "fill": {
              "color": "#C8D4E3"
             },
             "line": {
              "color": "white"
             }
            },
            "type": "table"
           }
          ]
         },
         "layout": {
          "annotationdefaults": {
           "arrowcolor": "#2a3f5f",
           "arrowhead": 0,
           "arrowwidth": 1
          },
          "autotypenumbers": "strict",
          "coloraxis": {
           "colorbar": {
            "outlinewidth": 0,
            "ticks": ""
           }
          },
          "colorscale": {
           "diverging": [
            [
             0,
             "#8e0152"
            ],
            [
             0.1,
             "#c51b7d"
            ],
            [
             0.2,
             "#de77ae"
            ],
            [
             0.3,
             "#f1b6da"
            ],
            [
             0.4,
             "#fde0ef"
            ],
            [
             0.5,
             "#f7f7f7"
            ],
            [
             0.6,
             "#e6f5d0"
            ],
            [
             0.7,
             "#b8e186"
            ],
            [
             0.8,
             "#7fbc41"
            ],
            [
             0.9,
             "#4d9221"
            ],
            [
             1,
             "#276419"
            ]
           ],
           "sequential": [
            [
             0,
             "#0d0887"
            ],
            [
             0.1111111111111111,
             "#46039f"
            ],
            [
             0.2222222222222222,
             "#7201a8"
            ],
            [
             0.3333333333333333,
             "#9c179e"
            ],
            [
             0.4444444444444444,
             "#bd3786"
            ],
            [
             0.5555555555555556,
             "#d8576b"
            ],
            [
             0.6666666666666666,
             "#ed7953"
            ],
            [
             0.7777777777777778,
             "#fb9f3a"
            ],
            [
             0.8888888888888888,
             "#fdca26"
            ],
            [
             1,
             "#f0f921"
            ]
           ],
           "sequentialminus": [
            [
             0,
             "#0d0887"
            ],
            [
             0.1111111111111111,
             "#46039f"
            ],
            [
             0.2222222222222222,
             "#7201a8"
            ],
            [
             0.3333333333333333,
             "#9c179e"
            ],
            [
             0.4444444444444444,
             "#bd3786"
            ],
            [
             0.5555555555555556,
             "#d8576b"
            ],
            [
             0.6666666666666666,
             "#ed7953"
            ],
            [
             0.7777777777777778,
             "#fb9f3a"
            ],
            [
             0.8888888888888888,
             "#fdca26"
            ],
            [
             1,
             "#f0f921"
            ]
           ]
          },
          "colorway": [
           "#636efa",
           "#EF553B",
           "#00cc96",
           "#ab63fa",
           "#FFA15A",
           "#19d3f3",
           "#FF6692",
           "#B6E880",
           "#FF97FF",
           "#FECB52"
          ],
          "font": {
           "color": "#2a3f5f"
          },
          "geo": {
           "bgcolor": "white",
           "lakecolor": "white",
           "landcolor": "#E5ECF6",
           "showlakes": true,
           "showland": true,
           "subunitcolor": "white"
          },
          "hoverlabel": {
           "align": "left"
          },
          "hovermode": "closest",
          "mapbox": {
           "style": "light"
          },
          "paper_bgcolor": "white",
          "plot_bgcolor": "#E5ECF6",
          "polar": {
           "angularaxis": {
            "gridcolor": "white",
            "linecolor": "white",
            "ticks": ""
           },
           "bgcolor": "#E5ECF6",
           "radialaxis": {
            "gridcolor": "white",
            "linecolor": "white",
            "ticks": ""
           }
          },
          "scene": {
           "xaxis": {
            "backgroundcolor": "#E5ECF6",
            "gridcolor": "white",
            "gridwidth": 2,
            "linecolor": "white",
            "showbackground": true,
            "ticks": "",
            "zerolinecolor": "white"
           },
           "yaxis": {
            "backgroundcolor": "#E5ECF6",
            "gridcolor": "white",
            "gridwidth": 2,
            "linecolor": "white",
            "showbackground": true,
            "ticks": "",
            "zerolinecolor": "white"
           },
           "zaxis": {
            "backgroundcolor": "#E5ECF6",
            "gridcolor": "white",
            "gridwidth": 2,
            "linecolor": "white",
            "showbackground": true,
            "ticks": "",
            "zerolinecolor": "white"
           }
          },
          "shapedefaults": {
           "line": {
            "color": "#2a3f5f"
           }
          },
          "ternary": {
           "aaxis": {
            "gridcolor": "white",
            "linecolor": "white",
            "ticks": ""
           },
           "baxis": {
            "gridcolor": "white",
            "linecolor": "white",
            "ticks": ""
           },
           "bgcolor": "#E5ECF6",
           "caxis": {
            "gridcolor": "white",
            "linecolor": "white",
            "ticks": ""
           }
          },
          "title": {
           "x": 0.05
          },
          "xaxis": {
           "automargin": true,
           "gridcolor": "white",
           "linecolor": "white",
           "ticks": "",
           "title": {
            "standoff": 15
           },
           "zerolinecolor": "white",
           "zerolinewidth": 2
          },
          "yaxis": {
           "automargin": true,
           "gridcolor": "white",
           "linecolor": "white",
           "ticks": "",
           "title": {
            "standoff": 15
           },
           "zerolinecolor": "white",
           "zerolinewidth": 2
          }
         }
        },
        "title": {
         "font": {
          "color": "#6b7280",
          "family": "Times New Roman"
         },
         "text": "Merits value for students for 16 subjects between 2018-2023"
        },
        "xaxis": {
         "anchor": "y",
         "domain": [
          0,
          1
         ],
         "showspikes": true,
         "spikecolor": "green",
         "spikedash": "solid",
         "spikemode": "across",
         "spikesnap": "cursor",
         "title": {
          "font": {
           "family": "Arial"
          },
          "text": "Läsår"
         }
        },
        "yaxis": {
         "anchor": "x",
         "domain": [
          0,
          1
         ],
         "title": {
          "text": "Merits"
         }
        }
       }
      }
     },
     "metadata": {},
     "output_type": "display_data"
    }
   ],
   "source": [
    "df_data2=pd.DataFrame()\n",
    "df_data2 = df_tabell1B[df_tabell1B['Läsår\\nHuvudman\\nBakgrund'].isin(['2018/19', '2019/20', '2020/21', '2021/22', '2022/23'])].copy()\n",
    "df_data2.rename(columns={'Läsår\\nHuvudman\\nBakgrund':'Årtal'}, inplace = True)\n",
    "\n",
    "fig = px.line(df_data2, x='Årtal', y=['Totalt (merit 16 ämnen)', 'Flickor (merit 16 ämnen)', 'Pojkar (merit 16 ämnen)' ], \n",
    "               title=\"Merits value for students for 16 subjects between 2018-2023\", \n",
    "              labels={'Årtal': 'Läsår', 'value':'Merits'},\n",
    "              hover_data={'Årtal': True, 'value': ':.2f'})\n",
    "            \n",
    "\n",
    "fig.update_layout(hovermode=\"x\")\n",
    "fig.update_xaxes(\n",
    "    showspikes=True,\n",
    "    spikedash=\"solid\",\n",
    "    spikecolor=\"green\",\n",
    "    spikemode=\"across\",\n",
    "    spikesnap=\"cursor\"\n",
    ")\n",
    "\n",
    "fig.update_layout(\n",
    "    font_family=\"Courier New\",\n",
    "    font_color=GRAY1,\n",
    "    title_font_family=\"Times New Roman\",\n",
    "    title_font_color=GRAY1,\n",
    "    legend_title_font_color=\"black\"\n",
    ")\n",
    "fig.update_xaxes(title_font_family=\"Arial\")\n",
    "\n",
    "\n",
    "fig.show()\n"
   ]
  },
  {
   "cell_type": "markdown",
   "metadata": {},
   "source": [
    "#### c) Explore other variables and see how the value of merits and fraction with at least one subject missing a grade is affected.  \n"
   ]
  },
  {
   "cell_type": "markdown",
   "metadata": {},
   "source": [
    "Exploring the background of students with respect to how large fraction missing a pass grade  "
   ]
  },
  {
   "cell_type": "code",
   "execution_count": 12,
   "metadata": {},
   "outputs": [
    {
     "data": {
      "application/vnd.plotly.v1+json": {
       "config": {
        "plotlyServerURL": "https://plot.ly"
       },
       "data": [
        {
         "alignmentgroup": "True",
         "hovertemplate": "variable=Totalt (underkända)<br>Studen category=%{x}<br>Percentage=%{y:.2f}<extra></extra>",
         "legendgroup": "Totalt (underkända)",
         "marker": {
          "color": "#636efa",
          "pattern": {
           "shape": ""
          }
         },
         "name": "Totalt (underkända)",
         "offsetgroup": "Totalt (underkända)",
         "orientation": "v",
         "showlegend": true,
         "textposition": "auto",
         "type": "bar",
         "x": [
          "Elever med svensk bakgrund",
          "Födda i Sverige",
          "Födda utomlands, inv. före 2014",
          "Födda utomlands, inv. 2014 el. senare"
         ],
         "xaxis": "x",
         "y": [
          1.7921998574386477,
          1.5653048036188721,
          2.5190483595086355,
          4.662629757785464
         ],
         "yaxis": "y"
        },
        {
         "alignmentgroup": "True",
         "hovertemplate": "variable=Flickor (underkända)<br>Studen category=%{x}<br>Percentage=%{y:.2f}<extra></extra>",
         "legendgroup": "Flickor (underkända)",
         "marker": {
          "color": "#EF553B",
          "pattern": {
           "shape": ""
          }
         },
         "name": "Flickor (underkända)",
         "offsetgroup": "Flickor (underkända)",
         "orientation": "v",
         "showlegend": true,
         "textposition": "auto",
         "type": "bar",
         "x": [
          "Elever med svensk bakgrund",
          "Födda i Sverige",
          "Födda utomlands, inv. före 2014",
          "Födda utomlands, inv. 2014 el. senare"
         ],
         "xaxis": "x",
         "y": [
          1.7888672056500354,
          1.4053579270970618,
          2.7615334632878463,
          4.319770568202186
         ],
         "yaxis": "y"
        },
        {
         "alignmentgroup": "True",
         "hovertemplate": "variable=Pojkar (underkända)<br>Studen category=%{x}<br>Percentage=%{y:.2f}<extra></extra>",
         "legendgroup": "Pojkar (underkända)",
         "marker": {
          "color": "#00cc96",
          "pattern": {
           "shape": ""
          }
         },
         "name": "Pojkar (underkända)",
         "offsetgroup": "Pojkar (underkända)",
         "orientation": "v",
         "showlegend": true,
         "textposition": "auto",
         "type": "bar",
         "x": [
          "Elever med svensk bakgrund",
          "Födda i Sverige",
          "Födda utomlands, inv. före 2014",
          "Födda utomlands, inv. 2014 el. senare"
         ],
         "xaxis": "x",
         "y": [
          1.7953638148172635,
          1.7192784667418248,
          2.2964509394572064,
          4.982444407289755
         ],
         "yaxis": "y"
        }
       ],
       "layout": {
        "barmode": "group",
        "legend": {
         "title": {
          "text": "variable"
         },
         "tracegroupgap": 0
        },
        "template": {
         "data": {
          "bar": [
           {
            "error_x": {
             "color": "#2a3f5f"
            },
            "error_y": {
             "color": "#2a3f5f"
            },
            "marker": {
             "line": {
              "color": "#E5ECF6",
              "width": 0.5
             },
             "pattern": {
              "fillmode": "overlay",
              "size": 10,
              "solidity": 0.2
             }
            },
            "type": "bar"
           }
          ],
          "barpolar": [
           {
            "marker": {
             "line": {
              "color": "#E5ECF6",
              "width": 0.5
             },
             "pattern": {
              "fillmode": "overlay",
              "size": 10,
              "solidity": 0.2
             }
            },
            "type": "barpolar"
           }
          ],
          "carpet": [
           {
            "aaxis": {
             "endlinecolor": "#2a3f5f",
             "gridcolor": "white",
             "linecolor": "white",
             "minorgridcolor": "white",
             "startlinecolor": "#2a3f5f"
            },
            "baxis": {
             "endlinecolor": "#2a3f5f",
             "gridcolor": "white",
             "linecolor": "white",
             "minorgridcolor": "white",
             "startlinecolor": "#2a3f5f"
            },
            "type": "carpet"
           }
          ],
          "choropleth": [
           {
            "colorbar": {
             "outlinewidth": 0,
             "ticks": ""
            },
            "type": "choropleth"
           }
          ],
          "contour": [
           {
            "colorbar": {
             "outlinewidth": 0,
             "ticks": ""
            },
            "colorscale": [
             [
              0,
              "#0d0887"
             ],
             [
              0.1111111111111111,
              "#46039f"
             ],
             [
              0.2222222222222222,
              "#7201a8"
             ],
             [
              0.3333333333333333,
              "#9c179e"
             ],
             [
              0.4444444444444444,
              "#bd3786"
             ],
             [
              0.5555555555555556,
              "#d8576b"
             ],
             [
              0.6666666666666666,
              "#ed7953"
             ],
             [
              0.7777777777777778,
              "#fb9f3a"
             ],
             [
              0.8888888888888888,
              "#fdca26"
             ],
             [
              1,
              "#f0f921"
             ]
            ],
            "type": "contour"
           }
          ],
          "contourcarpet": [
           {
            "colorbar": {
             "outlinewidth": 0,
             "ticks": ""
            },
            "type": "contourcarpet"
           }
          ],
          "heatmap": [
           {
            "colorbar": {
             "outlinewidth": 0,
             "ticks": ""
            },
            "colorscale": [
             [
              0,
              "#0d0887"
             ],
             [
              0.1111111111111111,
              "#46039f"
             ],
             [
              0.2222222222222222,
              "#7201a8"
             ],
             [
              0.3333333333333333,
              "#9c179e"
             ],
             [
              0.4444444444444444,
              "#bd3786"
             ],
             [
              0.5555555555555556,
              "#d8576b"
             ],
             [
              0.6666666666666666,
              "#ed7953"
             ],
             [
              0.7777777777777778,
              "#fb9f3a"
             ],
             [
              0.8888888888888888,
              "#fdca26"
             ],
             [
              1,
              "#f0f921"
             ]
            ],
            "type": "heatmap"
           }
          ],
          "heatmapgl": [
           {
            "colorbar": {
             "outlinewidth": 0,
             "ticks": ""
            },
            "colorscale": [
             [
              0,
              "#0d0887"
             ],
             [
              0.1111111111111111,
              "#46039f"
             ],
             [
              0.2222222222222222,
              "#7201a8"
             ],
             [
              0.3333333333333333,
              "#9c179e"
             ],
             [
              0.4444444444444444,
              "#bd3786"
             ],
             [
              0.5555555555555556,
              "#d8576b"
             ],
             [
              0.6666666666666666,
              "#ed7953"
             ],
             [
              0.7777777777777778,
              "#fb9f3a"
             ],
             [
              0.8888888888888888,
              "#fdca26"
             ],
             [
              1,
              "#f0f921"
             ]
            ],
            "type": "heatmapgl"
           }
          ],
          "histogram": [
           {
            "marker": {
             "pattern": {
              "fillmode": "overlay",
              "size": 10,
              "solidity": 0.2
             }
            },
            "type": "histogram"
           }
          ],
          "histogram2d": [
           {
            "colorbar": {
             "outlinewidth": 0,
             "ticks": ""
            },
            "colorscale": [
             [
              0,
              "#0d0887"
             ],
             [
              0.1111111111111111,
              "#46039f"
             ],
             [
              0.2222222222222222,
              "#7201a8"
             ],
             [
              0.3333333333333333,
              "#9c179e"
             ],
             [
              0.4444444444444444,
              "#bd3786"
             ],
             [
              0.5555555555555556,
              "#d8576b"
             ],
             [
              0.6666666666666666,
              "#ed7953"
             ],
             [
              0.7777777777777778,
              "#fb9f3a"
             ],
             [
              0.8888888888888888,
              "#fdca26"
             ],
             [
              1,
              "#f0f921"
             ]
            ],
            "type": "histogram2d"
           }
          ],
          "histogram2dcontour": [
           {
            "colorbar": {
             "outlinewidth": 0,
             "ticks": ""
            },
            "colorscale": [
             [
              0,
              "#0d0887"
             ],
             [
              0.1111111111111111,
              "#46039f"
             ],
             [
              0.2222222222222222,
              "#7201a8"
             ],
             [
              0.3333333333333333,
              "#9c179e"
             ],
             [
              0.4444444444444444,
              "#bd3786"
             ],
             [
              0.5555555555555556,
              "#d8576b"
             ],
             [
              0.6666666666666666,
              "#ed7953"
             ],
             [
              0.7777777777777778,
              "#fb9f3a"
             ],
             [
              0.8888888888888888,
              "#fdca26"
             ],
             [
              1,
              "#f0f921"
             ]
            ],
            "type": "histogram2dcontour"
           }
          ],
          "mesh3d": [
           {
            "colorbar": {
             "outlinewidth": 0,
             "ticks": ""
            },
            "type": "mesh3d"
           }
          ],
          "parcoords": [
           {
            "line": {
             "colorbar": {
              "outlinewidth": 0,
              "ticks": ""
             }
            },
            "type": "parcoords"
           }
          ],
          "pie": [
           {
            "automargin": true,
            "type": "pie"
           }
          ],
          "scatter": [
           {
            "fillpattern": {
             "fillmode": "overlay",
             "size": 10,
             "solidity": 0.2
            },
            "type": "scatter"
           }
          ],
          "scatter3d": [
           {
            "line": {
             "colorbar": {
              "outlinewidth": 0,
              "ticks": ""
             }
            },
            "marker": {
             "colorbar": {
              "outlinewidth": 0,
              "ticks": ""
             }
            },
            "type": "scatter3d"
           }
          ],
          "scattercarpet": [
           {
            "marker": {
             "colorbar": {
              "outlinewidth": 0,
              "ticks": ""
             }
            },
            "type": "scattercarpet"
           }
          ],
          "scattergeo": [
           {
            "marker": {
             "colorbar": {
              "outlinewidth": 0,
              "ticks": ""
             }
            },
            "type": "scattergeo"
           }
          ],
          "scattergl": [
           {
            "marker": {
             "colorbar": {
              "outlinewidth": 0,
              "ticks": ""
             }
            },
            "type": "scattergl"
           }
          ],
          "scattermapbox": [
           {
            "marker": {
             "colorbar": {
              "outlinewidth": 0,
              "ticks": ""
             }
            },
            "type": "scattermapbox"
           }
          ],
          "scatterpolar": [
           {
            "marker": {
             "colorbar": {
              "outlinewidth": 0,
              "ticks": ""
             }
            },
            "type": "scatterpolar"
           }
          ],
          "scatterpolargl": [
           {
            "marker": {
             "colorbar": {
              "outlinewidth": 0,
              "ticks": ""
             }
            },
            "type": "scatterpolargl"
           }
          ],
          "scatterternary": [
           {
            "marker": {
             "colorbar": {
              "outlinewidth": 0,
              "ticks": ""
             }
            },
            "type": "scatterternary"
           }
          ],
          "surface": [
           {
            "colorbar": {
             "outlinewidth": 0,
             "ticks": ""
            },
            "colorscale": [
             [
              0,
              "#0d0887"
             ],
             [
              0.1111111111111111,
              "#46039f"
             ],
             [
              0.2222222222222222,
              "#7201a8"
             ],
             [
              0.3333333333333333,
              "#9c179e"
             ],
             [
              0.4444444444444444,
              "#bd3786"
             ],
             [
              0.5555555555555556,
              "#d8576b"
             ],
             [
              0.6666666666666666,
              "#ed7953"
             ],
             [
              0.7777777777777778,
              "#fb9f3a"
             ],
             [
              0.8888888888888888,
              "#fdca26"
             ],
             [
              1,
              "#f0f921"
             ]
            ],
            "type": "surface"
           }
          ],
          "table": [
           {
            "cells": {
             "fill": {
              "color": "#EBF0F8"
             },
             "line": {
              "color": "white"
             }
            },
            "header": {
             "fill": {
              "color": "#C8D4E3"
             },
             "line": {
              "color": "white"
             }
            },
            "type": "table"
           }
          ]
         },
         "layout": {
          "annotationdefaults": {
           "arrowcolor": "#2a3f5f",
           "arrowhead": 0,
           "arrowwidth": 1
          },
          "autotypenumbers": "strict",
          "coloraxis": {
           "colorbar": {
            "outlinewidth": 0,
            "ticks": ""
           }
          },
          "colorscale": {
           "diverging": [
            [
             0,
             "#8e0152"
            ],
            [
             0.1,
             "#c51b7d"
            ],
            [
             0.2,
             "#de77ae"
            ],
            [
             0.3,
             "#f1b6da"
            ],
            [
             0.4,
             "#fde0ef"
            ],
            [
             0.5,
             "#f7f7f7"
            ],
            [
             0.6,
             "#e6f5d0"
            ],
            [
             0.7,
             "#b8e186"
            ],
            [
             0.8,
             "#7fbc41"
            ],
            [
             0.9,
             "#4d9221"
            ],
            [
             1,
             "#276419"
            ]
           ],
           "sequential": [
            [
             0,
             "#0d0887"
            ],
            [
             0.1111111111111111,
             "#46039f"
            ],
            [
             0.2222222222222222,
             "#7201a8"
            ],
            [
             0.3333333333333333,
             "#9c179e"
            ],
            [
             0.4444444444444444,
             "#bd3786"
            ],
            [
             0.5555555555555556,
             "#d8576b"
            ],
            [
             0.6666666666666666,
             "#ed7953"
            ],
            [
             0.7777777777777778,
             "#fb9f3a"
            ],
            [
             0.8888888888888888,
             "#fdca26"
            ],
            [
             1,
             "#f0f921"
            ]
           ],
           "sequentialminus": [
            [
             0,
             "#0d0887"
            ],
            [
             0.1111111111111111,
             "#46039f"
            ],
            [
             0.2222222222222222,
             "#7201a8"
            ],
            [
             0.3333333333333333,
             "#9c179e"
            ],
            [
             0.4444444444444444,
             "#bd3786"
            ],
            [
             0.5555555555555556,
             "#d8576b"
            ],
            [
             0.6666666666666666,
             "#ed7953"
            ],
            [
             0.7777777777777778,
             "#fb9f3a"
            ],
            [
             0.8888888888888888,
             "#fdca26"
            ],
            [
             1,
             "#f0f921"
            ]
           ]
          },
          "colorway": [
           "#636efa",
           "#EF553B",
           "#00cc96",
           "#ab63fa",
           "#FFA15A",
           "#19d3f3",
           "#FF6692",
           "#B6E880",
           "#FF97FF",
           "#FECB52"
          ],
          "font": {
           "color": "#2a3f5f"
          },
          "geo": {
           "bgcolor": "white",
           "lakecolor": "white",
           "landcolor": "#E5ECF6",
           "showlakes": true,
           "showland": true,
           "subunitcolor": "white"
          },
          "hoverlabel": {
           "align": "left"
          },
          "hovermode": "closest",
          "mapbox": {
           "style": "light"
          },
          "paper_bgcolor": "white",
          "plot_bgcolor": "#E5ECF6",
          "polar": {
           "angularaxis": {
            "gridcolor": "white",
            "linecolor": "white",
            "ticks": ""
           },
           "bgcolor": "#E5ECF6",
           "radialaxis": {
            "gridcolor": "white",
            "linecolor": "white",
            "ticks": ""
           }
          },
          "scene": {
           "xaxis": {
            "backgroundcolor": "#E5ECF6",
            "gridcolor": "white",
            "gridwidth": 2,
            "linecolor": "white",
            "showbackground": true,
            "ticks": "",
            "zerolinecolor": "white"
           },
           "yaxis": {
            "backgroundcolor": "#E5ECF6",
            "gridcolor": "white",
            "gridwidth": 2,
            "linecolor": "white",
            "showbackground": true,
            "ticks": "",
            "zerolinecolor": "white"
           },
           "zaxis": {
            "backgroundcolor": "#E5ECF6",
            "gridcolor": "white",
            "gridwidth": 2,
            "linecolor": "white",
            "showbackground": true,
            "ticks": "",
            "zerolinecolor": "white"
           }
          },
          "shapedefaults": {
           "line": {
            "color": "#2a3f5f"
           }
          },
          "ternary": {
           "aaxis": {
            "gridcolor": "white",
            "linecolor": "white",
            "ticks": ""
           },
           "baxis": {
            "gridcolor": "white",
            "linecolor": "white",
            "ticks": ""
           },
           "bgcolor": "#E5ECF6",
           "caxis": {
            "gridcolor": "white",
            "linecolor": "white",
            "ticks": ""
           }
          },
          "title": {
           "x": 0.05
          },
          "xaxis": {
           "automargin": true,
           "gridcolor": "white",
           "linecolor": "white",
           "ticks": "",
           "title": {
            "standoff": 15
           },
           "zerolinecolor": "white",
           "zerolinewidth": 2
          },
          "yaxis": {
           "automargin": true,
           "gridcolor": "white",
           "linecolor": "white",
           "ticks": "",
           "title": {
            "standoff": 15
           },
           "zerolinecolor": "white",
           "zerolinewidth": 2
          }
         }
        },
        "title": {
         "text": "Background of students failed in percentage 2023"
        },
        "xaxis": {
         "anchor": "y",
         "domain": [
          0,
          1
         ],
         "title": {
          "text": "Studen category"
         }
        },
        "yaxis": {
         "anchor": "x",
         "domain": [
          0,
          1
         ],
         "title": {
          "text": "Percentage"
         }
        }
       }
      }
     },
     "metadata": {},
     "output_type": "display_data"
    },
    {
     "data": {
      "text/html": [
       "<div>\n",
       "<style scoped>\n",
       "    .dataframe tbody tr th:only-of-type {\n",
       "        vertical-align: middle;\n",
       "    }\n",
       "\n",
       "    .dataframe tbody tr th {\n",
       "        vertical-align: top;\n",
       "    }\n",
       "\n",
       "    .dataframe thead th {\n",
       "        text-align: right;\n",
       "    }\n",
       "</style>\n",
       "<table border=\"1\" class=\"dataframe\">\n",
       "  <thead>\n",
       "    <tr style=\"text-align: right;\">\n",
       "      <th></th>\n",
       "      <th>Huvudman</th>\n",
       "      <th>Totalt (åk9)</th>\n",
       "      <th>Flickor (åk9)</th>\n",
       "      <th>Pojkar (åk9)</th>\n",
       "      <th>Totalt (slutbetyg)</th>\n",
       "      <th>Flickor (slutbetyg)</th>\n",
       "      <th>Pojkar (slutbetyg)</th>\n",
       "      <th>Totalt (godkända)</th>\n",
       "      <th>Flickor (godkända)</th>\n",
       "      <th>Pojkar (godkända)</th>\n",
       "      <th>Totalt (underkända)</th>\n",
       "      <th>Flickor (underkända)</th>\n",
       "      <th>Pojkar (underkända)</th>\n",
       "    </tr>\n",
       "  </thead>\n",
       "  <tbody>\n",
       "    <tr>\n",
       "      <th>18</th>\n",
       "      <td>Elever med svensk bakgrund</td>\n",
       "      <td>88383.0</td>\n",
       "      <td>43044.0</td>\n",
       "      <td>45339.0</td>\n",
       "      <td>88214</td>\n",
       "      <td>42961</td>\n",
       "      <td>45253</td>\n",
       "      <td>86799</td>\n",
       "      <td>42274</td>\n",
       "      <td>44525</td>\n",
       "      <td>1.792200</td>\n",
       "      <td>1.788867</td>\n",
       "      <td>1.795364</td>\n",
       "    </tr>\n",
       "    <tr>\n",
       "      <th>21</th>\n",
       "      <td>Födda i Sverige</td>\n",
       "      <td>13927.0</td>\n",
       "      <td>6831.0</td>\n",
       "      <td>7096.0</td>\n",
       "      <td>13876</td>\n",
       "      <td>6807</td>\n",
       "      <td>7069</td>\n",
       "      <td>13709</td>\n",
       "      <td>6735</td>\n",
       "      <td>6974</td>\n",
       "      <td>1.565305</td>\n",
       "      <td>1.405358</td>\n",
       "      <td>1.719278</td>\n",
       "    </tr>\n",
       "    <tr>\n",
       "      <th>22</th>\n",
       "      <td>Födda utomlands, inv. före 2014</td>\n",
       "      <td>6431.0</td>\n",
       "      <td>3078.0</td>\n",
       "      <td>3353.0</td>\n",
       "      <td>6340</td>\n",
       "      <td>3025</td>\n",
       "      <td>3315</td>\n",
       "      <td>6269</td>\n",
       "      <td>2993</td>\n",
       "      <td>3276</td>\n",
       "      <td>2.519048</td>\n",
       "      <td>2.761533</td>\n",
       "      <td>2.296451</td>\n",
       "    </tr>\n",
       "    <tr>\n",
       "      <th>23</th>\n",
       "      <td>Födda utomlands, inv. 2014 el. senare</td>\n",
       "      <td>11560.0</td>\n",
       "      <td>5579.0</td>\n",
       "      <td>5981.0</td>\n",
       "      <td>11272</td>\n",
       "      <td>5415</td>\n",
       "      <td>5857</td>\n",
       "      <td>11021</td>\n",
       "      <td>5338</td>\n",
       "      <td>5683</td>\n",
       "      <td>4.662630</td>\n",
       "      <td>4.319771</td>\n",
       "      <td>4.982444</td>\n",
       "    </tr>\n",
       "  </tbody>\n",
       "</table>\n",
       "</div>"
      ],
      "text/plain": [
       "                                 Huvudman  Totalt (åk9)  Flickor (åk9)  \\\n",
       "18             Elever med svensk bakgrund       88383.0        43044.0   \n",
       "21                        Födda i Sverige       13927.0         6831.0   \n",
       "22        Födda utomlands, inv. före 2014        6431.0         3078.0   \n",
       "23  Födda utomlands, inv. 2014 el. senare       11560.0         5579.0   \n",
       "\n",
       "    Pojkar (åk9) Totalt (slutbetyg) Flickor (slutbetyg) Pojkar (slutbetyg)  \\\n",
       "18       45339.0              88214               42961              45253   \n",
       "21        7096.0              13876                6807               7069   \n",
       "22        3353.0               6340                3025               3315   \n",
       "23        5981.0              11272                5415               5857   \n",
       "\n",
       "   Totalt (godkända) Flickor (godkända) Pojkar (godkända)  \\\n",
       "18             86799              42274             44525   \n",
       "21             13709               6735              6974   \n",
       "22              6269               2993              3276   \n",
       "23             11021               5338              5683   \n",
       "\n",
       "    Totalt (underkända)  Flickor (underkända)  Pojkar (underkända)  \n",
       "18             1.792200              1.788867             1.795364  \n",
       "21             1.565305              1.405358             1.719278  \n",
       "22             2.519048              2.761533             2.296451  \n",
       "23             4.662630              4.319771             4.982444  "
      ]
     },
     "execution_count": 12,
     "metadata": {},
     "output_type": "execute_result"
    }
   ],
   "source": [
    "df_data3=pd.DataFrame()\n",
    "df_data3 = df_tabell1A[df_tabell1A['Läsår\\nHuvudman\\nBakgrund'].isin(['Elever med svensk bakgrund','Födda i Sverige','Födda utomlands, inv. före 2014','Födda utomlands, inv. 2014 el. senare'])].copy()\n",
    "df_data3.rename(columns={'Läsår\\nHuvudman\\nBakgrund':'Huvudman'}, inplace = True)\n",
    "\n",
    "df_data3.insert(10,\"Totalt (underkända)\", df_data3.apply(func_failed_fracT, axis=1), True)\n",
    "df_data3.insert(11,'Flickor (underkända)', df_data3.apply(func_failed_fracG, axis=1), True)\n",
    "df_data3.insert(12,'Pojkar (underkända)', df_data3.apply(func_failed_fracB, axis=1), True)\n",
    "#\n",
    "\n",
    "fig3 = px.bar(df_data3, x='Huvudman', y=['Totalt (underkända)', 'Flickor (underkända)', 'Pojkar (underkända)' ], \n",
    "               title=\"Background of students failed in percentage 2023\",\n",
    "               barmode='group',\n",
    "              labels={'Huvudman': 'Studen category', 'value':'Percentage', 'Elever med svensk bakgrund':'Svensk bakgrund','Totalt (underkända)':'Totalt %','Flickor (underkända)':'Flickor %','Pojkar (underkända)':'Pojkar %'},\n",
    "              hover_data={'Huvudman': True, 'value': ':.2f'})\n",
    "\n",
    "\n",
    "fig3.show()\n",
    "\n",
    "df_data3"
   ]
  },
  {
   "cell_type": "markdown",
   "metadata": {},
   "source": [
    "#### The value of merits with respect to background"
   ]
  },
  {
   "cell_type": "code",
   "execution_count": 13,
   "metadata": {},
   "outputs": [
    {
     "data": {
      "application/vnd.plotly.v1+json": {
       "config": {
        "plotlyServerURL": "https://plot.ly"
       },
       "data": [
        {
         "alignmentgroup": "True",
         "hovertemplate": "variable=Totalt (merit 17 ämnen)<br>Studen category=%{x}<br>Percentage=%{y:.2f}<extra></extra>",
         "legendgroup": "Totalt (merit 17 ämnen)",
         "marker": {
          "color": "#636efa",
          "pattern": {
           "shape": ""
          }
         },
         "name": "Totalt (merit 17 ämnen)",
         "offsetgroup": "Totalt (merit 17 ämnen)",
         "orientation": "v",
         "showlegend": true,
         "textposition": "auto",
         "type": "bar",
         "x": [
          "Elever med svensk bakgrund",
          "Födda i Sverige",
          "Födda utomlands, inv. före 2014",
          "Födda utomlands, inv. 2014 el. senare"
         ],
         "xaxis": "x",
         "y": [
          236,
          223,
          224.8,
          186.1
         ],
         "yaxis": "y"
        },
        {
         "alignmentgroup": "True",
         "hovertemplate": "variable=Flickor (merit 17 ämnen)<br>Studen category=%{x}<br>Percentage=%{y:.2f}<extra></extra>",
         "legendgroup": "Flickor (merit 17 ämnen)",
         "marker": {
          "color": "#EF553B",
          "pattern": {
           "shape": ""
          }
         },
         "name": "Flickor (merit 17 ämnen)",
         "offsetgroup": "Flickor (merit 17 ämnen)",
         "orientation": "v",
         "showlegend": true,
         "textposition": "auto",
         "type": "bar",
         "x": [
          "Elever med svensk bakgrund",
          "Födda i Sverige",
          "Födda utomlands, inv. före 2014",
          "Födda utomlands, inv. 2014 el. senare"
         ],
         "xaxis": "x",
         "y": [
          245.4,
          232.8,
          235.8,
          197.7
         ],
         "yaxis": "y"
        },
        {
         "alignmentgroup": "True",
         "hovertemplate": "variable=Pojkar (merit 17 ämnen)<br>Studen category=%{x}<br>Percentage=%{y:.2f}<extra></extra>",
         "legendgroup": "Pojkar (merit 17 ämnen)",
         "marker": {
          "color": "#00cc96",
          "pattern": {
           "shape": ""
          }
         },
         "name": "Pojkar (merit 17 ämnen)",
         "offsetgroup": "Pojkar (merit 17 ämnen)",
         "orientation": "v",
         "showlegend": true,
         "textposition": "auto",
         "type": "bar",
         "x": [
          "Elever med svensk bakgrund",
          "Födda i Sverige",
          "Födda utomlands, inv. före 2014",
          "Födda utomlands, inv. 2014 el. senare"
         ],
         "xaxis": "x",
         "y": [
          227.1,
          213.5,
          214.7,
          175.1
         ],
         "yaxis": "y"
        }
       ],
       "layout": {
        "barmode": "group",
        "legend": {
         "title": {
          "text": "variable"
         },
         "tracegroupgap": 0
        },
        "template": {
         "data": {
          "bar": [
           {
            "error_x": {
             "color": "#2a3f5f"
            },
            "error_y": {
             "color": "#2a3f5f"
            },
            "marker": {
             "line": {
              "color": "#E5ECF6",
              "width": 0.5
             },
             "pattern": {
              "fillmode": "overlay",
              "size": 10,
              "solidity": 0.2
             }
            },
            "type": "bar"
           }
          ],
          "barpolar": [
           {
            "marker": {
             "line": {
              "color": "#E5ECF6",
              "width": 0.5
             },
             "pattern": {
              "fillmode": "overlay",
              "size": 10,
              "solidity": 0.2
             }
            },
            "type": "barpolar"
           }
          ],
          "carpet": [
           {
            "aaxis": {
             "endlinecolor": "#2a3f5f",
             "gridcolor": "white",
             "linecolor": "white",
             "minorgridcolor": "white",
             "startlinecolor": "#2a3f5f"
            },
            "baxis": {
             "endlinecolor": "#2a3f5f",
             "gridcolor": "white",
             "linecolor": "white",
             "minorgridcolor": "white",
             "startlinecolor": "#2a3f5f"
            },
            "type": "carpet"
           }
          ],
          "choropleth": [
           {
            "colorbar": {
             "outlinewidth": 0,
             "ticks": ""
            },
            "type": "choropleth"
           }
          ],
          "contour": [
           {
            "colorbar": {
             "outlinewidth": 0,
             "ticks": ""
            },
            "colorscale": [
             [
              0,
              "#0d0887"
             ],
             [
              0.1111111111111111,
              "#46039f"
             ],
             [
              0.2222222222222222,
              "#7201a8"
             ],
             [
              0.3333333333333333,
              "#9c179e"
             ],
             [
              0.4444444444444444,
              "#bd3786"
             ],
             [
              0.5555555555555556,
              "#d8576b"
             ],
             [
              0.6666666666666666,
              "#ed7953"
             ],
             [
              0.7777777777777778,
              "#fb9f3a"
             ],
             [
              0.8888888888888888,
              "#fdca26"
             ],
             [
              1,
              "#f0f921"
             ]
            ],
            "type": "contour"
           }
          ],
          "contourcarpet": [
           {
            "colorbar": {
             "outlinewidth": 0,
             "ticks": ""
            },
            "type": "contourcarpet"
           }
          ],
          "heatmap": [
           {
            "colorbar": {
             "outlinewidth": 0,
             "ticks": ""
            },
            "colorscale": [
             [
              0,
              "#0d0887"
             ],
             [
              0.1111111111111111,
              "#46039f"
             ],
             [
              0.2222222222222222,
              "#7201a8"
             ],
             [
              0.3333333333333333,
              "#9c179e"
             ],
             [
              0.4444444444444444,
              "#bd3786"
             ],
             [
              0.5555555555555556,
              "#d8576b"
             ],
             [
              0.6666666666666666,
              "#ed7953"
             ],
             [
              0.7777777777777778,
              "#fb9f3a"
             ],
             [
              0.8888888888888888,
              "#fdca26"
             ],
             [
              1,
              "#f0f921"
             ]
            ],
            "type": "heatmap"
           }
          ],
          "heatmapgl": [
           {
            "colorbar": {
             "outlinewidth": 0,
             "ticks": ""
            },
            "colorscale": [
             [
              0,
              "#0d0887"
             ],
             [
              0.1111111111111111,
              "#46039f"
             ],
             [
              0.2222222222222222,
              "#7201a8"
             ],
             [
              0.3333333333333333,
              "#9c179e"
             ],
             [
              0.4444444444444444,
              "#bd3786"
             ],
             [
              0.5555555555555556,
              "#d8576b"
             ],
             [
              0.6666666666666666,
              "#ed7953"
             ],
             [
              0.7777777777777778,
              "#fb9f3a"
             ],
             [
              0.8888888888888888,
              "#fdca26"
             ],
             [
              1,
              "#f0f921"
             ]
            ],
            "type": "heatmapgl"
           }
          ],
          "histogram": [
           {
            "marker": {
             "pattern": {
              "fillmode": "overlay",
              "size": 10,
              "solidity": 0.2
             }
            },
            "type": "histogram"
           }
          ],
          "histogram2d": [
           {
            "colorbar": {
             "outlinewidth": 0,
             "ticks": ""
            },
            "colorscale": [
             [
              0,
              "#0d0887"
             ],
             [
              0.1111111111111111,
              "#46039f"
             ],
             [
              0.2222222222222222,
              "#7201a8"
             ],
             [
              0.3333333333333333,
              "#9c179e"
             ],
             [
              0.4444444444444444,
              "#bd3786"
             ],
             [
              0.5555555555555556,
              "#d8576b"
             ],
             [
              0.6666666666666666,
              "#ed7953"
             ],
             [
              0.7777777777777778,
              "#fb9f3a"
             ],
             [
              0.8888888888888888,
              "#fdca26"
             ],
             [
              1,
              "#f0f921"
             ]
            ],
            "type": "histogram2d"
           }
          ],
          "histogram2dcontour": [
           {
            "colorbar": {
             "outlinewidth": 0,
             "ticks": ""
            },
            "colorscale": [
             [
              0,
              "#0d0887"
             ],
             [
              0.1111111111111111,
              "#46039f"
             ],
             [
              0.2222222222222222,
              "#7201a8"
             ],
             [
              0.3333333333333333,
              "#9c179e"
             ],
             [
              0.4444444444444444,
              "#bd3786"
             ],
             [
              0.5555555555555556,
              "#d8576b"
             ],
             [
              0.6666666666666666,
              "#ed7953"
             ],
             [
              0.7777777777777778,
              "#fb9f3a"
             ],
             [
              0.8888888888888888,
              "#fdca26"
             ],
             [
              1,
              "#f0f921"
             ]
            ],
            "type": "histogram2dcontour"
           }
          ],
          "mesh3d": [
           {
            "colorbar": {
             "outlinewidth": 0,
             "ticks": ""
            },
            "type": "mesh3d"
           }
          ],
          "parcoords": [
           {
            "line": {
             "colorbar": {
              "outlinewidth": 0,
              "ticks": ""
             }
            },
            "type": "parcoords"
           }
          ],
          "pie": [
           {
            "automargin": true,
            "type": "pie"
           }
          ],
          "scatter": [
           {
            "fillpattern": {
             "fillmode": "overlay",
             "size": 10,
             "solidity": 0.2
            },
            "type": "scatter"
           }
          ],
          "scatter3d": [
           {
            "line": {
             "colorbar": {
              "outlinewidth": 0,
              "ticks": ""
             }
            },
            "marker": {
             "colorbar": {
              "outlinewidth": 0,
              "ticks": ""
             }
            },
            "type": "scatter3d"
           }
          ],
          "scattercarpet": [
           {
            "marker": {
             "colorbar": {
              "outlinewidth": 0,
              "ticks": ""
             }
            },
            "type": "scattercarpet"
           }
          ],
          "scattergeo": [
           {
            "marker": {
             "colorbar": {
              "outlinewidth": 0,
              "ticks": ""
             }
            },
            "type": "scattergeo"
           }
          ],
          "scattergl": [
           {
            "marker": {
             "colorbar": {
              "outlinewidth": 0,
              "ticks": ""
             }
            },
            "type": "scattergl"
           }
          ],
          "scattermapbox": [
           {
            "marker": {
             "colorbar": {
              "outlinewidth": 0,
              "ticks": ""
             }
            },
            "type": "scattermapbox"
           }
          ],
          "scatterpolar": [
           {
            "marker": {
             "colorbar": {
              "outlinewidth": 0,
              "ticks": ""
             }
            },
            "type": "scatterpolar"
           }
          ],
          "scatterpolargl": [
           {
            "marker": {
             "colorbar": {
              "outlinewidth": 0,
              "ticks": ""
             }
            },
            "type": "scatterpolargl"
           }
          ],
          "scatterternary": [
           {
            "marker": {
             "colorbar": {
              "outlinewidth": 0,
              "ticks": ""
             }
            },
            "type": "scatterternary"
           }
          ],
          "surface": [
           {
            "colorbar": {
             "outlinewidth": 0,
             "ticks": ""
            },
            "colorscale": [
             [
              0,
              "#0d0887"
             ],
             [
              0.1111111111111111,
              "#46039f"
             ],
             [
              0.2222222222222222,
              "#7201a8"
             ],
             [
              0.3333333333333333,
              "#9c179e"
             ],
             [
              0.4444444444444444,
              "#bd3786"
             ],
             [
              0.5555555555555556,
              "#d8576b"
             ],
             [
              0.6666666666666666,
              "#ed7953"
             ],
             [
              0.7777777777777778,
              "#fb9f3a"
             ],
             [
              0.8888888888888888,
              "#fdca26"
             ],
             [
              1,
              "#f0f921"
             ]
            ],
            "type": "surface"
           }
          ],
          "table": [
           {
            "cells": {
             "fill": {
              "color": "#EBF0F8"
             },
             "line": {
              "color": "white"
             }
            },
            "header": {
             "fill": {
              "color": "#C8D4E3"
             },
             "line": {
              "color": "white"
             }
            },
            "type": "table"
           }
          ]
         },
         "layout": {
          "annotationdefaults": {
           "arrowcolor": "#2a3f5f",
           "arrowhead": 0,
           "arrowwidth": 1
          },
          "autotypenumbers": "strict",
          "coloraxis": {
           "colorbar": {
            "outlinewidth": 0,
            "ticks": ""
           }
          },
          "colorscale": {
           "diverging": [
            [
             0,
             "#8e0152"
            ],
            [
             0.1,
             "#c51b7d"
            ],
            [
             0.2,
             "#de77ae"
            ],
            [
             0.3,
             "#f1b6da"
            ],
            [
             0.4,
             "#fde0ef"
            ],
            [
             0.5,
             "#f7f7f7"
            ],
            [
             0.6,
             "#e6f5d0"
            ],
            [
             0.7,
             "#b8e186"
            ],
            [
             0.8,
             "#7fbc41"
            ],
            [
             0.9,
             "#4d9221"
            ],
            [
             1,
             "#276419"
            ]
           ],
           "sequential": [
            [
             0,
             "#0d0887"
            ],
            [
             0.1111111111111111,
             "#46039f"
            ],
            [
             0.2222222222222222,
             "#7201a8"
            ],
            [
             0.3333333333333333,
             "#9c179e"
            ],
            [
             0.4444444444444444,
             "#bd3786"
            ],
            [
             0.5555555555555556,
             "#d8576b"
            ],
            [
             0.6666666666666666,
             "#ed7953"
            ],
            [
             0.7777777777777778,
             "#fb9f3a"
            ],
            [
             0.8888888888888888,
             "#fdca26"
            ],
            [
             1,
             "#f0f921"
            ]
           ],
           "sequentialminus": [
            [
             0,
             "#0d0887"
            ],
            [
             0.1111111111111111,
             "#46039f"
            ],
            [
             0.2222222222222222,
             "#7201a8"
            ],
            [
             0.3333333333333333,
             "#9c179e"
            ],
            [
             0.4444444444444444,
             "#bd3786"
            ],
            [
             0.5555555555555556,
             "#d8576b"
            ],
            [
             0.6666666666666666,
             "#ed7953"
            ],
            [
             0.7777777777777778,
             "#fb9f3a"
            ],
            [
             0.8888888888888888,
             "#fdca26"
            ],
            [
             1,
             "#f0f921"
            ]
           ]
          },
          "colorway": [
           "#636efa",
           "#EF553B",
           "#00cc96",
           "#ab63fa",
           "#FFA15A",
           "#19d3f3",
           "#FF6692",
           "#B6E880",
           "#FF97FF",
           "#FECB52"
          ],
          "font": {
           "color": "#2a3f5f"
          },
          "geo": {
           "bgcolor": "white",
           "lakecolor": "white",
           "landcolor": "#E5ECF6",
           "showlakes": true,
           "showland": true,
           "subunitcolor": "white"
          },
          "hoverlabel": {
           "align": "left"
          },
          "hovermode": "closest",
          "mapbox": {
           "style": "light"
          },
          "paper_bgcolor": "white",
          "plot_bgcolor": "#E5ECF6",
          "polar": {
           "angularaxis": {
            "gridcolor": "white",
            "linecolor": "white",
            "ticks": ""
           },
           "bgcolor": "#E5ECF6",
           "radialaxis": {
            "gridcolor": "white",
            "linecolor": "white",
            "ticks": ""
           }
          },
          "scene": {
           "xaxis": {
            "backgroundcolor": "#E5ECF6",
            "gridcolor": "white",
            "gridwidth": 2,
            "linecolor": "white",
            "showbackground": true,
            "ticks": "",
            "zerolinecolor": "white"
           },
           "yaxis": {
            "backgroundcolor": "#E5ECF6",
            "gridcolor": "white",
            "gridwidth": 2,
            "linecolor": "white",
            "showbackground": true,
            "ticks": "",
            "zerolinecolor": "white"
           },
           "zaxis": {
            "backgroundcolor": "#E5ECF6",
            "gridcolor": "white",
            "gridwidth": 2,
            "linecolor": "white",
            "showbackground": true,
            "ticks": "",
            "zerolinecolor": "white"
           }
          },
          "shapedefaults": {
           "line": {
            "color": "#2a3f5f"
           }
          },
          "ternary": {
           "aaxis": {
            "gridcolor": "white",
            "linecolor": "white",
            "ticks": ""
           },
           "baxis": {
            "gridcolor": "white",
            "linecolor": "white",
            "ticks": ""
           },
           "bgcolor": "#E5ECF6",
           "caxis": {
            "gridcolor": "white",
            "linecolor": "white",
            "ticks": ""
           }
          },
          "title": {
           "x": 0.05
          },
          "xaxis": {
           "automargin": true,
           "gridcolor": "white",
           "linecolor": "white",
           "ticks": "",
           "title": {
            "standoff": 15
           },
           "zerolinecolor": "white",
           "zerolinewidth": 2
          },
          "yaxis": {
           "automargin": true,
           "gridcolor": "white",
           "linecolor": "white",
           "ticks": "",
           "title": {
            "standoff": 15
           },
           "zerolinecolor": "white",
           "zerolinewidth": 2
          }
         }
        },
        "title": {
         "text": "The value of merits dependancy on background for students 2023"
        },
        "xaxis": {
         "anchor": "y",
         "domain": [
          0,
          1
         ],
         "title": {
          "text": "Studen category"
         }
        },
        "yaxis": {
         "anchor": "x",
         "domain": [
          0,
          1
         ],
         "title": {
          "text": "Percentage"
         }
        }
       }
      }
     },
     "metadata": {},
     "output_type": "display_data"
    }
   ],
   "source": [
    "df_data4=pd.DataFrame()\n",
    "df_data4 = df_tabell1B[df_tabell1B['Läsår\\nHuvudman\\nBakgrund'].isin(['Elever med svensk bakgrund','Födda i Sverige','Födda utomlands, inv. före 2014','Födda utomlands, inv. 2014 el. senare'])].copy()\n",
    "df_data4.rename(columns={'Läsår\\nHuvudman\\nBakgrund':'Huvudman'}, inplace = True)\n",
    "\n",
    "fig4 = px.bar(df_data4, x='Huvudman', y=['Totalt (merit 17 ämnen)', 'Flickor (merit 17 ämnen)', 'Pojkar (merit 17 ämnen)' ], \n",
    "               title=\"The value of merits dependancy on background for students 2023\",\n",
    "               barmode='group',\n",
    "              labels={'Huvudman': 'Studen category', 'value':'Percentage', 'Elever med svensk bakgrund':'Svensk bakgrund','Totalt (merit 17 ämnen)':'Totalt','Flickor (underkända)':'Flickor %','Pojkar (underkända)':'Pojkar %'},\n",
    "              \n",
    "              hover_data={'Huvudman': True, 'value': ':.2f'})\n",
    "\n",
    "fig4.show()\n"
   ]
  },
  {
   "cell_type": "code",
   "execution_count": 14,
   "metadata": {},
   "outputs": [
    {
     "data": {
      "application/vnd.plotly.v1+json": {
       "config": {
        "plotlyServerURL": "https://plot.ly"
       },
       "data": [
        {
         "alignmentgroup": "True",
         "hovertemplate": "variable=Totalt (merit 17 ämnen)<br>Föräldrars bakgrund=%{x}<br>Merit points=%{y:.2f}<extra></extra>",
         "legendgroup": "Totalt (merit 17 ämnen)",
         "marker": {
          "color": "#636efa",
          "pattern": {
           "shape": ""
          }
         },
         "name": "Totalt (merit 17 ämnen)",
         "offsetgroup": "Totalt (merit 17 ämnen)",
         "orientation": "v",
         "showlegend": true,
         "textposition": "auto",
         "type": "bar",
         "x": [
          "Förgymnasial utbildning",
          "Gymnasial utbildning",
          "Kort utbildning",
          "Lång utbildning"
         ],
         "xaxis": "x",
         "y": [
          166.8,
          203.2,
          226.5,
          256
         ],
         "yaxis": "y"
        },
        {
         "alignmentgroup": "True",
         "hovertemplate": "variable=Flickor (merit 17 ämnen)<br>Föräldrars bakgrund=%{x}<br>Merit points=%{y:.2f}<extra></extra>",
         "legendgroup": "Flickor (merit 17 ämnen)",
         "marker": {
          "color": "#EF553B",
          "pattern": {
           "shape": ""
          }
         },
         "name": "Flickor (merit 17 ämnen)",
         "offsetgroup": "Flickor (merit 17 ämnen)",
         "orientation": "v",
         "showlegend": true,
         "textposition": "auto",
         "type": "bar",
         "x": [
          "Förgymnasial utbildning",
          "Gymnasial utbildning",
          "Kort utbildning",
          "Lång utbildning"
         ],
         "xaxis": "x",
         "y": [
          175.6,
          213.6,
          236.6,
          265.3
         ],
         "yaxis": "y"
        },
        {
         "alignmentgroup": "True",
         "hovertemplate": "variable=Pojkar (merit 17 ämnen)<br>Föräldrars bakgrund=%{x}<br>Merit points=%{y:.2f}<extra></extra>",
         "legendgroup": "Pojkar (merit 17 ämnen)",
         "marker": {
          "color": "#00cc96",
          "pattern": {
           "shape": ""
          }
         },
         "name": "Pojkar (merit 17 ämnen)",
         "offsetgroup": "Pojkar (merit 17 ämnen)",
         "orientation": "v",
         "showlegend": true,
         "textposition": "auto",
         "type": "bar",
         "x": [
          "Förgymnasial utbildning",
          "Gymnasial utbildning",
          "Kort utbildning",
          "Lång utbildning"
         ],
         "xaxis": "x",
         "y": [
          158.3,
          193.3,
          216.6,
          247.2
         ],
         "yaxis": "y"
        }
       ],
       "layout": {
        "barmode": "group",
        "legend": {
         "title": {
          "text": "variable"
         },
         "tracegroupgap": 0
        },
        "template": {
         "data": {
          "bar": [
           {
            "error_x": {
             "color": "#2a3f5f"
            },
            "error_y": {
             "color": "#2a3f5f"
            },
            "marker": {
             "line": {
              "color": "#E5ECF6",
              "width": 0.5
             },
             "pattern": {
              "fillmode": "overlay",
              "size": 10,
              "solidity": 0.2
             }
            },
            "type": "bar"
           }
          ],
          "barpolar": [
           {
            "marker": {
             "line": {
              "color": "#E5ECF6",
              "width": 0.5
             },
             "pattern": {
              "fillmode": "overlay",
              "size": 10,
              "solidity": 0.2
             }
            },
            "type": "barpolar"
           }
          ],
          "carpet": [
           {
            "aaxis": {
             "endlinecolor": "#2a3f5f",
             "gridcolor": "white",
             "linecolor": "white",
             "minorgridcolor": "white",
             "startlinecolor": "#2a3f5f"
            },
            "baxis": {
             "endlinecolor": "#2a3f5f",
             "gridcolor": "white",
             "linecolor": "white",
             "minorgridcolor": "white",
             "startlinecolor": "#2a3f5f"
            },
            "type": "carpet"
           }
          ],
          "choropleth": [
           {
            "colorbar": {
             "outlinewidth": 0,
             "ticks": ""
            },
            "type": "choropleth"
           }
          ],
          "contour": [
           {
            "colorbar": {
             "outlinewidth": 0,
             "ticks": ""
            },
            "colorscale": [
             [
              0,
              "#0d0887"
             ],
             [
              0.1111111111111111,
              "#46039f"
             ],
             [
              0.2222222222222222,
              "#7201a8"
             ],
             [
              0.3333333333333333,
              "#9c179e"
             ],
             [
              0.4444444444444444,
              "#bd3786"
             ],
             [
              0.5555555555555556,
              "#d8576b"
             ],
             [
              0.6666666666666666,
              "#ed7953"
             ],
             [
              0.7777777777777778,
              "#fb9f3a"
             ],
             [
              0.8888888888888888,
              "#fdca26"
             ],
             [
              1,
              "#f0f921"
             ]
            ],
            "type": "contour"
           }
          ],
          "contourcarpet": [
           {
            "colorbar": {
             "outlinewidth": 0,
             "ticks": ""
            },
            "type": "contourcarpet"
           }
          ],
          "heatmap": [
           {
            "colorbar": {
             "outlinewidth": 0,
             "ticks": ""
            },
            "colorscale": [
             [
              0,
              "#0d0887"
             ],
             [
              0.1111111111111111,
              "#46039f"
             ],
             [
              0.2222222222222222,
              "#7201a8"
             ],
             [
              0.3333333333333333,
              "#9c179e"
             ],
             [
              0.4444444444444444,
              "#bd3786"
             ],
             [
              0.5555555555555556,
              "#d8576b"
             ],
             [
              0.6666666666666666,
              "#ed7953"
             ],
             [
              0.7777777777777778,
              "#fb9f3a"
             ],
             [
              0.8888888888888888,
              "#fdca26"
             ],
             [
              1,
              "#f0f921"
             ]
            ],
            "type": "heatmap"
           }
          ],
          "heatmapgl": [
           {
            "colorbar": {
             "outlinewidth": 0,
             "ticks": ""
            },
            "colorscale": [
             [
              0,
              "#0d0887"
             ],
             [
              0.1111111111111111,
              "#46039f"
             ],
             [
              0.2222222222222222,
              "#7201a8"
             ],
             [
              0.3333333333333333,
              "#9c179e"
             ],
             [
              0.4444444444444444,
              "#bd3786"
             ],
             [
              0.5555555555555556,
              "#d8576b"
             ],
             [
              0.6666666666666666,
              "#ed7953"
             ],
             [
              0.7777777777777778,
              "#fb9f3a"
             ],
             [
              0.8888888888888888,
              "#fdca26"
             ],
             [
              1,
              "#f0f921"
             ]
            ],
            "type": "heatmapgl"
           }
          ],
          "histogram": [
           {
            "marker": {
             "pattern": {
              "fillmode": "overlay",
              "size": 10,
              "solidity": 0.2
             }
            },
            "type": "histogram"
           }
          ],
          "histogram2d": [
           {
            "colorbar": {
             "outlinewidth": 0,
             "ticks": ""
            },
            "colorscale": [
             [
              0,
              "#0d0887"
             ],
             [
              0.1111111111111111,
              "#46039f"
             ],
             [
              0.2222222222222222,
              "#7201a8"
             ],
             [
              0.3333333333333333,
              "#9c179e"
             ],
             [
              0.4444444444444444,
              "#bd3786"
             ],
             [
              0.5555555555555556,
              "#d8576b"
             ],
             [
              0.6666666666666666,
              "#ed7953"
             ],
             [
              0.7777777777777778,
              "#fb9f3a"
             ],
             [
              0.8888888888888888,
              "#fdca26"
             ],
             [
              1,
              "#f0f921"
             ]
            ],
            "type": "histogram2d"
           }
          ],
          "histogram2dcontour": [
           {
            "colorbar": {
             "outlinewidth": 0,
             "ticks": ""
            },
            "colorscale": [
             [
              0,
              "#0d0887"
             ],
             [
              0.1111111111111111,
              "#46039f"
             ],
             [
              0.2222222222222222,
              "#7201a8"
             ],
             [
              0.3333333333333333,
              "#9c179e"
             ],
             [
              0.4444444444444444,
              "#bd3786"
             ],
             [
              0.5555555555555556,
              "#d8576b"
             ],
             [
              0.6666666666666666,
              "#ed7953"
             ],
             [
              0.7777777777777778,
              "#fb9f3a"
             ],
             [
              0.8888888888888888,
              "#fdca26"
             ],
             [
              1,
              "#f0f921"
             ]
            ],
            "type": "histogram2dcontour"
           }
          ],
          "mesh3d": [
           {
            "colorbar": {
             "outlinewidth": 0,
             "ticks": ""
            },
            "type": "mesh3d"
           }
          ],
          "parcoords": [
           {
            "line": {
             "colorbar": {
              "outlinewidth": 0,
              "ticks": ""
             }
            },
            "type": "parcoords"
           }
          ],
          "pie": [
           {
            "automargin": true,
            "type": "pie"
           }
          ],
          "scatter": [
           {
            "fillpattern": {
             "fillmode": "overlay",
             "size": 10,
             "solidity": 0.2
            },
            "type": "scatter"
           }
          ],
          "scatter3d": [
           {
            "line": {
             "colorbar": {
              "outlinewidth": 0,
              "ticks": ""
             }
            },
            "marker": {
             "colorbar": {
              "outlinewidth": 0,
              "ticks": ""
             }
            },
            "type": "scatter3d"
           }
          ],
          "scattercarpet": [
           {
            "marker": {
             "colorbar": {
              "outlinewidth": 0,
              "ticks": ""
             }
            },
            "type": "scattercarpet"
           }
          ],
          "scattergeo": [
           {
            "marker": {
             "colorbar": {
              "outlinewidth": 0,
              "ticks": ""
             }
            },
            "type": "scattergeo"
           }
          ],
          "scattergl": [
           {
            "marker": {
             "colorbar": {
              "outlinewidth": 0,
              "ticks": ""
             }
            },
            "type": "scattergl"
           }
          ],
          "scattermapbox": [
           {
            "marker": {
             "colorbar": {
              "outlinewidth": 0,
              "ticks": ""
             }
            },
            "type": "scattermapbox"
           }
          ],
          "scatterpolar": [
           {
            "marker": {
             "colorbar": {
              "outlinewidth": 0,
              "ticks": ""
             }
            },
            "type": "scatterpolar"
           }
          ],
          "scatterpolargl": [
           {
            "marker": {
             "colorbar": {
              "outlinewidth": 0,
              "ticks": ""
             }
            },
            "type": "scatterpolargl"
           }
          ],
          "scatterternary": [
           {
            "marker": {
             "colorbar": {
              "outlinewidth": 0,
              "ticks": ""
             }
            },
            "type": "scatterternary"
           }
          ],
          "surface": [
           {
            "colorbar": {
             "outlinewidth": 0,
             "ticks": ""
            },
            "colorscale": [
             [
              0,
              "#0d0887"
             ],
             [
              0.1111111111111111,
              "#46039f"
             ],
             [
              0.2222222222222222,
              "#7201a8"
             ],
             [
              0.3333333333333333,
              "#9c179e"
             ],
             [
              0.4444444444444444,
              "#bd3786"
             ],
             [
              0.5555555555555556,
              "#d8576b"
             ],
             [
              0.6666666666666666,
              "#ed7953"
             ],
             [
              0.7777777777777778,
              "#fb9f3a"
             ],
             [
              0.8888888888888888,
              "#fdca26"
             ],
             [
              1,
              "#f0f921"
             ]
            ],
            "type": "surface"
           }
          ],
          "table": [
           {
            "cells": {
             "fill": {
              "color": "#EBF0F8"
             },
             "line": {
              "color": "white"
             }
            },
            "header": {
             "fill": {
              "color": "#C8D4E3"
             },
             "line": {
              "color": "white"
             }
            },
            "type": "table"
           }
          ]
         },
         "layout": {
          "annotationdefaults": {
           "arrowcolor": "#2a3f5f",
           "arrowhead": 0,
           "arrowwidth": 1
          },
          "autotypenumbers": "strict",
          "coloraxis": {
           "colorbar": {
            "outlinewidth": 0,
            "ticks": ""
           }
          },
          "colorscale": {
           "diverging": [
            [
             0,
             "#8e0152"
            ],
            [
             0.1,
             "#c51b7d"
            ],
            [
             0.2,
             "#de77ae"
            ],
            [
             0.3,
             "#f1b6da"
            ],
            [
             0.4,
             "#fde0ef"
            ],
            [
             0.5,
             "#f7f7f7"
            ],
            [
             0.6,
             "#e6f5d0"
            ],
            [
             0.7,
             "#b8e186"
            ],
            [
             0.8,
             "#7fbc41"
            ],
            [
             0.9,
             "#4d9221"
            ],
            [
             1,
             "#276419"
            ]
           ],
           "sequential": [
            [
             0,
             "#0d0887"
            ],
            [
             0.1111111111111111,
             "#46039f"
            ],
            [
             0.2222222222222222,
             "#7201a8"
            ],
            [
             0.3333333333333333,
             "#9c179e"
            ],
            [
             0.4444444444444444,
             "#bd3786"
            ],
            [
             0.5555555555555556,
             "#d8576b"
            ],
            [
             0.6666666666666666,
             "#ed7953"
            ],
            [
             0.7777777777777778,
             "#fb9f3a"
            ],
            [
             0.8888888888888888,
             "#fdca26"
            ],
            [
             1,
             "#f0f921"
            ]
           ],
           "sequentialminus": [
            [
             0,
             "#0d0887"
            ],
            [
             0.1111111111111111,
             "#46039f"
            ],
            [
             0.2222222222222222,
             "#7201a8"
            ],
            [
             0.3333333333333333,
             "#9c179e"
            ],
            [
             0.4444444444444444,
             "#bd3786"
            ],
            [
             0.5555555555555556,
             "#d8576b"
            ],
            [
             0.6666666666666666,
             "#ed7953"
            ],
            [
             0.7777777777777778,
             "#fb9f3a"
            ],
            [
             0.8888888888888888,
             "#fdca26"
            ],
            [
             1,
             "#f0f921"
            ]
           ]
          },
          "colorway": [
           "#636efa",
           "#EF553B",
           "#00cc96",
           "#ab63fa",
           "#FFA15A",
           "#19d3f3",
           "#FF6692",
           "#B6E880",
           "#FF97FF",
           "#FECB52"
          ],
          "font": {
           "color": "#2a3f5f"
          },
          "geo": {
           "bgcolor": "white",
           "lakecolor": "white",
           "landcolor": "#E5ECF6",
           "showlakes": true,
           "showland": true,
           "subunitcolor": "white"
          },
          "hoverlabel": {
           "align": "left"
          },
          "hovermode": "closest",
          "mapbox": {
           "style": "light"
          },
          "paper_bgcolor": "white",
          "plot_bgcolor": "#E5ECF6",
          "polar": {
           "angularaxis": {
            "gridcolor": "white",
            "linecolor": "white",
            "ticks": ""
           },
           "bgcolor": "#E5ECF6",
           "radialaxis": {
            "gridcolor": "white",
            "linecolor": "white",
            "ticks": ""
           }
          },
          "scene": {
           "xaxis": {
            "backgroundcolor": "#E5ECF6",
            "gridcolor": "white",
            "gridwidth": 2,
            "linecolor": "white",
            "showbackground": true,
            "ticks": "",
            "zerolinecolor": "white"
           },
           "yaxis": {
            "backgroundcolor": "#E5ECF6",
            "gridcolor": "white",
            "gridwidth": 2,
            "linecolor": "white",
            "showbackground": true,
            "ticks": "",
            "zerolinecolor": "white"
           },
           "zaxis": {
            "backgroundcolor": "#E5ECF6",
            "gridcolor": "white",
            "gridwidth": 2,
            "linecolor": "white",
            "showbackground": true,
            "ticks": "",
            "zerolinecolor": "white"
           }
          },
          "shapedefaults": {
           "line": {
            "color": "#2a3f5f"
           }
          },
          "ternary": {
           "aaxis": {
            "gridcolor": "white",
            "linecolor": "white",
            "ticks": ""
           },
           "baxis": {
            "gridcolor": "white",
            "linecolor": "white",
            "ticks": ""
           },
           "bgcolor": "#E5ECF6",
           "caxis": {
            "gridcolor": "white",
            "linecolor": "white",
            "ticks": ""
           }
          },
          "title": {
           "x": 0.05
          },
          "xaxis": {
           "automargin": true,
           "gridcolor": "white",
           "linecolor": "white",
           "ticks": "",
           "title": {
            "standoff": 15
           },
           "zerolinecolor": "white",
           "zerolinewidth": 2
          },
          "yaxis": {
           "automargin": true,
           "gridcolor": "white",
           "linecolor": "white",
           "ticks": "",
           "title": {
            "standoff": 15
           },
           "zerolinecolor": "white",
           "zerolinewidth": 2
          }
         }
        },
        "title": {
         "text": "The value of merits dependancy on parental education background for students 2023"
        },
        "xaxis": {
         "anchor": "y",
         "domain": [
          0,
          1
         ],
         "labelalias": {
          "Kort utbildning": "upp till 3års eftergymnasial",
          "Lång utbildning": "minst 3års eftergymnasial"
         },
         "title": {
          "text": "Föräldrars bakgrund"
         }
        },
        "yaxis": {
         "anchor": "x",
         "domain": [
          0,
          1
         ],
         "title": {
          "text": "Merit points"
         }
        }
       }
      }
     },
     "metadata": {},
     "output_type": "display_data"
    }
   ],
   "source": [
    "df_data5=pd.DataFrame()\n",
    "df_data5 = df_tabell1B[df_tabell1B['Läsår\\nHuvudman\\nBakgrund'].isin(['Förgymnasial utbildning','Gymnasial utbildning','Kort utbildning','Lång utbildning'])].copy()\n",
    "df_data5.rename(columns={'Läsår\\nHuvudman\\nBakgrund':'Föräldrars bakgrund'}, inplace = True)\n",
    "\n",
    "fig5 = px.bar(df_data5, x='Föräldrars bakgrund', y=['Totalt (merit 17 ämnen)', 'Flickor (merit 17 ämnen)', 'Pojkar (merit 17 ämnen)' ], \n",
    "               title=\"The value of merits dependancy on parental education background for students 2023\",\n",
    "               barmode='group',\n",
    "              labels={'Huvudman': 'Studen category', 'value':'Merit points'},\n",
    "              \n",
    "              hover_data={'Föräldrars bakgrund': True, 'value': ':.2f'})\n",
    "fig5.update_xaxes(labelalias={'Kort utbildning':'upp till 3års eftergymnasial', 'Lång utbildning':'minst 3års eftergymnasial'})\n",
    "fig5.show()\n"
   ]
  },
  {
   "cell_type": "markdown",
   "metadata": {},
   "source": [
    "## Uppgift 2 - KPIer & EDA\n"
   ]
  },
  {
   "cell_type": "markdown",
   "metadata": {},
   "source": [
    "### KPI 1 Kostnader i kommunala skolor i förhållande till antalet elever\n",
    "\n",
    "Skolor har olika kostnader per elev. Förväntningen var att kommuner som lägger mycket per elev  "
   ]
  },
  {
   "cell_type": "code",
   "execution_count": 19,
   "metadata": {},
   "outputs": [
    {
     "data": {
      "application/vnd.plotly.v1+json": {
       "config": {
        "plotlyServerURL": "https://plot.ly"
       },
       "data": [
        {
         "alignmentgroup": "True",
         "hovertemplate": "variable=Totalt per elev<br>Totalt per elev=%{x:5.0f}<br>Kommun=%{y}<extra></extra>",
         "legendgroup": "Totalt per elev",
         "marker": {
          "color": "#636efa",
          "pattern": {
           "shape": ""
          }
         },
         "name": "Totalt per elev",
         "offsetgroup": "Totalt per elev",
         "orientation": "h",
         "showlegend": true,
         "textposition": "auto",
         "type": "bar",
         "x": [
          91800,
          98700,
          106100,
          106800,
          107100,
          107100,
          107700,
          108400,
          108400,
          109400,
          111900,
          112400,
          112500,
          112700,
          113100,
          113600,
          115000,
          115100,
          116000,
          119000,
          269000,
          270300,
          270400,
          270600,
          272700,
          299000,
          299300,
          311700,
          319500,
          330100,
          335700,
          350900,
          351800,
          377300,
          379100,
          384800,
          396500,
          405900,
          420200,
          535100
         ],
         "xaxis": "x",
         "y": [
          "Nacka",
          "Lidingö",
          "Sollentuna",
          "Torsås",
          "Jönköping",
          "Vellinge",
          "Täby",
          "Lerum",
          "Kungälv",
          "Danderyd",
          "Lund",
          "Hudiksvall",
          "Härryda",
          "Kristianstad",
          "Gävle",
          "Borås",
          "Varberg",
          "Värmdö",
          "Värnamo",
          "Solna",
          "Sotenäs",
          "Lessebo",
          "Östra Göinge",
          "Ale",
          "Munkedal",
          "Sölvesborg",
          "Vilhelmina",
          "Tibro",
          "Burlöv",
          "Tanum",
          "Arjeplog",
          "Örkelljunga",
          "Orust",
          "Höör",
          "Storuman",
          "Dals-Ed",
          "Töreboda",
          "Ekerö",
          "Kumla",
          "Säter"
         ],
         "yaxis": "y"
        },
        {
         "alignmentgroup": "True",
         "hovertemplate": "variable=Undervisning per elev<br>Totalt per elev=%{x:5.0f}<br>Kommun=%{y}<extra></extra>",
         "legendgroup": "Undervisning per elev",
         "marker": {
          "color": "#EF553B",
          "pattern": {
           "shape": ""
          }
         },
         "name": "Undervisning per elev",
         "offsetgroup": "Undervisning per elev",
         "orientation": "h",
         "showlegend": true,
         "textposition": "auto",
         "type": "bar",
         "x": [
          52400,
          56100,
          56300,
          70100,
          57600,
          55300,
          55300,
          62400,
          59900,
          58300,
          60400,
          56300,
          64900,
          62400,
          59300,
          64700,
          59200,
          53600,
          64500,
          62300,
          168500,
          155700,
          176600,
          149400,
          145600,
          146000,
          174400,
          128600,
          158700,
          134400,
          158600,
          130400,
          178100,
          152600,
          161200,
          163700,
          240000,
          219400,
          242100,
          311500
         ],
         "xaxis": "x",
         "y": [
          "Nacka",
          "Lidingö",
          "Sollentuna",
          "Torsås",
          "Jönköping",
          "Vellinge",
          "Täby",
          "Lerum",
          "Kungälv",
          "Danderyd",
          "Lund",
          "Hudiksvall",
          "Härryda",
          "Kristianstad",
          "Gävle",
          "Borås",
          "Varberg",
          "Värmdö",
          "Värnamo",
          "Solna",
          "Sotenäs",
          "Lessebo",
          "Östra Göinge",
          "Ale",
          "Munkedal",
          "Sölvesborg",
          "Vilhelmina",
          "Tibro",
          "Burlöv",
          "Tanum",
          "Arjeplog",
          "Örkelljunga",
          "Orust",
          "Höör",
          "Storuman",
          "Dals-Ed",
          "Töreboda",
          "Ekerö",
          "Kumla",
          "Säter"
         ],
         "yaxis": "y"
        },
        {
         "alignmentgroup": "True",
         "hovertemplate": "variable=Måltider per elev<br>Totalt per elev=%{x:5.0f}<br>Kommun=%{y}<extra></extra>",
         "legendgroup": "Måltider per elev",
         "marker": {
          "color": "#00cc96",
          "pattern": {
           "shape": ""
          }
         },
         "name": "Måltider per elev",
         "offsetgroup": "Måltider per elev",
         "orientation": "h",
         "showlegend": true,
         "textposition": "auto",
         "type": "bar",
         "x": [
          4800,
          3600,
          2600,
          700,
          4200,
          5300,
          5500,
          4300,
          5800,
          4600,
          4500,
          5800,
          5100,
          5500,
          6100,
          4800,
          6200,
          9300,
          5900,
          6100,
          5500,
          13000,
          9700,
          3900,
          10600,
          17400,
          13500,
          6700,
          6700,
          38100,
          26300,
          16100,
          5600,
          10800,
          23700,
          22600,
          5700,
          11600,
          18100,
          12000
         ],
         "xaxis": "x",
         "y": [
          "Nacka",
          "Lidingö",
          "Sollentuna",
          "Torsås",
          "Jönköping",
          "Vellinge",
          "Täby",
          "Lerum",
          "Kungälv",
          "Danderyd",
          "Lund",
          "Hudiksvall",
          "Härryda",
          "Kristianstad",
          "Gävle",
          "Borås",
          "Varberg",
          "Värmdö",
          "Värnamo",
          "Solna",
          "Sotenäs",
          "Lessebo",
          "Östra Göinge",
          "Ale",
          "Munkedal",
          "Sölvesborg",
          "Vilhelmina",
          "Tibro",
          "Burlöv",
          "Tanum",
          "Arjeplog",
          "Örkelljunga",
          "Orust",
          "Höör",
          "Storuman",
          "Dals-Ed",
          "Töreboda",
          "Ekerö",
          "Kumla",
          "Säter"
         ],
         "yaxis": "y"
        },
        {
         "alignmentgroup": "True",
         "hovertemplate": "variable=Lärverktyg per elev<br>Totalt per elev=%{x:5.0f}<br>Kommun=%{y}<extra></extra>",
         "legendgroup": "Lärverktyg per elev",
         "marker": {
          "color": "#ab63fa",
          "pattern": {
           "shape": ""
          }
         },
         "name": "Lärverktyg per elev",
         "offsetgroup": "Lärverktyg per elev",
         "orientation": "h",
         "showlegend": true,
         "textposition": "auto",
         "type": "bar",
         "x": [
          3000,
          7400,
          4400,
          2700,
          9000,
          7400,
          4400,
          8500,
          6600,
          11500,
          9600,
          7100,
          9900,
          9600,
          13000,
          9800,
          9600,
          5200,
          8200,
          9000,
          9600,
          6700,
          12900,
          6300,
          11300,
          20200,
          22700,
          9200,
          3200,
          14800,
          16700,
          15100,
          3000,
          11900,
          32800,
          3000,
          29300,
          10200,
          7800,
          31700
         ],
         "xaxis": "x",
         "y": [
          "Nacka",
          "Lidingö",
          "Sollentuna",
          "Torsås",
          "Jönköping",
          "Vellinge",
          "Täby",
          "Lerum",
          "Kungälv",
          "Danderyd",
          "Lund",
          "Hudiksvall",
          "Härryda",
          "Kristianstad",
          "Gävle",
          "Borås",
          "Varberg",
          "Värmdö",
          "Värnamo",
          "Solna",
          "Sotenäs",
          "Lessebo",
          "Östra Göinge",
          "Ale",
          "Munkedal",
          "Sölvesborg",
          "Vilhelmina",
          "Tibro",
          "Burlöv",
          "Tanum",
          "Arjeplog",
          "Örkelljunga",
          "Orust",
          "Höör",
          "Storuman",
          "Dals-Ed",
          "Töreboda",
          "Ekerö",
          "Kumla",
          "Säter"
         ],
         "yaxis": "y"
        }
       ],
       "layout": {
        "barmode": "group",
        "height": 800,
        "legend": {
         "title": {
          "text": "variable"
         },
         "tracegroupgap": 0
        },
        "template": {
         "data": {
          "bar": [
           {
            "error_x": {
             "color": "#2a3f5f"
            },
            "error_y": {
             "color": "#2a3f5f"
            },
            "marker": {
             "line": {
              "color": "#E5ECF6",
              "width": 0.5
             },
             "pattern": {
              "fillmode": "overlay",
              "size": 10,
              "solidity": 0.2
             }
            },
            "type": "bar"
           }
          ],
          "barpolar": [
           {
            "marker": {
             "line": {
              "color": "#E5ECF6",
              "width": 0.5
             },
             "pattern": {
              "fillmode": "overlay",
              "size": 10,
              "solidity": 0.2
             }
            },
            "type": "barpolar"
           }
          ],
          "carpet": [
           {
            "aaxis": {
             "endlinecolor": "#2a3f5f",
             "gridcolor": "white",
             "linecolor": "white",
             "minorgridcolor": "white",
             "startlinecolor": "#2a3f5f"
            },
            "baxis": {
             "endlinecolor": "#2a3f5f",
             "gridcolor": "white",
             "linecolor": "white",
             "minorgridcolor": "white",
             "startlinecolor": "#2a3f5f"
            },
            "type": "carpet"
           }
          ],
          "choropleth": [
           {
            "colorbar": {
             "outlinewidth": 0,
             "ticks": ""
            },
            "type": "choropleth"
           }
          ],
          "contour": [
           {
            "colorbar": {
             "outlinewidth": 0,
             "ticks": ""
            },
            "colorscale": [
             [
              0,
              "#0d0887"
             ],
             [
              0.1111111111111111,
              "#46039f"
             ],
             [
              0.2222222222222222,
              "#7201a8"
             ],
             [
              0.3333333333333333,
              "#9c179e"
             ],
             [
              0.4444444444444444,
              "#bd3786"
             ],
             [
              0.5555555555555556,
              "#d8576b"
             ],
             [
              0.6666666666666666,
              "#ed7953"
             ],
             [
              0.7777777777777778,
              "#fb9f3a"
             ],
             [
              0.8888888888888888,
              "#fdca26"
             ],
             [
              1,
              "#f0f921"
             ]
            ],
            "type": "contour"
           }
          ],
          "contourcarpet": [
           {
            "colorbar": {
             "outlinewidth": 0,
             "ticks": ""
            },
            "type": "contourcarpet"
           }
          ],
          "heatmap": [
           {
            "colorbar": {
             "outlinewidth": 0,
             "ticks": ""
            },
            "colorscale": [
             [
              0,
              "#0d0887"
             ],
             [
              0.1111111111111111,
              "#46039f"
             ],
             [
              0.2222222222222222,
              "#7201a8"
             ],
             [
              0.3333333333333333,
              "#9c179e"
             ],
             [
              0.4444444444444444,
              "#bd3786"
             ],
             [
              0.5555555555555556,
              "#d8576b"
             ],
             [
              0.6666666666666666,
              "#ed7953"
             ],
             [
              0.7777777777777778,
              "#fb9f3a"
             ],
             [
              0.8888888888888888,
              "#fdca26"
             ],
             [
              1,
              "#f0f921"
             ]
            ],
            "type": "heatmap"
           }
          ],
          "heatmapgl": [
           {
            "colorbar": {
             "outlinewidth": 0,
             "ticks": ""
            },
            "colorscale": [
             [
              0,
              "#0d0887"
             ],
             [
              0.1111111111111111,
              "#46039f"
             ],
             [
              0.2222222222222222,
              "#7201a8"
             ],
             [
              0.3333333333333333,
              "#9c179e"
             ],
             [
              0.4444444444444444,
              "#bd3786"
             ],
             [
              0.5555555555555556,
              "#d8576b"
             ],
             [
              0.6666666666666666,
              "#ed7953"
             ],
             [
              0.7777777777777778,
              "#fb9f3a"
             ],
             [
              0.8888888888888888,
              "#fdca26"
             ],
             [
              1,
              "#f0f921"
             ]
            ],
            "type": "heatmapgl"
           }
          ],
          "histogram": [
           {
            "marker": {
             "pattern": {
              "fillmode": "overlay",
              "size": 10,
              "solidity": 0.2
             }
            },
            "type": "histogram"
           }
          ],
          "histogram2d": [
           {
            "colorbar": {
             "outlinewidth": 0,
             "ticks": ""
            },
            "colorscale": [
             [
              0,
              "#0d0887"
             ],
             [
              0.1111111111111111,
              "#46039f"
             ],
             [
              0.2222222222222222,
              "#7201a8"
             ],
             [
              0.3333333333333333,
              "#9c179e"
             ],
             [
              0.4444444444444444,
              "#bd3786"
             ],
             [
              0.5555555555555556,
              "#d8576b"
             ],
             [
              0.6666666666666666,
              "#ed7953"
             ],
             [
              0.7777777777777778,
              "#fb9f3a"
             ],
             [
              0.8888888888888888,
              "#fdca26"
             ],
             [
              1,
              "#f0f921"
             ]
            ],
            "type": "histogram2d"
           }
          ],
          "histogram2dcontour": [
           {
            "colorbar": {
             "outlinewidth": 0,
             "ticks": ""
            },
            "colorscale": [
             [
              0,
              "#0d0887"
             ],
             [
              0.1111111111111111,
              "#46039f"
             ],
             [
              0.2222222222222222,
              "#7201a8"
             ],
             [
              0.3333333333333333,
              "#9c179e"
             ],
             [
              0.4444444444444444,
              "#bd3786"
             ],
             [
              0.5555555555555556,
              "#d8576b"
             ],
             [
              0.6666666666666666,
              "#ed7953"
             ],
             [
              0.7777777777777778,
              "#fb9f3a"
             ],
             [
              0.8888888888888888,
              "#fdca26"
             ],
             [
              1,
              "#f0f921"
             ]
            ],
            "type": "histogram2dcontour"
           }
          ],
          "mesh3d": [
           {
            "colorbar": {
             "outlinewidth": 0,
             "ticks": ""
            },
            "type": "mesh3d"
           }
          ],
          "parcoords": [
           {
            "line": {
             "colorbar": {
              "outlinewidth": 0,
              "ticks": ""
             }
            },
            "type": "parcoords"
           }
          ],
          "pie": [
           {
            "automargin": true,
            "type": "pie"
           }
          ],
          "scatter": [
           {
            "fillpattern": {
             "fillmode": "overlay",
             "size": 10,
             "solidity": 0.2
            },
            "type": "scatter"
           }
          ],
          "scatter3d": [
           {
            "line": {
             "colorbar": {
              "outlinewidth": 0,
              "ticks": ""
             }
            },
            "marker": {
             "colorbar": {
              "outlinewidth": 0,
              "ticks": ""
             }
            },
            "type": "scatter3d"
           }
          ],
          "scattercarpet": [
           {
            "marker": {
             "colorbar": {
              "outlinewidth": 0,
              "ticks": ""
             }
            },
            "type": "scattercarpet"
           }
          ],
          "scattergeo": [
           {
            "marker": {
             "colorbar": {
              "outlinewidth": 0,
              "ticks": ""
             }
            },
            "type": "scattergeo"
           }
          ],
          "scattergl": [
           {
            "marker": {
             "colorbar": {
              "outlinewidth": 0,
              "ticks": ""
             }
            },
            "type": "scattergl"
           }
          ],
          "scattermapbox": [
           {
            "marker": {
             "colorbar": {
              "outlinewidth": 0,
              "ticks": ""
             }
            },
            "type": "scattermapbox"
           }
          ],
          "scatterpolar": [
           {
            "marker": {
             "colorbar": {
              "outlinewidth": 0,
              "ticks": ""
             }
            },
            "type": "scatterpolar"
           }
          ],
          "scatterpolargl": [
           {
            "marker": {
             "colorbar": {
              "outlinewidth": 0,
              "ticks": ""
             }
            },
            "type": "scatterpolargl"
           }
          ],
          "scatterternary": [
           {
            "marker": {
             "colorbar": {
              "outlinewidth": 0,
              "ticks": ""
             }
            },
            "type": "scatterternary"
           }
          ],
          "surface": [
           {
            "colorbar": {
             "outlinewidth": 0,
             "ticks": ""
            },
            "colorscale": [
             [
              0,
              "#0d0887"
             ],
             [
              0.1111111111111111,
              "#46039f"
             ],
             [
              0.2222222222222222,
              "#7201a8"
             ],
             [
              0.3333333333333333,
              "#9c179e"
             ],
             [
              0.4444444444444444,
              "#bd3786"
             ],
             [
              0.5555555555555556,
              "#d8576b"
             ],
             [
              0.6666666666666666,
              "#ed7953"
             ],
             [
              0.7777777777777778,
              "#fb9f3a"
             ],
             [
              0.8888888888888888,
              "#fdca26"
             ],
             [
              1,
              "#f0f921"
             ]
            ],
            "type": "surface"
           }
          ],
          "table": [
           {
            "cells": {
             "fill": {
              "color": "#EBF0F8"
             },
             "line": {
              "color": "white"
             }
            },
            "header": {
             "fill": {
              "color": "#C8D4E3"
             },
             "line": {
              "color": "white"
             }
            },
            "type": "table"
           }
          ]
         },
         "layout": {
          "annotationdefaults": {
           "arrowcolor": "#2a3f5f",
           "arrowhead": 0,
           "arrowwidth": 1
          },
          "autotypenumbers": "strict",
          "coloraxis": {
           "colorbar": {
            "outlinewidth": 0,
            "ticks": ""
           }
          },
          "colorscale": {
           "diverging": [
            [
             0,
             "#8e0152"
            ],
            [
             0.1,
             "#c51b7d"
            ],
            [
             0.2,
             "#de77ae"
            ],
            [
             0.3,
             "#f1b6da"
            ],
            [
             0.4,
             "#fde0ef"
            ],
            [
             0.5,
             "#f7f7f7"
            ],
            [
             0.6,
             "#e6f5d0"
            ],
            [
             0.7,
             "#b8e186"
            ],
            [
             0.8,
             "#7fbc41"
            ],
            [
             0.9,
             "#4d9221"
            ],
            [
             1,
             "#276419"
            ]
           ],
           "sequential": [
            [
             0,
             "#0d0887"
            ],
            [
             0.1111111111111111,
             "#46039f"
            ],
            [
             0.2222222222222222,
             "#7201a8"
            ],
            [
             0.3333333333333333,
             "#9c179e"
            ],
            [
             0.4444444444444444,
             "#bd3786"
            ],
            [
             0.5555555555555556,
             "#d8576b"
            ],
            [
             0.6666666666666666,
             "#ed7953"
            ],
            [
             0.7777777777777778,
             "#fb9f3a"
            ],
            [
             0.8888888888888888,
             "#fdca26"
            ],
            [
             1,
             "#f0f921"
            ]
           ],
           "sequentialminus": [
            [
             0,
             "#0d0887"
            ],
            [
             0.1111111111111111,
             "#46039f"
            ],
            [
             0.2222222222222222,
             "#7201a8"
            ],
            [
             0.3333333333333333,
             "#9c179e"
            ],
            [
             0.4444444444444444,
             "#bd3786"
            ],
            [
             0.5555555555555556,
             "#d8576b"
            ],
            [
             0.6666666666666666,
             "#ed7953"
            ],
            [
             0.7777777777777778,
             "#fb9f3a"
            ],
            [
             0.8888888888888888,
             "#fdca26"
            ],
            [
             1,
             "#f0f921"
            ]
           ]
          },
          "colorway": [
           "#636efa",
           "#EF553B",
           "#00cc96",
           "#ab63fa",
           "#FFA15A",
           "#19d3f3",
           "#FF6692",
           "#B6E880",
           "#FF97FF",
           "#FECB52"
          ],
          "font": {
           "color": "#2a3f5f"
          },
          "geo": {
           "bgcolor": "white",
           "lakecolor": "white",
           "landcolor": "#E5ECF6",
           "showlakes": true,
           "showland": true,
           "subunitcolor": "white"
          },
          "hoverlabel": {
           "align": "left"
          },
          "hovermode": "closest",
          "mapbox": {
           "style": "light"
          },
          "paper_bgcolor": "white",
          "plot_bgcolor": "#E5ECF6",
          "polar": {
           "angularaxis": {
            "gridcolor": "white",
            "linecolor": "white",
            "ticks": ""
           },
           "bgcolor": "#E5ECF6",
           "radialaxis": {
            "gridcolor": "white",
            "linecolor": "white",
            "ticks": ""
           }
          },
          "scene": {
           "xaxis": {
            "backgroundcolor": "#E5ECF6",
            "gridcolor": "white",
            "gridwidth": 2,
            "linecolor": "white",
            "showbackground": true,
            "ticks": "",
            "zerolinecolor": "white"
           },
           "yaxis": {
            "backgroundcolor": "#E5ECF6",
            "gridcolor": "white",
            "gridwidth": 2,
            "linecolor": "white",
            "showbackground": true,
            "ticks": "",
            "zerolinecolor": "white"
           },
           "zaxis": {
            "backgroundcolor": "#E5ECF6",
            "gridcolor": "white",
            "gridwidth": 2,
            "linecolor": "white",
            "showbackground": true,
            "ticks": "",
            "zerolinecolor": "white"
           }
          },
          "shapedefaults": {
           "line": {
            "color": "#2a3f5f"
           }
          },
          "ternary": {
           "aaxis": {
            "gridcolor": "white",
            "linecolor": "white",
            "ticks": ""
           },
           "baxis": {
            "gridcolor": "white",
            "linecolor": "white",
            "ticks": ""
           },
           "bgcolor": "#E5ECF6",
           "caxis": {
            "gridcolor": "white",
            "linecolor": "white",
            "ticks": ""
           }
          },
          "title": {
           "x": 0.05
          },
          "xaxis": {
           "automargin": true,
           "gridcolor": "white",
           "linecolor": "white",
           "ticks": "",
           "title": {
            "standoff": 15
           },
           "zerolinecolor": "white",
           "zerolinewidth": 2
          },
          "yaxis": {
           "automargin": true,
           "gridcolor": "white",
           "linecolor": "white",
           "ticks": "",
           "title": {
            "standoff": 15
           },
           "zerolinecolor": "white",
           "zerolinewidth": 2
          }
         }
        },
        "title": {
         "text": "De 10 högsta respektive 10 lägsta kommunerna i kostnaderna per student"
        },
        "width": 800,
        "xaxis": {
         "anchor": "y",
         "domain": [
          0,
          1
         ],
         "title": {
          "text": "Totalt per elev"
         }
        },
        "yaxis": {
         "anchor": "x",
         "categoryarray": [
          "Säter",
          "Kumla",
          "Ekerö",
          "Töreboda",
          "Dals-Ed",
          "Storuman",
          "Höör",
          "Orust",
          "Örkelljunga",
          "Arjeplog",
          "Tanum",
          "Burlöv",
          "Tibro",
          "Vilhelmina",
          "Sölvesborg",
          "Munkedal",
          "Ale",
          "Östra Göinge",
          "Lessebo",
          "Sotenäs",
          "Solna",
          "Värnamo",
          "Värmdö",
          "Varberg",
          "Borås",
          "Gävle",
          "Kristianstad",
          "Härryda",
          "Hudiksvall",
          "Lund",
          "Danderyd",
          "Kungälv",
          "Lerum",
          "Täby",
          "Vellinge",
          "Jönköping",
          "Torsås",
          "Sollentuna",
          "Lidingö",
          "Nacka"
         ],
         "categoryorder": "array",
         "domain": [
          0,
          1
         ],
         "title": {
          "text": "Kommun"
         }
        }
       }
      }
     },
     "metadata": {},
     "output_type": "display_data"
    }
   ],
   "source": [
    "def polish_df(df_mydata, col):\n",
    "    df_mydata=df_mydata[df_mydata[col]!='.']\n",
    "    df_mydata=df_mydata[False == df_mydata[col].isnull()]\n",
    "    return df_mydata\n",
    "\n",
    "def read_data(mysheetname):\n",
    "    df_tmp=pd.read_excel(\"./Data/Gymnasieskola - Kostnader per kommun 2022 Kommun.xlsx\", sheet_name=mysheetname, skiprows=7)\n",
    "\n",
    "    return df_tmp\n",
    "\n",
    "df_kostnader=read_data(\"Sheet1\")\n",
    "cost_numerics=['Genomsnittligt elevantal','Totalt','Undervisning','Totalt per elev','Undervisning per elev','Lokaler per elev','Måltider per elev','Lärverktyg per elev','Elevhälsa per elev','Övrigt per elev']\n",
    "interesting_cols=['Genomsnittligt elevantal','Totalt per elev','Undervisning per elev', 'Måltider per elev','Lärverktyg per elev','Elevhälsa per elev','Övrigt per elev']\n",
    "for item in interesting_cols:\n",
    "    df_kostnader=polish_df(df_kostnader,item)\n",
    "\n",
    "\n",
    "df_kostnader[cost_numerics]=df_kostnader[cost_numerics].astype(int)\n",
    "\n",
    "\n",
    "df_kostnader=df_kostnader[df_kostnader['Genomsnittligt elevantal']>10]\n",
    "df_kostnader=df_kostnader[df_kostnader['Måltider per elev']>0]\n",
    "\n",
    "df_kostnader=df_kostnader[False == df_kostnader['Läns-kod'].isnull()]\n",
    "\n",
    "df_kostnader=df_kostnader.sort_values('Totalt per elev')\n",
    "\n",
    "df_low10=df_kostnader[-20:]\n",
    "df_top10=df_kostnader[:20]\n",
    "selectedlist=list(df_top10['Kommun'])+list(df_low10['Kommun'])\n",
    "df_selected=df_kostnader[df_kostnader['Kommun'].isin(selectedlist)]\n",
    "\n",
    "fig6 = px.bar(df_selected, y='Kommun', x=['Totalt per elev','Undervisning per elev','Måltider per elev','Lärverktyg per elev'], \n",
    "               title=\"De 10 högsta respektive 10 lägsta kommunerna i kostnaderna per student\",\n",
    "                barmode='group',\n",
    "              labels={'Kommun': 'Kommun', 'value':'Totalt per elev'},\n",
    "              #color = color,\n",
    "              hover_data={'Kommun': True, 'value': ':5.0f'},\n",
    "              category_orders={'Kommun':selectedlist},\n",
    "              width=800, height=800)\n",
    "#fig.update_layout()\n",
    "fig6.show()\n",
    "\n"
   ]
  },
  {
   "cell_type": "code",
   "execution_count": 48,
   "metadata": {},
   "outputs": [
    {
     "data": {
      "application/vnd.plotly.v1+json": {
       "config": {
        "plotlyServerURL": "https://plot.ly"
       },
       "data": [
        {
         "alignmentgroup": "True",
         "hovertemplate": "variable=Andel (%) med examen<br>Totalt per elev=%{x:5.0f}<br>Kommun=%{y}<extra></extra>",
         "legendgroup": "Andel (%) med examen",
         "marker": {
          "color": "#636efa",
          "pattern": {
           "shape": ""
          }
         },
         "name": "Andel (%) med examen",
         "offsetgroup": "Andel (%) med examen",
         "orientation": "h",
         "showlegend": true,
         "textposition": "auto",
         "type": "bar",
         "x": [
          54.5,
          63.6,
          68.1,
          70.7,
          72.6,
          73.8,
          74.1,
          76.6,
          78.6,
          78.8,
          79.1,
          79.1,
          79.5,
          80,
          80.3,
          80.6,
          81.4,
          82,
          82.1,
          82.4,
          96.3,
          96.6,
          97.3,
          97.4,
          97.5,
          98.1,
          98.3,
          98.6,
          98.9,
          99.3,
          99.4,
          100,
          100,
          100,
          100,
          100,
          100,
          100,
          100,
          100
         ],
         "xaxis": "x",
         "y": [
          "Flen",
          "Järfälla",
          "Upplands Väsby",
          "Salem",
          "Södertälje",
          "Tingsryd",
          "Bräcke",
          "Älmhult",
          "Filipstad",
          "Degerfors",
          "Eslöv",
          "Gnosjö",
          "Laholm",
          "Motala",
          "Tierp",
          "Söderköping",
          "Simrishamn",
          "Olofström",
          "Huddinge",
          "Hässleholm",
          "Berg",
          "Gällivare",
          "Vilhelmina",
          "Lysekil",
          "Sollentuna",
          "Nyköping",
          "Värmdö",
          "Åtvidaberg",
          "Sunne",
          "Nacka",
          "Avesta",
          "Krokom",
          "Ovanåker",
          "Pajala",
          "Ragunda",
          "Örkelljunga",
          "Storuman",
          "Arjeplog",
          "Haparanda",
          "Härjedalen"
         ],
         "yaxis": "y"
        }
       ],
       "layout": {
        "barmode": "group",
        "height": 800,
        "legend": {
         "title": {
          "text": "variable"
         },
         "tracegroupgap": 0
        },
        "template": {
         "data": {
          "bar": [
           {
            "error_x": {
             "color": "#2a3f5f"
            },
            "error_y": {
             "color": "#2a3f5f"
            },
            "marker": {
             "line": {
              "color": "#E5ECF6",
              "width": 0.5
             },
             "pattern": {
              "fillmode": "overlay",
              "size": 10,
              "solidity": 0.2
             }
            },
            "type": "bar"
           }
          ],
          "barpolar": [
           {
            "marker": {
             "line": {
              "color": "#E5ECF6",
              "width": 0.5
             },
             "pattern": {
              "fillmode": "overlay",
              "size": 10,
              "solidity": 0.2
             }
            },
            "type": "barpolar"
           }
          ],
          "carpet": [
           {
            "aaxis": {
             "endlinecolor": "#2a3f5f",
             "gridcolor": "white",
             "linecolor": "white",
             "minorgridcolor": "white",
             "startlinecolor": "#2a3f5f"
            },
            "baxis": {
             "endlinecolor": "#2a3f5f",
             "gridcolor": "white",
             "linecolor": "white",
             "minorgridcolor": "white",
             "startlinecolor": "#2a3f5f"
            },
            "type": "carpet"
           }
          ],
          "choropleth": [
           {
            "colorbar": {
             "outlinewidth": 0,
             "ticks": ""
            },
            "type": "choropleth"
           }
          ],
          "contour": [
           {
            "colorbar": {
             "outlinewidth": 0,
             "ticks": ""
            },
            "colorscale": [
             [
              0,
              "#0d0887"
             ],
             [
              0.1111111111111111,
              "#46039f"
             ],
             [
              0.2222222222222222,
              "#7201a8"
             ],
             [
              0.3333333333333333,
              "#9c179e"
             ],
             [
              0.4444444444444444,
              "#bd3786"
             ],
             [
              0.5555555555555556,
              "#d8576b"
             ],
             [
              0.6666666666666666,
              "#ed7953"
             ],
             [
              0.7777777777777778,
              "#fb9f3a"
             ],
             [
              0.8888888888888888,
              "#fdca26"
             ],
             [
              1,
              "#f0f921"
             ]
            ],
            "type": "contour"
           }
          ],
          "contourcarpet": [
           {
            "colorbar": {
             "outlinewidth": 0,
             "ticks": ""
            },
            "type": "contourcarpet"
           }
          ],
          "heatmap": [
           {
            "colorbar": {
             "outlinewidth": 0,
             "ticks": ""
            },
            "colorscale": [
             [
              0,
              "#0d0887"
             ],
             [
              0.1111111111111111,
              "#46039f"
             ],
             [
              0.2222222222222222,
              "#7201a8"
             ],
             [
              0.3333333333333333,
              "#9c179e"
             ],
             [
              0.4444444444444444,
              "#bd3786"
             ],
             [
              0.5555555555555556,
              "#d8576b"
             ],
             [
              0.6666666666666666,
              "#ed7953"
             ],
             [
              0.7777777777777778,
              "#fb9f3a"
             ],
             [
              0.8888888888888888,
              "#fdca26"
             ],
             [
              1,
              "#f0f921"
             ]
            ],
            "type": "heatmap"
           }
          ],
          "heatmapgl": [
           {
            "colorbar": {
             "outlinewidth": 0,
             "ticks": ""
            },
            "colorscale": [
             [
              0,
              "#0d0887"
             ],
             [
              0.1111111111111111,
              "#46039f"
             ],
             [
              0.2222222222222222,
              "#7201a8"
             ],
             [
              0.3333333333333333,
              "#9c179e"
             ],
             [
              0.4444444444444444,
              "#bd3786"
             ],
             [
              0.5555555555555556,
              "#d8576b"
             ],
             [
              0.6666666666666666,
              "#ed7953"
             ],
             [
              0.7777777777777778,
              "#fb9f3a"
             ],
             [
              0.8888888888888888,
              "#fdca26"
             ],
             [
              1,
              "#f0f921"
             ]
            ],
            "type": "heatmapgl"
           }
          ],
          "histogram": [
           {
            "marker": {
             "pattern": {
              "fillmode": "overlay",
              "size": 10,
              "solidity": 0.2
             }
            },
            "type": "histogram"
           }
          ],
          "histogram2d": [
           {
            "colorbar": {
             "outlinewidth": 0,
             "ticks": ""
            },
            "colorscale": [
             [
              0,
              "#0d0887"
             ],
             [
              0.1111111111111111,
              "#46039f"
             ],
             [
              0.2222222222222222,
              "#7201a8"
             ],
             [
              0.3333333333333333,
              "#9c179e"
             ],
             [
              0.4444444444444444,
              "#bd3786"
             ],
             [
              0.5555555555555556,
              "#d8576b"
             ],
             [
              0.6666666666666666,
              "#ed7953"
             ],
             [
              0.7777777777777778,
              "#fb9f3a"
             ],
             [
              0.8888888888888888,
              "#fdca26"
             ],
             [
              1,
              "#f0f921"
             ]
            ],
            "type": "histogram2d"
           }
          ],
          "histogram2dcontour": [
           {
            "colorbar": {
             "outlinewidth": 0,
             "ticks": ""
            },
            "colorscale": [
             [
              0,
              "#0d0887"
             ],
             [
              0.1111111111111111,
              "#46039f"
             ],
             [
              0.2222222222222222,
              "#7201a8"
             ],
             [
              0.3333333333333333,
              "#9c179e"
             ],
             [
              0.4444444444444444,
              "#bd3786"
             ],
             [
              0.5555555555555556,
              "#d8576b"
             ],
             [
              0.6666666666666666,
              "#ed7953"
             ],
             [
              0.7777777777777778,
              "#fb9f3a"
             ],
             [
              0.8888888888888888,
              "#fdca26"
             ],
             [
              1,
              "#f0f921"
             ]
            ],
            "type": "histogram2dcontour"
           }
          ],
          "mesh3d": [
           {
            "colorbar": {
             "outlinewidth": 0,
             "ticks": ""
            },
            "type": "mesh3d"
           }
          ],
          "parcoords": [
           {
            "line": {
             "colorbar": {
              "outlinewidth": 0,
              "ticks": ""
             }
            },
            "type": "parcoords"
           }
          ],
          "pie": [
           {
            "automargin": true,
            "type": "pie"
           }
          ],
          "scatter": [
           {
            "fillpattern": {
             "fillmode": "overlay",
             "size": 10,
             "solidity": 0.2
            },
            "type": "scatter"
           }
          ],
          "scatter3d": [
           {
            "line": {
             "colorbar": {
              "outlinewidth": 0,
              "ticks": ""
             }
            },
            "marker": {
             "colorbar": {
              "outlinewidth": 0,
              "ticks": ""
             }
            },
            "type": "scatter3d"
           }
          ],
          "scattercarpet": [
           {
            "marker": {
             "colorbar": {
              "outlinewidth": 0,
              "ticks": ""
             }
            },
            "type": "scattercarpet"
           }
          ],
          "scattergeo": [
           {
            "marker": {
             "colorbar": {
              "outlinewidth": 0,
              "ticks": ""
             }
            },
            "type": "scattergeo"
           }
          ],
          "scattergl": [
           {
            "marker": {
             "colorbar": {
              "outlinewidth": 0,
              "ticks": ""
             }
            },
            "type": "scattergl"
           }
          ],
          "scattermapbox": [
           {
            "marker": {
             "colorbar": {
              "outlinewidth": 0,
              "ticks": ""
             }
            },
            "type": "scattermapbox"
           }
          ],
          "scatterpolar": [
           {
            "marker": {
             "colorbar": {
              "outlinewidth": 0,
              "ticks": ""
             }
            },
            "type": "scatterpolar"
           }
          ],
          "scatterpolargl": [
           {
            "marker": {
             "colorbar": {
              "outlinewidth": 0,
              "ticks": ""
             }
            },
            "type": "scatterpolargl"
           }
          ],
          "scatterternary": [
           {
            "marker": {
             "colorbar": {
              "outlinewidth": 0,
              "ticks": ""
             }
            },
            "type": "scatterternary"
           }
          ],
          "surface": [
           {
            "colorbar": {
             "outlinewidth": 0,
             "ticks": ""
            },
            "colorscale": [
             [
              0,
              "#0d0887"
             ],
             [
              0.1111111111111111,
              "#46039f"
             ],
             [
              0.2222222222222222,
              "#7201a8"
             ],
             [
              0.3333333333333333,
              "#9c179e"
             ],
             [
              0.4444444444444444,
              "#bd3786"
             ],
             [
              0.5555555555555556,
              "#d8576b"
             ],
             [
              0.6666666666666666,
              "#ed7953"
             ],
             [
              0.7777777777777778,
              "#fb9f3a"
             ],
             [
              0.8888888888888888,
              "#fdca26"
             ],
             [
              1,
              "#f0f921"
             ]
            ],
            "type": "surface"
           }
          ],
          "table": [
           {
            "cells": {
             "fill": {
              "color": "#EBF0F8"
             },
             "line": {
              "color": "white"
             }
            },
            "header": {
             "fill": {
              "color": "#C8D4E3"
             },
             "line": {
              "color": "white"
             }
            },
            "type": "table"
           }
          ]
         },
         "layout": {
          "annotationdefaults": {
           "arrowcolor": "#2a3f5f",
           "arrowhead": 0,
           "arrowwidth": 1
          },
          "autotypenumbers": "strict",
          "coloraxis": {
           "colorbar": {
            "outlinewidth": 0,
            "ticks": ""
           }
          },
          "colorscale": {
           "diverging": [
            [
             0,
             "#8e0152"
            ],
            [
             0.1,
             "#c51b7d"
            ],
            [
             0.2,
             "#de77ae"
            ],
            [
             0.3,
             "#f1b6da"
            ],
            [
             0.4,
             "#fde0ef"
            ],
            [
             0.5,
             "#f7f7f7"
            ],
            [
             0.6,
             "#e6f5d0"
            ],
            [
             0.7,
             "#b8e186"
            ],
            [
             0.8,
             "#7fbc41"
            ],
            [
             0.9,
             "#4d9221"
            ],
            [
             1,
             "#276419"
            ]
           ],
           "sequential": [
            [
             0,
             "#0d0887"
            ],
            [
             0.1111111111111111,
             "#46039f"
            ],
            [
             0.2222222222222222,
             "#7201a8"
            ],
            [
             0.3333333333333333,
             "#9c179e"
            ],
            [
             0.4444444444444444,
             "#bd3786"
            ],
            [
             0.5555555555555556,
             "#d8576b"
            ],
            [
             0.6666666666666666,
             "#ed7953"
            ],
            [
             0.7777777777777778,
             "#fb9f3a"
            ],
            [
             0.8888888888888888,
             "#fdca26"
            ],
            [
             1,
             "#f0f921"
            ]
           ],
           "sequentialminus": [
            [
             0,
             "#0d0887"
            ],
            [
             0.1111111111111111,
             "#46039f"
            ],
            [
             0.2222222222222222,
             "#7201a8"
            ],
            [
             0.3333333333333333,
             "#9c179e"
            ],
            [
             0.4444444444444444,
             "#bd3786"
            ],
            [
             0.5555555555555556,
             "#d8576b"
            ],
            [
             0.6666666666666666,
             "#ed7953"
            ],
            [
             0.7777777777777778,
             "#fb9f3a"
            ],
            [
             0.8888888888888888,
             "#fdca26"
            ],
            [
             1,
             "#f0f921"
            ]
           ]
          },
          "colorway": [
           "#636efa",
           "#EF553B",
           "#00cc96",
           "#ab63fa",
           "#FFA15A",
           "#19d3f3",
           "#FF6692",
           "#B6E880",
           "#FF97FF",
           "#FECB52"
          ],
          "font": {
           "color": "#2a3f5f"
          },
          "geo": {
           "bgcolor": "white",
           "lakecolor": "white",
           "landcolor": "#E5ECF6",
           "showlakes": true,
           "showland": true,
           "subunitcolor": "white"
          },
          "hoverlabel": {
           "align": "left"
          },
          "hovermode": "closest",
          "mapbox": {
           "style": "light"
          },
          "paper_bgcolor": "white",
          "plot_bgcolor": "#E5ECF6",
          "polar": {
           "angularaxis": {
            "gridcolor": "white",
            "linecolor": "white",
            "ticks": ""
           },
           "bgcolor": "#E5ECF6",
           "radialaxis": {
            "gridcolor": "white",
            "linecolor": "white",
            "ticks": ""
           }
          },
          "scene": {
           "xaxis": {
            "backgroundcolor": "#E5ECF6",
            "gridcolor": "white",
            "gridwidth": 2,
            "linecolor": "white",
            "showbackground": true,
            "ticks": "",
            "zerolinecolor": "white"
           },
           "yaxis": {
            "backgroundcolor": "#E5ECF6",
            "gridcolor": "white",
            "gridwidth": 2,
            "linecolor": "white",
            "showbackground": true,
            "ticks": "",
            "zerolinecolor": "white"
           },
           "zaxis": {
            "backgroundcolor": "#E5ECF6",
            "gridcolor": "white",
            "gridwidth": 2,
            "linecolor": "white",
            "showbackground": true,
            "ticks": "",
            "zerolinecolor": "white"
           }
          },
          "shapedefaults": {
           "line": {
            "color": "#2a3f5f"
           }
          },
          "ternary": {
           "aaxis": {
            "gridcolor": "white",
            "linecolor": "white",
            "ticks": ""
           },
           "baxis": {
            "gridcolor": "white",
            "linecolor": "white",
            "ticks": ""
           },
           "bgcolor": "#E5ECF6",
           "caxis": {
            "gridcolor": "white",
            "linecolor": "white",
            "ticks": ""
           }
          },
          "title": {
           "x": 0.05
          },
          "xaxis": {
           "automargin": true,
           "gridcolor": "white",
           "linecolor": "white",
           "ticks": "",
           "title": {
            "standoff": 15
           },
           "zerolinecolor": "white",
           "zerolinewidth": 2
          },
          "yaxis": {
           "automargin": true,
           "gridcolor": "white",
           "linecolor": "white",
           "ticks": "",
           "title": {
            "standoff": 15
           },
           "zerolinecolor": "white",
           "zerolinewidth": 2
          }
         }
        },
        "title": {
         "text": "De 10 högsta respektive 10 lägsta kommunerna i kostnaderna per student"
        },
        "width": 800,
        "xaxis": {
         "anchor": "y",
         "domain": [
          0,
          1
         ],
         "title": {
          "text": "Totalt per elev"
         }
        },
        "yaxis": {
         "anchor": "x",
         "categoryarray": [
          "Härjedalen",
          "Haparanda",
          "Arjeplog",
          "Storuman",
          "Örkelljunga",
          "Ragunda",
          "Pajala",
          "Ovanåker",
          "Krokom",
          "Avesta",
          "Nacka",
          "Sunne",
          "Åtvidaberg",
          "Värmdö",
          "Nyköping",
          "Sollentuna",
          "Lysekil",
          "Vilhelmina",
          "Gällivare",
          "Berg",
          "Hässleholm",
          "Huddinge",
          "Olofström",
          "Simrishamn",
          "Söderköping",
          "Tierp",
          "Motala",
          "Laholm",
          "Gnosjö",
          "Eslöv",
          "Degerfors",
          "Filipstad",
          "Älmhult",
          "Bräcke",
          "Tingsryd",
          "Södertälje",
          "Salem",
          "Upplands Väsby",
          "Järfälla",
          "Flen"
         ],
         "categoryorder": "array",
         "domain": [
          0,
          1
         ],
         "title": {
          "text": "Kommun"
         }
        }
       }
      }
     },
     "metadata": {},
     "output_type": "display_data"
    }
   ],
   "source": [
    "from plotly.subplots import make_subplots\n",
    "import plotly.graph_objects as go\n",
    "\n",
    "def read_data3(mysheetname):\n",
    "    df_tmp=pd.read_excel(\"./Data/Gymnasieskola - Avgångselever, nationella program (fr.o.m. 2013_14) 2023 Kommun.xlsx\", sheet_name=mysheetname, skiprows=8)\n",
    "    df_tmp=df_tmp[df_tmp['Typ av huvudman']=='Kommunal']\n",
    "    #df_tmp=df_tmp[df_tmp['Kommun'].isin(selectedlist)]\n",
    "    df_tmp=df_tmp[df_tmp['Andel (%) med examen']!='.']\n",
    "    df_tmp=df_tmp[df_tmp['Andel (%) med examen']!='..']\n",
    "    df_tmp=df_tmp[False == df_tmp['Andel (%) med examen'].isnull()]\n",
    "    df_tmp['Andel (%) med examen']=df_tmp['Andel (%) med examen'].astype(float)\n",
    "    df_tmp=df_tmp.sort_values('Andel (%) med examen')\n",
    "    \n",
    "    return df_tmp\n",
    "\n",
    "df_nationella=read_data3('Nationella program')\n",
    "df_högskf=read_data3('Högskoleförberedande program')\n",
    "df_yrkes=read_data3('Yrkesprogram')\n",
    "\n",
    "df_lownat=df_nationella[-20:]\n",
    "df_topnat=df_nationella[:20]\n",
    "selectednat=list(df_topnat['Kommun'])+list(df_lownat['Kommun'])\n",
    "df_sel_nat=df_nationella[df_nationella['Kommun'].isin(selectednat)]\n",
    "#df_nationella=df_perform[df_perform['Kommun'].isin(list(df_selected['Kommun']))]\n",
    "\n",
    "\n",
    "\n",
    "fig7 = px.bar(df_sel_nat, y='Kommun', x=['Andel (%) med examen'], \n",
    "               title=\"De 10 högsta respektive 10 lägsta kommunerna i kostnaderna per student\",\n",
    "                barmode='group',\n",
    "              labels={'Kommun': 'Kommun', 'value':'Totalt per elev'},\n",
    "              #color = color,\n",
    "              hover_data={'Kommun': True, 'value': ':5.0f'},\n",
    "              category_orders={'Kommun':selectednat},\n",
    "              width=800, height=800)\n",
    "\n",
    "# ------------------------------- Subplot plotly ----------- from Stackoverflow\n",
    "# fig8 = make_subplots(rows=1, cols=1)\n",
    "\n",
    "# fig8.add_trace(\n",
    "#      go.Bar(x=df_nationella['Kommun'], \n",
    "#             y=df_nationella['Andel (%) med examen'],\n",
    "            #mode=\"text\"\n",
    "            #text\n",
    "            #category_orders={'Kommun':selectedlist},\n",
    "#         x=[1, 2, 3],\n",
    "#         y=[4, 5, 6],\n",
    "#         mode=\"markers+text\",\n",
    "#         text=[\"Text A\", \"Text B\", \"Text C\"],\n",
    "#         textposition=\"bottom center\"\n",
    "#      ),\n",
    "#     row=1, col=1\n",
    "# )\n",
    "\n",
    "# fig.add_trace(\n",
    "#     go.Scatter(\n",
    "#         x=[20, 30, 40],\n",
    "#         y=[50, 60, 70],\n",
    "#         mode=\"markers+text\",\n",
    "#         text=[\"Text D\", \"Text E\", \"Text F\"],\n",
    "#         textposition=\"bottom center\"\n",
    "#     ),\n",
    "#     row=1, col=2\n",
    "# )\n",
    "\n",
    "# fig.update_layout(height=600, width=800, title_text=\"Subplots with Annotations\")\n",
    "\n",
    "# fig.show()\n",
    "\n",
    "\n",
    "\n",
    "\n",
    "\n",
    "\n",
    "fig7.show()\n",
    "\n"
   ]
  },
  {
   "cell_type": "code",
   "execution_count": 46,
   "metadata": {},
   "outputs": [
    {
     "data": {
      "text/plain": [
       "['Nacka',\n",
       " 'Lidingö',\n",
       " 'Sollentuna',\n",
       " 'Torsås',\n",
       " 'Jönköping',\n",
       " 'Vellinge',\n",
       " 'Täby',\n",
       " 'Lerum',\n",
       " 'Kungälv',\n",
       " 'Danderyd',\n",
       " 'Arjeplog',\n",
       " 'Örkelljunga',\n",
       " 'Orust',\n",
       " 'Höör',\n",
       " 'Storuman',\n",
       " 'Dals-Ed',\n",
       " 'Töreboda',\n",
       " 'Ekerö',\n",
       " 'Kumla',\n",
       " 'Säter']"
      ]
     },
     "execution_count": 46,
     "metadata": {},
     "output_type": "execute_result"
    }
   ],
   "source": [
    "selectednat\n",
    "\n"
   ]
  },
  {
   "cell_type": "code",
   "execution_count": 22,
   "metadata": {},
   "outputs": [
    {
     "data": {
      "text/html": [
       "<div>\n",
       "<style scoped>\n",
       "    .dataframe tbody tr th:only-of-type {\n",
       "        vertical-align: middle;\n",
       "    }\n",
       "\n",
       "    .dataframe tbody tr th {\n",
       "        vertical-align: top;\n",
       "    }\n",
       "\n",
       "    .dataframe thead th {\n",
       "        text-align: right;\n",
       "    }\n",
       "</style>\n",
       "<table border=\"1\" class=\"dataframe\">\n",
       "  <thead>\n",
       "    <tr style=\"text-align: right;\">\n",
       "      <th></th>\n",
       "      <th>Kommun</th>\n",
       "      <th>Kommun-kod</th>\n",
       "      <th>Län</th>\n",
       "      <th>Läns-kod</th>\n",
       "      <th>Typ av huvudman</th>\n",
       "      <th>Genomsnittligt elevantal</th>\n",
       "      <th>Totalt</th>\n",
       "      <th>Undervisning</th>\n",
       "      <th>Totalt per elev</th>\n",
       "      <th>Undervisning per elev</th>\n",
       "      <th>Lokaler per elev</th>\n",
       "      <th>Måltider per elev</th>\n",
       "      <th>Lärverktyg per elev</th>\n",
       "      <th>Elevhälsa per elev</th>\n",
       "      <th>Övrigt per elev</th>\n",
       "    </tr>\n",
       "  </thead>\n",
       "  <tbody>\n",
       "    <tr>\n",
       "      <th>201</th>\n",
       "      <td>Sotenäs</td>\n",
       "      <td>1427.0</td>\n",
       "      <td>Västra Götalands län</td>\n",
       "      <td>14.0</td>\n",
       "      <td>Kommunal</td>\n",
       "      <td>20</td>\n",
       "      <td>5379</td>\n",
       "      <td>3370</td>\n",
       "      <td>269000</td>\n",
       "      <td>168500</td>\n",
       "      <td>24900</td>\n",
       "      <td>5500</td>\n",
       "      <td>9600</td>\n",
       "      <td>11000</td>\n",
       "      <td>49500</td>\n",
       "    </tr>\n",
       "    <tr>\n",
       "      <th>125</th>\n",
       "      <td>Lessebo</td>\n",
       "      <td>761.0</td>\n",
       "      <td>Kronobergs län</td>\n",
       "      <td>7.0</td>\n",
       "      <td>Kommunal</td>\n",
       "      <td>41</td>\n",
       "      <td>10947</td>\n",
       "      <td>6307</td>\n",
       "      <td>270300</td>\n",
       "      <td>155700</td>\n",
       "      <td>15700</td>\n",
       "      <td>13000</td>\n",
       "      <td>6700</td>\n",
       "      <td>26890</td>\n",
       "      <td>52300</td>\n",
       "    </tr>\n",
       "    <tr>\n",
       "      <th>296</th>\n",
       "      <td>Östra Göinge</td>\n",
       "      <td>1256.0</td>\n",
       "      <td>Skåne län</td>\n",
       "      <td>12.0</td>\n",
       "      <td>Kommunal</td>\n",
       "      <td>91</td>\n",
       "      <td>24604</td>\n",
       "      <td>16072</td>\n",
       "      <td>270400</td>\n",
       "      <td>176600</td>\n",
       "      <td>11400</td>\n",
       "      <td>9700</td>\n",
       "      <td>12900</td>\n",
       "      <td>16980</td>\n",
       "      <td>42800</td>\n",
       "    </tr>\n",
       "    <tr>\n",
       "      <th>0</th>\n",
       "      <td>Ale</td>\n",
       "      <td>1440.0</td>\n",
       "      <td>Västra Götalands län</td>\n",
       "      <td>14.0</td>\n",
       "      <td>Kommunal</td>\n",
       "      <td>120</td>\n",
       "      <td>32469</td>\n",
       "      <td>17931</td>\n",
       "      <td>270600</td>\n",
       "      <td>149400</td>\n",
       "      <td>44600</td>\n",
       "      <td>3900</td>\n",
       "      <td>6300</td>\n",
       "      <td>8880</td>\n",
       "      <td>57400</td>\n",
       "    </tr>\n",
       "    <tr>\n",
       "      <th>151</th>\n",
       "      <td>Munkedal</td>\n",
       "      <td>1430.0</td>\n",
       "      <td>Västra Götalands län</td>\n",
       "      <td>14.0</td>\n",
       "      <td>Kommunal</td>\n",
       "      <td>54</td>\n",
       "      <td>14728</td>\n",
       "      <td>7864</td>\n",
       "      <td>272700</td>\n",
       "      <td>145600</td>\n",
       "      <td>22900</td>\n",
       "      <td>10600</td>\n",
       "      <td>11300</td>\n",
       "      <td>4240</td>\n",
       "      <td>78100</td>\n",
       "    </tr>\n",
       "    <tr>\n",
       "      <th>225</th>\n",
       "      <td>Sölvesborg</td>\n",
       "      <td>1083.0</td>\n",
       "      <td>Blekinge län</td>\n",
       "      <td>10.0</td>\n",
       "      <td>Kommunal</td>\n",
       "      <td>276</td>\n",
       "      <td>82368</td>\n",
       "      <td>40224</td>\n",
       "      <td>299000</td>\n",
       "      <td>146000</td>\n",
       "      <td>47400</td>\n",
       "      <td>17400</td>\n",
       "      <td>20200</td>\n",
       "      <td>7480</td>\n",
       "      <td>60500</td>\n",
       "    </tr>\n",
       "    <tr>\n",
       "      <th>261</th>\n",
       "      <td>Vilhelmina</td>\n",
       "      <td>2462.0</td>\n",
       "      <td>Västerbottens län</td>\n",
       "      <td>24.0</td>\n",
       "      <td>Kommunal</td>\n",
       "      <td>138</td>\n",
       "      <td>41300</td>\n",
       "      <td>24068</td>\n",
       "      <td>299300</td>\n",
       "      <td>174400</td>\n",
       "      <td>64500</td>\n",
       "      <td>13500</td>\n",
       "      <td>22700</td>\n",
       "      <td>5090</td>\n",
       "      <td>19100</td>\n",
       "    </tr>\n",
       "    <tr>\n",
       "      <th>227</th>\n",
       "      <td>Tibro</td>\n",
       "      <td>1472.0</td>\n",
       "      <td>Västra Götalands län</td>\n",
       "      <td>14.0</td>\n",
       "      <td>Kommunal</td>\n",
       "      <td>20</td>\n",
       "      <td>6079</td>\n",
       "      <td>2508</td>\n",
       "      <td>311700</td>\n",
       "      <td>128600</td>\n",
       "      <td>16300</td>\n",
       "      <td>6700</td>\n",
       "      <td>9200</td>\n",
       "      <td>3130</td>\n",
       "      <td>147800</td>\n",
       "    </tr>\n",
       "    <tr>\n",
       "      <th>24</th>\n",
       "      <td>Burlöv</td>\n",
       "      <td>1231.0</td>\n",
       "      <td>Skåne län</td>\n",
       "      <td>12.0</td>\n",
       "      <td>Kommunal</td>\n",
       "      <td>52</td>\n",
       "      <td>16613</td>\n",
       "      <td>8254</td>\n",
       "      <td>319500</td>\n",
       "      <td>158700</td>\n",
       "      <td>40600</td>\n",
       "      <td>6700</td>\n",
       "      <td>3200</td>\n",
       "      <td>10630</td>\n",
       "      <td>99700</td>\n",
       "    </tr>\n",
       "    <tr>\n",
       "      <th>226</th>\n",
       "      <td>Tanum</td>\n",
       "      <td>1435.0</td>\n",
       "      <td>Västra Götalands län</td>\n",
       "      <td>14.0</td>\n",
       "      <td>Kommunal</td>\n",
       "      <td>17</td>\n",
       "      <td>5611</td>\n",
       "      <td>2285</td>\n",
       "      <td>330100</td>\n",
       "      <td>134400</td>\n",
       "      <td>34400</td>\n",
       "      <td>38100</td>\n",
       "      <td>14800</td>\n",
       "      <td>10880</td>\n",
       "      <td>97500</td>\n",
       "    </tr>\n",
       "    <tr>\n",
       "      <th>5</th>\n",
       "      <td>Arjeplog</td>\n",
       "      <td>2506.0</td>\n",
       "      <td>Norrbottens län</td>\n",
       "      <td>25.0</td>\n",
       "      <td>Kommunal</td>\n",
       "      <td>41</td>\n",
       "      <td>13595</td>\n",
       "      <td>6424</td>\n",
       "      <td>335700</td>\n",
       "      <td>158600</td>\n",
       "      <td>64100</td>\n",
       "      <td>26300</td>\n",
       "      <td>16700</td>\n",
       "      <td>21800</td>\n",
       "      <td>48100</td>\n",
       "    </tr>\n",
       "    <tr>\n",
       "      <th>291</th>\n",
       "      <td>Örkelljunga</td>\n",
       "      <td>1257.0</td>\n",
       "      <td>Skåne län</td>\n",
       "      <td>12.0</td>\n",
       "      <td>Kommunal</td>\n",
       "      <td>56</td>\n",
       "      <td>19474</td>\n",
       "      <td>7235</td>\n",
       "      <td>350900</td>\n",
       "      <td>130400</td>\n",
       "      <td>44100</td>\n",
       "      <td>16100</td>\n",
       "      <td>15100</td>\n",
       "      <td>21620</td>\n",
       "      <td>123600</td>\n",
       "    </tr>\n",
       "    <tr>\n",
       "      <th>172</th>\n",
       "      <td>Orust</td>\n",
       "      <td>1421.0</td>\n",
       "      <td>Västra Götalands län</td>\n",
       "      <td>14.0</td>\n",
       "      <td>Kommunal</td>\n",
       "      <td>19</td>\n",
       "      <td>6509</td>\n",
       "      <td>3295</td>\n",
       "      <td>351800</td>\n",
       "      <td>178100</td>\n",
       "      <td>53100</td>\n",
       "      <td>5600</td>\n",
       "      <td>3000</td>\n",
       "      <td>19410</td>\n",
       "      <td>92600</td>\n",
       "    </tr>\n",
       "    <tr>\n",
       "      <th>87</th>\n",
       "      <td>Höör</td>\n",
       "      <td>1267.0</td>\n",
       "      <td>Skåne län</td>\n",
       "      <td>12.0</td>\n",
       "      <td>Kommunal</td>\n",
       "      <td>20</td>\n",
       "      <td>7358</td>\n",
       "      <td>2976</td>\n",
       "      <td>377300</td>\n",
       "      <td>152600</td>\n",
       "      <td>32200</td>\n",
       "      <td>10800</td>\n",
       "      <td>11900</td>\n",
       "      <td>16770</td>\n",
       "      <td>153000</td>\n",
       "    </tr>\n",
       "    <tr>\n",
       "      <th>206</th>\n",
       "      <td>Storuman</td>\n",
       "      <td>2421.0</td>\n",
       "      <td>Västerbottens län</td>\n",
       "      <td>24.0</td>\n",
       "      <td>Kommunal</td>\n",
       "      <td>46</td>\n",
       "      <td>17438</td>\n",
       "      <td>7413</td>\n",
       "      <td>379100</td>\n",
       "      <td>161200</td>\n",
       "      <td>98900</td>\n",
       "      <td>23700</td>\n",
       "      <td>32800</td>\n",
       "      <td>12070</td>\n",
       "      <td>50600</td>\n",
       "    </tr>\n",
       "    <tr>\n",
       "      <th>26</th>\n",
       "      <td>Dals-Ed</td>\n",
       "      <td>1438.0</td>\n",
       "      <td>Västra Götalands län</td>\n",
       "      <td>14.0</td>\n",
       "      <td>Kommunal</td>\n",
       "      <td>53</td>\n",
       "      <td>20396</td>\n",
       "      <td>8674</td>\n",
       "      <td>384800</td>\n",
       "      <td>163700</td>\n",
       "      <td>46100</td>\n",
       "      <td>22600</td>\n",
       "      <td>3000</td>\n",
       "      <td>22470</td>\n",
       "      <td>126900</td>\n",
       "    </tr>\n",
       "    <tr>\n",
       "      <th>243</th>\n",
       "      <td>Töreboda</td>\n",
       "      <td>1473.0</td>\n",
       "      <td>Västra Götalands län</td>\n",
       "      <td>14.0</td>\n",
       "      <td>Kommunal</td>\n",
       "      <td>22</td>\n",
       "      <td>8723</td>\n",
       "      <td>5279</td>\n",
       "      <td>396500</td>\n",
       "      <td>240000</td>\n",
       "      <td>34200</td>\n",
       "      <td>5700</td>\n",
       "      <td>29300</td>\n",
       "      <td>14450</td>\n",
       "      <td>72900</td>\n",
       "    </tr>\n",
       "    <tr>\n",
       "      <th>31</th>\n",
       "      <td>Ekerö</td>\n",
       "      <td>125.0</td>\n",
       "      <td>Stockholms län</td>\n",
       "      <td>1.0</td>\n",
       "      <td>Kommunal</td>\n",
       "      <td>38</td>\n",
       "      <td>15222</td>\n",
       "      <td>8227</td>\n",
       "      <td>405900</td>\n",
       "      <td>219400</td>\n",
       "      <td>27800</td>\n",
       "      <td>11600</td>\n",
       "      <td>10200</td>\n",
       "      <td>2190</td>\n",
       "      <td>134800</td>\n",
       "    </tr>\n",
       "    <tr>\n",
       "      <th>111</th>\n",
       "      <td>Kumla</td>\n",
       "      <td>1881.0</td>\n",
       "      <td>Örebro län</td>\n",
       "      <td>18.0</td>\n",
       "      <td>Kommunal</td>\n",
       "      <td>33</td>\n",
       "      <td>13655</td>\n",
       "      <td>7868</td>\n",
       "      <td>420200</td>\n",
       "      <td>242100</td>\n",
       "      <td>78600</td>\n",
       "      <td>18100</td>\n",
       "      <td>7800</td>\n",
       "      <td>5020</td>\n",
       "      <td>68500</td>\n",
       "    </tr>\n",
       "    <tr>\n",
       "      <th>219</th>\n",
       "      <td>Säter</td>\n",
       "      <td>2082.0</td>\n",
       "      <td>Dalarnas län</td>\n",
       "      <td>20.0</td>\n",
       "      <td>Kommunal</td>\n",
       "      <td>43</td>\n",
       "      <td>23009</td>\n",
       "      <td>13393</td>\n",
       "      <td>535100</td>\n",
       "      <td>311500</td>\n",
       "      <td>95900</td>\n",
       "      <td>12000</td>\n",
       "      <td>31700</td>\n",
       "      <td>41230</td>\n",
       "      <td>42800</td>\n",
       "    </tr>\n",
       "  </tbody>\n",
       "</table>\n",
       "</div>"
      ],
      "text/plain": [
       "           Kommun  Kommun-kod                   Län  Läns-kod Typ av huvudman  \\\n",
       "201       Sotenäs      1427.0  Västra Götalands län      14.0        Kommunal   \n",
       "125       Lessebo       761.0        Kronobergs län       7.0        Kommunal   \n",
       "296  Östra Göinge      1256.0             Skåne län      12.0        Kommunal   \n",
       "0             Ale      1440.0  Västra Götalands län      14.0        Kommunal   \n",
       "151      Munkedal      1430.0  Västra Götalands län      14.0        Kommunal   \n",
       "225    Sölvesborg      1083.0          Blekinge län      10.0        Kommunal   \n",
       "261    Vilhelmina      2462.0     Västerbottens län      24.0        Kommunal   \n",
       "227         Tibro      1472.0  Västra Götalands län      14.0        Kommunal   \n",
       "24         Burlöv      1231.0             Skåne län      12.0        Kommunal   \n",
       "226         Tanum      1435.0  Västra Götalands län      14.0        Kommunal   \n",
       "5        Arjeplog      2506.0       Norrbottens län      25.0        Kommunal   \n",
       "291   Örkelljunga      1257.0             Skåne län      12.0        Kommunal   \n",
       "172         Orust      1421.0  Västra Götalands län      14.0        Kommunal   \n",
       "87           Höör      1267.0             Skåne län      12.0        Kommunal   \n",
       "206      Storuman      2421.0     Västerbottens län      24.0        Kommunal   \n",
       "26        Dals-Ed      1438.0  Västra Götalands län      14.0        Kommunal   \n",
       "243      Töreboda      1473.0  Västra Götalands län      14.0        Kommunal   \n",
       "31          Ekerö       125.0        Stockholms län       1.0        Kommunal   \n",
       "111         Kumla      1881.0            Örebro län      18.0        Kommunal   \n",
       "219         Säter      2082.0          Dalarnas län      20.0        Kommunal   \n",
       "\n",
       "     Genomsnittligt elevantal  Totalt  Undervisning  Totalt per elev  \\\n",
       "201                        20    5379          3370           269000   \n",
       "125                        41   10947          6307           270300   \n",
       "296                        91   24604         16072           270400   \n",
       "0                         120   32469         17931           270600   \n",
       "151                        54   14728          7864           272700   \n",
       "225                       276   82368         40224           299000   \n",
       "261                       138   41300         24068           299300   \n",
       "227                        20    6079          2508           311700   \n",
       "24                         52   16613          8254           319500   \n",
       "226                        17    5611          2285           330100   \n",
       "5                          41   13595          6424           335700   \n",
       "291                        56   19474          7235           350900   \n",
       "172                        19    6509          3295           351800   \n",
       "87                         20    7358          2976           377300   \n",
       "206                        46   17438          7413           379100   \n",
       "26                         53   20396          8674           384800   \n",
       "243                        22    8723          5279           396500   \n",
       "31                         38   15222          8227           405900   \n",
       "111                        33   13655          7868           420200   \n",
       "219                        43   23009         13393           535100   \n",
       "\n",
       "     Undervisning per elev  Lokaler per elev  Måltider per elev  \\\n",
       "201                 168500             24900               5500   \n",
       "125                 155700             15700              13000   \n",
       "296                 176600             11400               9700   \n",
       "0                   149400             44600               3900   \n",
       "151                 145600             22900              10600   \n",
       "225                 146000             47400              17400   \n",
       "261                 174400             64500              13500   \n",
       "227                 128600             16300               6700   \n",
       "24                  158700             40600               6700   \n",
       "226                 134400             34400              38100   \n",
       "5                   158600             64100              26300   \n",
       "291                 130400             44100              16100   \n",
       "172                 178100             53100               5600   \n",
       "87                  152600             32200              10800   \n",
       "206                 161200             98900              23700   \n",
       "26                  163700             46100              22600   \n",
       "243                 240000             34200               5700   \n",
       "31                  219400             27800              11600   \n",
       "111                 242100             78600              18100   \n",
       "219                 311500             95900              12000   \n",
       "\n",
       "     Lärverktyg per elev  Elevhälsa per elev  Övrigt per elev  \n",
       "201                 9600               11000            49500  \n",
       "125                 6700               26890            52300  \n",
       "296                12900               16980            42800  \n",
       "0                   6300                8880            57400  \n",
       "151                11300                4240            78100  \n",
       "225                20200                7480            60500  \n",
       "261                22700                5090            19100  \n",
       "227                 9200                3130           147800  \n",
       "24                  3200               10630            99700  \n",
       "226                14800               10880            97500  \n",
       "5                  16700               21800            48100  \n",
       "291                15100               21620           123600  \n",
       "172                 3000               19410            92600  \n",
       "87                 11900               16770           153000  \n",
       "206                32800               12070            50600  \n",
       "26                  3000               22470           126900  \n",
       "243                29300               14450            72900  \n",
       "31                 10200                2190           134800  \n",
       "111                 7800                5020            68500  \n",
       "219                31700               41230            42800  "
      ]
     },
     "execution_count": 22,
     "metadata": {},
     "output_type": "execute_result"
    }
   ],
   "source": [
    "df_low10"
   ]
  },
  {
   "cell_type": "code",
   "execution_count": 38,
   "metadata": {},
   "outputs": [
    {
     "data": {
      "text/html": [
       "<div>\n",
       "<style scoped>\n",
       "    .dataframe tbody tr th:only-of-type {\n",
       "        vertical-align: middle;\n",
       "    }\n",
       "\n",
       "    .dataframe tbody tr th {\n",
       "        vertical-align: top;\n",
       "    }\n",
       "\n",
       "    .dataframe thead th {\n",
       "        text-align: right;\n",
       "    }\n",
       "</style>\n",
       "<table border=\"1\" class=\"dataframe\">\n",
       "  <thead>\n",
       "    <tr style=\"text-align: right;\">\n",
       "      <th></th>\n",
       "      <th>Kommun</th>\n",
       "      <th>Kommun-kod</th>\n",
       "      <th>Län</th>\n",
       "      <th>Läns-kod</th>\n",
       "      <th>Typ av huvudman</th>\n",
       "      <th>Totalt antal</th>\n",
       "      <th>Andel (%) med examen</th>\n",
       "      <th>Andel (%) med studiebevis</th>\n",
       "      <th>Andel (%) med grundl. behörighet</th>\n",
       "      <th>Andel (%) med utökat prog.</th>\n",
       "      <th>...</th>\n",
       "      <th>Eng 5</th>\n",
       "      <th>Historia 1</th>\n",
       "      <th>Idrott 1</th>\n",
       "      <th>Ma 1</th>\n",
       "      <th>Na 1</th>\n",
       "      <th>Re 1</th>\n",
       "      <th>Sam 1</th>\n",
       "      <th>Sv 1</th>\n",
       "      <th>Sv andraspr. 1</th>\n",
       "      <th>Gymnarb.</th>\n",
       "    </tr>\n",
       "  </thead>\n",
       "  <tbody>\n",
       "    <tr>\n",
       "      <th>388</th>\n",
       "      <td>Sölvesborg</td>\n",
       "      <td>1083</td>\n",
       "      <td>Blekinge län</td>\n",
       "      <td>10</td>\n",
       "      <td>Samtliga</td>\n",
       "      <td>163</td>\n",
       "      <td>83.4</td>\n",
       "      <td>16.6</td>\n",
       "      <td>58.3</td>\n",
       "      <td>27.6</td>\n",
       "      <td>...</td>\n",
       "      <td>98.8</td>\n",
       "      <td>84.7</td>\n",
       "      <td>93.9</td>\n",
       "      <td>94.5</td>\n",
       "      <td>92.8</td>\n",
       "      <td>84.7</td>\n",
       "      <td>97.5</td>\n",
       "      <td>99.3</td>\n",
       "      <td>100</td>\n",
       "      <td>95.7</td>\n",
       "    </tr>\n",
       "    <tr>\n",
       "      <th>466</th>\n",
       "      <td>Värnamo</td>\n",
       "      <td>683</td>\n",
       "      <td>Jönköpings län</td>\n",
       "      <td>6</td>\n",
       "      <td>Samtliga</td>\n",
       "      <td>322</td>\n",
       "      <td>84.8</td>\n",
       "      <td>15.2</td>\n",
       "      <td>67.1</td>\n",
       "      <td>42.2</td>\n",
       "      <td>...</td>\n",
       "      <td>97.5</td>\n",
       "      <td>99.4</td>\n",
       "      <td>95.3</td>\n",
       "      <td>96.9</td>\n",
       "      <td>97.1</td>\n",
       "      <td>96.9</td>\n",
       "      <td>97.8</td>\n",
       "      <td>97.9</td>\n",
       "      <td>100</td>\n",
       "      <td>95.3</td>\n",
       "    </tr>\n",
       "    <tr>\n",
       "      <th>191</th>\n",
       "      <td>Kungälv</td>\n",
       "      <td>1482</td>\n",
       "      <td>Västra Götalands län</td>\n",
       "      <td>14</td>\n",
       "      <td>Samtliga</td>\n",
       "      <td>454</td>\n",
       "      <td>86.8</td>\n",
       "      <td>13.2</td>\n",
       "      <td>66.5</td>\n",
       "      <td>29.7</td>\n",
       "      <td>...</td>\n",
       "      <td>98.9</td>\n",
       "      <td>96.7</td>\n",
       "      <td>94.1</td>\n",
       "      <td>98.2</td>\n",
       "      <td>96.5</td>\n",
       "      <td>93.4</td>\n",
       "      <td>99.8</td>\n",
       "      <td>98.8</td>\n",
       "      <td>100</td>\n",
       "      <td>96.3</td>\n",
       "    </tr>\n",
       "    <tr>\n",
       "      <th>180</th>\n",
       "      <td>Kristianstad</td>\n",
       "      <td>1290</td>\n",
       "      <td>Skåne län</td>\n",
       "      <td>12</td>\n",
       "      <td>Samtliga</td>\n",
       "      <td>1187</td>\n",
       "      <td>88.5</td>\n",
       "      <td>11.5</td>\n",
       "      <td>61.7</td>\n",
       "      <td>26.9</td>\n",
       "      <td>...</td>\n",
       "      <td>98.5</td>\n",
       "      <td>93.8</td>\n",
       "      <td>96.4</td>\n",
       "      <td>98.2</td>\n",
       "      <td>95.7</td>\n",
       "      <td>93.5</td>\n",
       "      <td>96.8</td>\n",
       "      <td>99.4</td>\n",
       "      <td>97.5</td>\n",
       "      <td>96.8</td>\n",
       "    </tr>\n",
       "    <tr>\n",
       "      <th>339</th>\n",
       "      <td>Solna</td>\n",
       "      <td>184</td>\n",
       "      <td>Stockholms län</td>\n",
       "      <td>1</td>\n",
       "      <td>Samtliga</td>\n",
       "      <td>796</td>\n",
       "      <td>88.8</td>\n",
       "      <td>11.2</td>\n",
       "      <td>83.4</td>\n",
       "      <td>16.3</td>\n",
       "      <td>...</td>\n",
       "      <td>99.7</td>\n",
       "      <td>95.7</td>\n",
       "      <td>97.5</td>\n",
       "      <td>99.2</td>\n",
       "      <td>94.7</td>\n",
       "      <td>95.7</td>\n",
       "      <td>98.4</td>\n",
       "      <td>99.7</td>\n",
       "      <td>100</td>\n",
       "      <td>97</td>\n",
       "    </tr>\n",
       "    <tr>\n",
       "      <th>254</th>\n",
       "      <td>Munkedal</td>\n",
       "      <td>1430</td>\n",
       "      <td>Västra Götalands län</td>\n",
       "      <td>14</td>\n",
       "      <td>Samtliga</td>\n",
       "      <td>57</td>\n",
       "      <td>89.5</td>\n",
       "      <td>..</td>\n",
       "      <td>..</td>\n",
       "      <td>19.3</td>\n",
       "      <td>...</td>\n",
       "      <td>98.2</td>\n",
       "      <td>91.2</td>\n",
       "      <td>91.2</td>\n",
       "      <td>100</td>\n",
       "      <td>80.7</td>\n",
       "      <td>68.4</td>\n",
       "      <td>84.2</td>\n",
       "      <td>98.2</td>\n",
       "      <td>..</td>\n",
       "      <td>96.5</td>\n",
       "    </tr>\n",
       "    <tr>\n",
       "      <th>446</th>\n",
       "      <td>Varberg</td>\n",
       "      <td>1383</td>\n",
       "      <td>Hallands län</td>\n",
       "      <td>13</td>\n",
       "      <td>Samtliga</td>\n",
       "      <td>659</td>\n",
       "      <td>89.7</td>\n",
       "      <td>10.3</td>\n",
       "      <td>66.5</td>\n",
       "      <td>29.3</td>\n",
       "      <td>...</td>\n",
       "      <td>98.8</td>\n",
       "      <td>95.1</td>\n",
       "      <td>95.6</td>\n",
       "      <td>97.6</td>\n",
       "      <td>91.8</td>\n",
       "      <td>94.5</td>\n",
       "      <td>94.7</td>\n",
       "      <td>99.8</td>\n",
       "      <td>100</td>\n",
       "      <td>97.1</td>\n",
       "    </tr>\n",
       "    <tr>\n",
       "      <th>41</th>\n",
       "      <td>Danderyd</td>\n",
       "      <td>162</td>\n",
       "      <td>Stockholms län</td>\n",
       "      <td>1</td>\n",
       "      <td>Samtliga</td>\n",
       "      <td>716</td>\n",
       "      <td>89.9</td>\n",
       "      <td>10.1</td>\n",
       "      <td>88.1</td>\n",
       "      <td>15.4</td>\n",
       "      <td>...</td>\n",
       "      <td>99.6</td>\n",
       "      <td>98.5</td>\n",
       "      <td>99.9</td>\n",
       "      <td>99.6</td>\n",
       "      <td>99.8</td>\n",
       "      <td>96.6</td>\n",
       "      <td>98</td>\n",
       "      <td>99.7</td>\n",
       "      <td>100</td>\n",
       "      <td>98.2</td>\n",
       "    </tr>\n",
       "    <tr>\n",
       "      <th>28</th>\n",
       "      <td>Borås</td>\n",
       "      <td>1490</td>\n",
       "      <td>Västra Götalands län</td>\n",
       "      <td>14</td>\n",
       "      <td>Samtliga</td>\n",
       "      <td>1338</td>\n",
       "      <td>90.8</td>\n",
       "      <td>9.2</td>\n",
       "      <td>66.7</td>\n",
       "      <td>28.5</td>\n",
       "      <td>...</td>\n",
       "      <td>99.4</td>\n",
       "      <td>94.9</td>\n",
       "      <td>96.6</td>\n",
       "      <td>98.8</td>\n",
       "      <td>96</td>\n",
       "      <td>94.4</td>\n",
       "      <td>96.6</td>\n",
       "      <td>99.8</td>\n",
       "      <td>100</td>\n",
       "      <td>96.9</td>\n",
       "    </tr>\n",
       "    <tr>\n",
       "      <th>89</th>\n",
       "      <td>Gävle</td>\n",
       "      <td>2180</td>\n",
       "      <td>Gävleborgs län</td>\n",
       "      <td>21</td>\n",
       "      <td>Samtliga</td>\n",
       "      <td>1314</td>\n",
       "      <td>91.3</td>\n",
       "      <td>8.7</td>\n",
       "      <td>63.2</td>\n",
       "      <td>22.3</td>\n",
       "      <td>...</td>\n",
       "      <td>98.9</td>\n",
       "      <td>96.6</td>\n",
       "      <td>95.5</td>\n",
       "      <td>98.2</td>\n",
       "      <td>94.2</td>\n",
       "      <td>95</td>\n",
       "      <td>95.9</td>\n",
       "      <td>99.4</td>\n",
       "      <td>98.1</td>\n",
       "      <td>96.7</td>\n",
       "    </tr>\n",
       "    <tr>\n",
       "      <th>419</th>\n",
       "      <td>Töreboda</td>\n",
       "      <td>1473</td>\n",
       "      <td>Västra Götalands län</td>\n",
       "      <td>14</td>\n",
       "      <td>Samtliga</td>\n",
       "      <td>69</td>\n",
       "      <td>91.3</td>\n",
       "      <td>..</td>\n",
       "      <td>33.3</td>\n",
       "      <td>40.6</td>\n",
       "      <td>...</td>\n",
       "      <td>98.6</td>\n",
       "      <td>98.6</td>\n",
       "      <td>100</td>\n",
       "      <td>95.7</td>\n",
       "      <td>98.6</td>\n",
       "      <td>87</td>\n",
       "      <td>98.6</td>\n",
       "      <td>98.6</td>\n",
       "      <td>.</td>\n",
       "      <td>98.6</td>\n",
       "    </tr>\n",
       "    <tr>\n",
       "      <th>148</th>\n",
       "      <td>Jönköping</td>\n",
       "      <td>680</td>\n",
       "      <td>Jönköpings län</td>\n",
       "      <td>6</td>\n",
       "      <td>Samtliga</td>\n",
       "      <td>1717</td>\n",
       "      <td>92.4</td>\n",
       "      <td>7.6</td>\n",
       "      <td>71.8</td>\n",
       "      <td>28.9</td>\n",
       "      <td>...</td>\n",
       "      <td>99.7</td>\n",
       "      <td>96.7</td>\n",
       "      <td>96.6</td>\n",
       "      <td>99.1</td>\n",
       "      <td>94.9</td>\n",
       "      <td>95.7</td>\n",
       "      <td>97.3</td>\n",
       "      <td>99.9</td>\n",
       "      <td>100</td>\n",
       "      <td>96.8</td>\n",
       "    </tr>\n",
       "    <tr>\n",
       "      <th>0</th>\n",
       "      <td>Ale</td>\n",
       "      <td>1440</td>\n",
       "      <td>Västra Götalands län</td>\n",
       "      <td>14</td>\n",
       "      <td>Samtliga</td>\n",
       "      <td>83</td>\n",
       "      <td>92.8</td>\n",
       "      <td>..</td>\n",
       "      <td>14.5</td>\n",
       "      <td>.</td>\n",
       "      <td>...</td>\n",
       "      <td>96.4</td>\n",
       "      <td>95.2</td>\n",
       "      <td>97.6</td>\n",
       "      <td>100</td>\n",
       "      <td>83.1</td>\n",
       "      <td>78.3</td>\n",
       "      <td>91.6</td>\n",
       "      <td>97.4</td>\n",
       "      <td>..</td>\n",
       "      <td>97.6</td>\n",
       "    </tr>\n",
       "    <tr>\n",
       "      <th>226</th>\n",
       "      <td>Lund</td>\n",
       "      <td>1281</td>\n",
       "      <td>Skåne län</td>\n",
       "      <td>12</td>\n",
       "      <td>Samtliga</td>\n",
       "      <td>2912</td>\n",
       "      <td>93.5</td>\n",
       "      <td>6.5</td>\n",
       "      <td>84.3</td>\n",
       "      <td>23.9</td>\n",
       "      <td>...</td>\n",
       "      <td>99.4</td>\n",
       "      <td>97.5</td>\n",
       "      <td>97.7</td>\n",
       "      <td>99.3</td>\n",
       "      <td>95.9</td>\n",
       "      <td>96.9</td>\n",
       "      <td>98.6</td>\n",
       "      <td>99.8</td>\n",
       "      <td>96.6</td>\n",
       "      <td>97.5</td>\n",
       "    </tr>\n",
       "    <tr>\n",
       "      <th>132</th>\n",
       "      <td>Härryda</td>\n",
       "      <td>1401</td>\n",
       "      <td>Västra Götalands län</td>\n",
       "      <td>14</td>\n",
       "      <td>Samtliga</td>\n",
       "      <td>616</td>\n",
       "      <td>93.7</td>\n",
       "      <td>6.3</td>\n",
       "      <td>87</td>\n",
       "      <td>16.1</td>\n",
       "      <td>...</td>\n",
       "      <td>99.8</td>\n",
       "      <td>98.4</td>\n",
       "      <td>99.5</td>\n",
       "      <td>99</td>\n",
       "      <td>97.4</td>\n",
       "      <td>96.1</td>\n",
       "      <td>97.9</td>\n",
       "      <td>99.8</td>\n",
       "      <td>..</td>\n",
       "      <td>98.7</td>\n",
       "    </tr>\n",
       "    <tr>\n",
       "      <th>119</th>\n",
       "      <td>Hudiksvall</td>\n",
       "      <td>2184</td>\n",
       "      <td>Gävleborgs län</td>\n",
       "      <td>21</td>\n",
       "      <td>Samtliga</td>\n",
       "      <td>435</td>\n",
       "      <td>93.8</td>\n",
       "      <td>6.2</td>\n",
       "      <td>72</td>\n",
       "      <td>34</td>\n",
       "      <td>...</td>\n",
       "      <td>98.2</td>\n",
       "      <td>98.2</td>\n",
       "      <td>98.2</td>\n",
       "      <td>99.3</td>\n",
       "      <td>95.6</td>\n",
       "      <td>96.1</td>\n",
       "      <td>99.5</td>\n",
       "      <td>99.8</td>\n",
       "      <td>100</td>\n",
       "      <td>97.5</td>\n",
       "    </tr>\n",
       "    <tr>\n",
       "      <th>403</th>\n",
       "      <td>Torsås</td>\n",
       "      <td>834</td>\n",
       "      <td>Kalmar län</td>\n",
       "      <td>8</td>\n",
       "      <td>Samtliga</td>\n",
       "      <td>147</td>\n",
       "      <td>93.9</td>\n",
       "      <td>..</td>\n",
       "      <td>93.9</td>\n",
       "      <td>..</td>\n",
       "      <td>...</td>\n",
       "      <td>100</td>\n",
       "      <td>99.3</td>\n",
       "      <td>98</td>\n",
       "      <td>100</td>\n",
       "      <td>99.2</td>\n",
       "      <td>99.3</td>\n",
       "      <td>99.3</td>\n",
       "      <td>100</td>\n",
       "      <td>..</td>\n",
       "      <td>95.9</td>\n",
       "    </tr>\n",
       "    <tr>\n",
       "      <th>201</th>\n",
       "      <td>Lerum</td>\n",
       "      <td>1441</td>\n",
       "      <td>Västra Götalands län</td>\n",
       "      <td>14</td>\n",
       "      <td>Samtliga</td>\n",
       "      <td>366</td>\n",
       "      <td>95.1</td>\n",
       "      <td>4.9</td>\n",
       "      <td>79.5</td>\n",
       "      <td>27.3</td>\n",
       "      <td>...</td>\n",
       "      <td>99.5</td>\n",
       "      <td>96.7</td>\n",
       "      <td>96.2</td>\n",
       "      <td>99.7</td>\n",
       "      <td>98.4</td>\n",
       "      <td>94.5</td>\n",
       "      <td>99.2</td>\n",
       "      <td>100</td>\n",
       "      <td>..</td>\n",
       "      <td>98.1</td>\n",
       "    </tr>\n",
       "    <tr>\n",
       "      <th>261</th>\n",
       "      <td>Nacka</td>\n",
       "      <td>182</td>\n",
       "      <td>Stockholms län</td>\n",
       "      <td>1</td>\n",
       "      <td>Samtliga</td>\n",
       "      <td>1771</td>\n",
       "      <td>95.2</td>\n",
       "      <td>4.8</td>\n",
       "      <td>89.1</td>\n",
       "      <td>13.4</td>\n",
       "      <td>...</td>\n",
       "      <td>99.8</td>\n",
       "      <td>97.5</td>\n",
       "      <td>97.4</td>\n",
       "      <td>99.5</td>\n",
       "      <td>97.1</td>\n",
       "      <td>96.9</td>\n",
       "      <td>98.9</td>\n",
       "      <td>99.7</td>\n",
       "      <td>85.7</td>\n",
       "      <td>98.5</td>\n",
       "    </tr>\n",
       "    <tr>\n",
       "      <th>450</th>\n",
       "      <td>Vellinge</td>\n",
       "      <td>1233</td>\n",
       "      <td>Skåne län</td>\n",
       "      <td>12</td>\n",
       "      <td>Samtliga</td>\n",
       "      <td>239</td>\n",
       "      <td>95.4</td>\n",
       "      <td>4.6</td>\n",
       "      <td>95.4</td>\n",
       "      <td>19.7</td>\n",
       "      <td>...</td>\n",
       "      <td>100</td>\n",
       "      <td>99.2</td>\n",
       "      <td>100</td>\n",
       "      <td>100</td>\n",
       "      <td>100</td>\n",
       "      <td>99.6</td>\n",
       "      <td>100</td>\n",
       "      <td>100</td>\n",
       "      <td>..</td>\n",
       "      <td>97.1</td>\n",
       "    </tr>\n",
       "    <tr>\n",
       "      <th>336</th>\n",
       "      <td>Sollentuna</td>\n",
       "      <td>163</td>\n",
       "      <td>Stockholms län</td>\n",
       "      <td>1</td>\n",
       "      <td>Samtliga</td>\n",
       "      <td>872</td>\n",
       "      <td>96.0</td>\n",
       "      <td>4</td>\n",
       "      <td>86.9</td>\n",
       "      <td>13</td>\n",
       "      <td>...</td>\n",
       "      <td>100</td>\n",
       "      <td>99</td>\n",
       "      <td>98.7</td>\n",
       "      <td>99.4</td>\n",
       "      <td>97.6</td>\n",
       "      <td>98.9</td>\n",
       "      <td>100</td>\n",
       "      <td>99.9</td>\n",
       "      <td>98.7</td>\n",
       "      <td>99.2</td>\n",
       "    </tr>\n",
       "    <tr>\n",
       "      <th>203</th>\n",
       "      <td>Lidingö</td>\n",
       "      <td>186</td>\n",
       "      <td>Stockholms län</td>\n",
       "      <td>1</td>\n",
       "      <td>Samtliga</td>\n",
       "      <td>320</td>\n",
       "      <td>96.3</td>\n",
       "      <td>3.8</td>\n",
       "      <td>96.3</td>\n",
       "      <td>20.6</td>\n",
       "      <td>...</td>\n",
       "      <td>100</td>\n",
       "      <td>99.4</td>\n",
       "      <td>99.1</td>\n",
       "      <td>100</td>\n",
       "      <td>99.5</td>\n",
       "      <td>98.8</td>\n",
       "      <td>99.7</td>\n",
       "      <td>100</td>\n",
       "      <td>..</td>\n",
       "      <td>99.7</td>\n",
       "    </tr>\n",
       "    <tr>\n",
       "      <th>454</th>\n",
       "      <td>Vilhelmina</td>\n",
       "      <td>2462</td>\n",
       "      <td>Västerbottens län</td>\n",
       "      <td>24</td>\n",
       "      <td>Samtliga</td>\n",
       "      <td>74</td>\n",
       "      <td>97.3</td>\n",
       "      <td>..</td>\n",
       "      <td>39.2</td>\n",
       "      <td>27</td>\n",
       "      <td>...</td>\n",
       "      <td>100</td>\n",
       "      <td>100</td>\n",
       "      <td>98.6</td>\n",
       "      <td>100</td>\n",
       "      <td>98.3</td>\n",
       "      <td>100</td>\n",
       "      <td>98.6</td>\n",
       "      <td>100</td>\n",
       "      <td>..</td>\n",
       "      <td>100</td>\n",
       "    </tr>\n",
       "    <tr>\n",
       "      <th>416</th>\n",
       "      <td>Täby</td>\n",
       "      <td>160</td>\n",
       "      <td>Stockholms län</td>\n",
       "      <td>1</td>\n",
       "      <td>Samtliga</td>\n",
       "      <td>1407</td>\n",
       "      <td>97.6</td>\n",
       "      <td>2.4</td>\n",
       "      <td>91.1</td>\n",
       "      <td>12.3</td>\n",
       "      <td>...</td>\n",
       "      <td>99.6</td>\n",
       "      <td>99.4</td>\n",
       "      <td>98.4</td>\n",
       "      <td>99.3</td>\n",
       "      <td>99.2</td>\n",
       "      <td>97.9</td>\n",
       "      <td>99.1</td>\n",
       "      <td>99.8</td>\n",
       "      <td>100</td>\n",
       "      <td>99.4</td>\n",
       "    </tr>\n",
       "    <tr>\n",
       "      <th>463</th>\n",
       "      <td>Värmdö</td>\n",
       "      <td>120</td>\n",
       "      <td>Stockholms län</td>\n",
       "      <td>1</td>\n",
       "      <td>Samtliga</td>\n",
       "      <td>450</td>\n",
       "      <td>97.8</td>\n",
       "      <td>2.2</td>\n",
       "      <td>90</td>\n",
       "      <td>17.3</td>\n",
       "      <td>...</td>\n",
       "      <td>99.8</td>\n",
       "      <td>99.1</td>\n",
       "      <td>98.4</td>\n",
       "      <td>99.8</td>\n",
       "      <td>97</td>\n",
       "      <td>98.7</td>\n",
       "      <td>99.8</td>\n",
       "      <td>100</td>\n",
       "      <td>100</td>\n",
       "      <td>99.3</td>\n",
       "    </tr>\n",
       "    <tr>\n",
       "      <th>351</th>\n",
       "      <td>Storuman</td>\n",
       "      <td>2421</td>\n",
       "      <td>Västerbottens län</td>\n",
       "      <td>24</td>\n",
       "      <td>Samtliga</td>\n",
       "      <td>17</td>\n",
       "      <td>100.0</td>\n",
       "      <td>.</td>\n",
       "      <td>70.6</td>\n",
       "      <td>58.8</td>\n",
       "      <td>...</td>\n",
       "      <td>100</td>\n",
       "      <td>100</td>\n",
       "      <td>100</td>\n",
       "      <td>100</td>\n",
       "      <td>100</td>\n",
       "      <td>100</td>\n",
       "      <td>100</td>\n",
       "      <td>100</td>\n",
       "      <td>.</td>\n",
       "      <td>100</td>\n",
       "    </tr>\n",
       "    <tr>\n",
       "      <th>7</th>\n",
       "      <td>Arjeplog</td>\n",
       "      <td>2506</td>\n",
       "      <td>Norrbottens län</td>\n",
       "      <td>25</td>\n",
       "      <td>Samtliga</td>\n",
       "      <td>15</td>\n",
       "      <td>100.0</td>\n",
       "      <td>.</td>\n",
       "      <td>73.3</td>\n",
       "      <td>..</td>\n",
       "      <td>...</td>\n",
       "      <td>100</td>\n",
       "      <td>100</td>\n",
       "      <td>93.3</td>\n",
       "      <td>100</td>\n",
       "      <td>91.7</td>\n",
       "      <td>100</td>\n",
       "      <td>100</td>\n",
       "      <td>100</td>\n",
       "      <td>..</td>\n",
       "      <td>100</td>\n",
       "    </tr>\n",
       "    <tr>\n",
       "      <th>505</th>\n",
       "      <td>Örkelljunga</td>\n",
       "      <td>1257</td>\n",
       "      <td>Skåne län</td>\n",
       "      <td>12</td>\n",
       "      <td>Samtliga</td>\n",
       "      <td>10</td>\n",
       "      <td>100.0</td>\n",
       "      <td>.</td>\n",
       "      <td>100</td>\n",
       "      <td>..</td>\n",
       "      <td>...</td>\n",
       "      <td>100</td>\n",
       "      <td>100</td>\n",
       "      <td>100</td>\n",
       "      <td>100</td>\n",
       "      <td>..</td>\n",
       "      <td>100</td>\n",
       "      <td>100</td>\n",
       "      <td>..</td>\n",
       "      <td>..</td>\n",
       "      <td>100</td>\n",
       "    </tr>\n",
       "  </tbody>\n",
       "</table>\n",
       "<p>28 rows × 22 columns</p>\n",
       "</div>"
      ],
      "text/plain": [
       "           Kommun  Kommun-kod                   Län  Läns-kod Typ av huvudman  \\\n",
       "388    Sölvesborg        1083          Blekinge län        10        Samtliga   \n",
       "466       Värnamo         683        Jönköpings län         6        Samtliga   \n",
       "191       Kungälv        1482  Västra Götalands län        14        Samtliga   \n",
       "180  Kristianstad        1290             Skåne län        12        Samtliga   \n",
       "339         Solna         184        Stockholms län         1        Samtliga   \n",
       "254      Munkedal        1430  Västra Götalands län        14        Samtliga   \n",
       "446       Varberg        1383          Hallands län        13        Samtliga   \n",
       "41       Danderyd         162        Stockholms län         1        Samtliga   \n",
       "28          Borås        1490  Västra Götalands län        14        Samtliga   \n",
       "89          Gävle        2180        Gävleborgs län        21        Samtliga   \n",
       "419      Töreboda        1473  Västra Götalands län        14        Samtliga   \n",
       "148     Jönköping         680        Jönköpings län         6        Samtliga   \n",
       "0             Ale        1440  Västra Götalands län        14        Samtliga   \n",
       "226          Lund        1281             Skåne län        12        Samtliga   \n",
       "132       Härryda        1401  Västra Götalands län        14        Samtliga   \n",
       "119    Hudiksvall        2184        Gävleborgs län        21        Samtliga   \n",
       "403        Torsås         834            Kalmar län         8        Samtliga   \n",
       "201         Lerum        1441  Västra Götalands län        14        Samtliga   \n",
       "261         Nacka         182        Stockholms län         1        Samtliga   \n",
       "450      Vellinge        1233             Skåne län        12        Samtliga   \n",
       "336    Sollentuna         163        Stockholms län         1        Samtliga   \n",
       "203       Lidingö         186        Stockholms län         1        Samtliga   \n",
       "454    Vilhelmina        2462     Västerbottens län        24        Samtliga   \n",
       "416          Täby         160        Stockholms län         1        Samtliga   \n",
       "463        Värmdö         120        Stockholms län         1        Samtliga   \n",
       "351      Storuman        2421     Västerbottens län        24        Samtliga   \n",
       "7        Arjeplog        2506       Norrbottens län        25        Samtliga   \n",
       "505   Örkelljunga        1257             Skåne län        12        Samtliga   \n",
       "\n",
       "    Totalt antal  Andel (%) med examen Andel (%) med studiebevis  \\\n",
       "388          163                  83.4                      16.6   \n",
       "466          322                  84.8                      15.2   \n",
       "191          454                  86.8                      13.2   \n",
       "180         1187                  88.5                      11.5   \n",
       "339          796                  88.8                      11.2   \n",
       "254           57                  89.5                        ..   \n",
       "446          659                  89.7                      10.3   \n",
       "41           716                  89.9                      10.1   \n",
       "28          1338                  90.8                       9.2   \n",
       "89          1314                  91.3                       8.7   \n",
       "419           69                  91.3                        ..   \n",
       "148         1717                  92.4                       7.6   \n",
       "0             83                  92.8                        ..   \n",
       "226         2912                  93.5                       6.5   \n",
       "132          616                  93.7                       6.3   \n",
       "119          435                  93.8                       6.2   \n",
       "403          147                  93.9                        ..   \n",
       "201          366                  95.1                       4.9   \n",
       "261         1771                  95.2                       4.8   \n",
       "450          239                  95.4                       4.6   \n",
       "336          872                  96.0                         4   \n",
       "203          320                  96.3                       3.8   \n",
       "454           74                  97.3                        ..   \n",
       "416         1407                  97.6                       2.4   \n",
       "463          450                  97.8                       2.2   \n",
       "351           17                 100.0                         .   \n",
       "7             15                 100.0                         .   \n",
       "505           10                 100.0                         .   \n",
       "\n",
       "    Andel (%) med grundl. behörighet Andel (%) med utökat prog.  ... Eng 5  \\\n",
       "388                             58.3                       27.6  ...  98.8   \n",
       "466                             67.1                       42.2  ...  97.5   \n",
       "191                             66.5                       29.7  ...  98.9   \n",
       "180                             61.7                       26.9  ...  98.5   \n",
       "339                             83.4                       16.3  ...  99.7   \n",
       "254                               ..                       19.3  ...  98.2   \n",
       "446                             66.5                       29.3  ...  98.8   \n",
       "41                              88.1                       15.4  ...  99.6   \n",
       "28                              66.7                       28.5  ...  99.4   \n",
       "89                              63.2                       22.3  ...  98.9   \n",
       "419                             33.3                       40.6  ...  98.6   \n",
       "148                             71.8                       28.9  ...  99.7   \n",
       "0                               14.5                          .  ...  96.4   \n",
       "226                             84.3                       23.9  ...  99.4   \n",
       "132                               87                       16.1  ...  99.8   \n",
       "119                               72                         34  ...  98.2   \n",
       "403                             93.9                         ..  ...   100   \n",
       "201                             79.5                       27.3  ...  99.5   \n",
       "261                             89.1                       13.4  ...  99.8   \n",
       "450                             95.4                       19.7  ...   100   \n",
       "336                             86.9                         13  ...   100   \n",
       "203                             96.3                       20.6  ...   100   \n",
       "454                             39.2                         27  ...   100   \n",
       "416                             91.1                       12.3  ...  99.6   \n",
       "463                               90                       17.3  ...  99.8   \n",
       "351                             70.6                       58.8  ...   100   \n",
       "7                               73.3                         ..  ...   100   \n",
       "505                              100                         ..  ...   100   \n",
       "\n",
       "    Historia 1 Idrott 1  Ma 1  Na 1  Re 1 Sam 1  Sv 1 Sv andraspr. 1 Gymnarb.  \n",
       "388       84.7     93.9  94.5  92.8  84.7  97.5  99.3            100     95.7  \n",
       "466       99.4     95.3  96.9  97.1  96.9  97.8  97.9            100     95.3  \n",
       "191       96.7     94.1  98.2  96.5  93.4  99.8  98.8            100     96.3  \n",
       "180       93.8     96.4  98.2  95.7  93.5  96.8  99.4           97.5     96.8  \n",
       "339       95.7     97.5  99.2  94.7  95.7  98.4  99.7            100       97  \n",
       "254       91.2     91.2   100  80.7  68.4  84.2  98.2             ..     96.5  \n",
       "446       95.1     95.6  97.6  91.8  94.5  94.7  99.8            100     97.1  \n",
       "41        98.5     99.9  99.6  99.8  96.6    98  99.7            100     98.2  \n",
       "28        94.9     96.6  98.8    96  94.4  96.6  99.8            100     96.9  \n",
       "89        96.6     95.5  98.2  94.2    95  95.9  99.4           98.1     96.7  \n",
       "419       98.6      100  95.7  98.6    87  98.6  98.6              .     98.6  \n",
       "148       96.7     96.6  99.1  94.9  95.7  97.3  99.9            100     96.8  \n",
       "0         95.2     97.6   100  83.1  78.3  91.6  97.4             ..     97.6  \n",
       "226       97.5     97.7  99.3  95.9  96.9  98.6  99.8           96.6     97.5  \n",
       "132       98.4     99.5    99  97.4  96.1  97.9  99.8             ..     98.7  \n",
       "119       98.2     98.2  99.3  95.6  96.1  99.5  99.8            100     97.5  \n",
       "403       99.3       98   100  99.2  99.3  99.3   100             ..     95.9  \n",
       "201       96.7     96.2  99.7  98.4  94.5  99.2   100             ..     98.1  \n",
       "261       97.5     97.4  99.5  97.1  96.9  98.9  99.7           85.7     98.5  \n",
       "450       99.2      100   100   100  99.6   100   100             ..     97.1  \n",
       "336         99     98.7  99.4  97.6  98.9   100  99.9           98.7     99.2  \n",
       "203       99.4     99.1   100  99.5  98.8  99.7   100             ..     99.7  \n",
       "454        100     98.6   100  98.3   100  98.6   100             ..      100  \n",
       "416       99.4     98.4  99.3  99.2  97.9  99.1  99.8            100     99.4  \n",
       "463       99.1     98.4  99.8    97  98.7  99.8   100            100     99.3  \n",
       "351        100      100   100   100   100   100   100              .      100  \n",
       "7          100     93.3   100  91.7   100   100   100             ..      100  \n",
       "505        100      100   100    ..   100   100    ..             ..      100  \n",
       "\n",
       "[28 rows x 22 columns]"
      ]
     },
     "execution_count": 38,
     "metadata": {},
     "output_type": "execute_result"
    }
   ],
   "source": [
    "df_sel_nat"
   ]
  },
  {
   "cell_type": "code",
   "execution_count": null,
   "metadata": {},
   "outputs": [],
   "source": []
  }
 ],
 "metadata": {
  "kernelspec": {
   "display_name": "venv",
   "language": "python",
   "name": "python3"
  },
  "language_info": {
   "codemirror_mode": {
    "name": "ipython",
    "version": 3
   },
   "file_extension": ".py",
   "mimetype": "text/x-python",
   "name": "python",
   "nbconvert_exporter": "python",
   "pygments_lexer": "ipython3",
   "version": "3.11.7"
  }
 },
 "nbformat": 4,
 "nbformat_minor": 2
}
